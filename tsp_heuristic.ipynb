{
 "cells": [
  {
   "cell_type": "code",
   "execution_count": 1,
   "metadata": {},
   "outputs": [],
   "source": [
    "using CSV, DataFrames, Distances, DelimitedFiles"
   ]
  },
  {
   "cell_type": "code",
   "execution_count": 2,
   "metadata": {},
   "outputs": [
    {
     "data": {
      "text/plain": [
       "0.0"
      ]
     },
     "execution_count": 2,
     "metadata": {},
     "output_type": "execute_result"
    }
   ],
   "source": [
    "vcattime = 0.0\n",
    "starttime = 0.0"
   ]
  },
  {
   "cell_type": "code",
   "execution_count": 3,
   "metadata": {},
   "outputs": [],
   "source": [
    "mutable struct Score\n",
    "    value :: Float64\n",
    "    dist_path :: Vector{Float64}\n",
    "    scaled_dist_path ::  Vector{Float64}\n",
    "end"
   ]
  },
  {
   "cell_type": "code",
   "execution_count": 4,
   "metadata": {},
   "outputs": [],
   "source": [
    "mutable struct Cities\n",
    "    xy :: Array{Float64,2}\n",
    "    nprimes :: Vector{Float64}\n",
    "end"
   ]
  },
  {
   "cell_type": "code",
   "execution_count": 5,
   "metadata": {},
   "outputs": [
    {
     "data": {
      "text/plain": [
       "get_score (generic function with 1 method)"
      ]
     },
     "execution_count": 5,
     "metadata": {},
     "output_type": "execute_result"
    }
   ],
   "source": [
    "function get_score(cities, subm_path)\n",
    "    global distdict\n",
    "    all_ids = cities[:CityId]\n",
    "    all_x = cities[:X]\n",
    "    all_y = cities[:Y]\n",
    "\n",
    "    score = 0.0\n",
    "    p1 = Vector{Int}()\n",
    "    p2 = Vector{Int}()\n",
    "    for i in 1:length(subm_path)-1\n",
    "        c_idx = subm_path[i]+1\n",
    "        n_idx = subm_path[i+1]+1\n",
    "        p1 = [all_x[c_idx],all_y[c_idx]]\n",
    "        p2 = [all_x[n_idx],all_y[n_idx]]\n",
    "        stepSize = euclidean(p1,p2)\n",
    "        if i % 10 == 0 && !cities[:primes][subm_path[i]+1]\n",
    "            stepSize *= 1.1\n",
    "        end\n",
    "#         println(stepSize)\n",
    "        score += stepSize\n",
    "    end\n",
    "    return score\n",
    "end"
   ]
  },
  {
   "cell_type": "code",
   "execution_count": 18,
   "metadata": {},
   "outputs": [
    {
     "data": {
      "text/plain": [
       "calc_score (generic function with 1 method)"
      ]
     },
     "execution_count": 18,
     "metadata": {},
     "output_type": "execute_result"
    }
   ],
   "source": [
    "function calc_score(cities, list_path, tenth)\n",
    "    xy_cities = cities.xy\n",
    "    len_path     = length(list_path)\n",
    "    # Calc Distance\n",
    "    xy_path   = xy_cities[list_path,:]\n",
    "    dist_path = sqrt.(sum((xy_path[1:end-1,:] .- xy_path[2:end,:]).^2; dims=2))[:,1]\n",
    "    \n",
    "    # List of Primes 0 to (len_path-1)\n",
    "    # Flag array, is path's from-city number non-prime?\n",
    "    is_path_from_non_prime   = cities.nprimes[list_path][1:end-1]   \n",
    "    # If both flags are true, *1.1, else * 1.0\n",
    "    result = dist_path .* (1.0 .+ 0.1 .* is_path_from_non_prime .* tenth)\n",
    "    return Score(sum(result), dist_path, result)\n",
    "end"
   ]
  },
  {
   "cell_type": "code",
   "execution_count": 50,
   "metadata": {},
   "outputs": [
    {
     "data": {
      "text/plain": [
       "calc_score_reverse (generic function with 1 method)"
      ]
     },
     "execution_count": 50,
     "metadata": {},
     "output_type": "execute_result"
    }
   ],
   "source": [
    "function calc_score_reverse(cities, list_path, tenth, normal_dist_path, reversed_dist_path, low, high)\n",
    "    global vcattime, starttime\n",
    "    t = time()\n",
    "    xy_cities = cities.xy\n",
    "    starttime += time()-t\n",
    "    len_path  = length(list_path)\n",
    "    # Calc Distance\n",
    "    @views xy_path   = xy_cities[list_path,:]\n",
    "    \n",
    "    t = time()\n",
    "    dist_path = copy(normal_dist_path)\n",
    "#     dist_path[1:low-2] = normal_dist_path[1:low-2]\n",
    "    dist_path[low-1] = euclidean(xy_path[low-1,:],xy_path[low,:])\n",
    "    @views dist_path[low:high-1] = reversed_dist_path[len_path-high+1:len_path-low]\n",
    "    dist_path[high] = euclidean(xy_path[high,:],xy_path[high+1,:])\n",
    "#     dist_path[high+1:end] = normal_dist_path[high+1:end]\n",
    "    vcattime += time()-t\n",
    "    #=\n",
    "    dist_path = vcat(normal_dist_path[1:low-2], # before switch\n",
    "                     [euclidean(xy_path[low-1,:],xy_path[low,:])], # new edge at the beginning\n",
    "                     normal_dist_path[low:high-1][end:-1:1], # reverse this part\n",
    "                     [euclidean(xy_path[high,:],xy_path[high+1,:])], # new edge in the end\n",
    "                     normal_dist_path[high+1:end],\n",
    "                )[:,1]\n",
    "    =#\n",
    "    \n",
    "    \n",
    "    # List of Primes 0 to (len_path-1)\n",
    "    # Flag array, is path's from-city number non-prime?\n",
    "    @views is_path_from_non_prime  = cities.nprimes[list_path][1:end-1]\n",
    "    # If both flags are true, *1.1, else * 1.0\n",
    "    result = @. dist_path * (1.0 + 0.1 * is_path_from_non_prime * tenth)\n",
    "    sum_result = sum(result)\n",
    "    return Score(sum_result, dist_path, result)\n",
    "end"
   ]
  },
  {
   "cell_type": "code",
   "execution_count": 61,
   "metadata": {},
   "outputs": [
    {
     "data": {
      "text/plain": [
       "two_opt (generic function with 1 method)"
      ]
     },
     "execution_count": 61,
     "metadata": {},
     "output_type": "execute_result"
    }
   ],
   "source": [
    "function two_opt(cities,subm_path)\n",
    "    n = length(subm_path)\n",
    "    path = copy(subm_path)\n",
    "    println(\"Path: \", path[1:10])\n",
    "    println(\"n: \", n)\n",
    "    switchLow = 2\n",
    "\tswitchHigh = n - 1\n",
    "\treverses = 0\n",
    "\timproved = true\n",
    "    tenth = [(i % 10) == 0 for i in 1:n-1]\n",
    "    oldCost = calc_score(cities, path, tenth)\n",
    "    reversed_dist_path = reverse(oldCost.dist_path)\n",
    "    time_for_1000 = time()\n",
    "\twhile improved && reverses < 2\n",
    "\t\timproved = false\n",
    "\t\t# we can't change the first \n",
    "\t\tfor i in switchLow:(switchHigh-1)\n",
    "            println(\"i: \", i)\n",
    "            t = time()\n",
    "\t\t\tfor j in switchHigh:-1:(i+1)\n",
    "                if j % 1000 == 0\n",
    "                    println(\"j: \", j)\n",
    "                    println(\"calc in: \", time()-time_for_1000)\n",
    "                    time_for_1000 = time()\n",
    "                end\n",
    "                n_path = copy(path)\n",
    "                reverse!(n_path, i, j)\n",
    "\t\t\t\taltCost = calc_score_reverse(cities, n_path, tenth, oldCost.dist_path, \n",
    "                                             reversed_dist_path, i, j)\n",
    "                \n",
    "                #=\n",
    "                altCost_dif =  calc_score(cities, n_path, tenth)\n",
    "                println(altCost.value - altCost_dif.value)\n",
    "                @assert altCost.value - altCost_dif.value == 0\n",
    "                =#\n",
    "                \n",
    "                if altCost.value < oldCost.value\n",
    "                    println(\"Improved by: \", oldCost.value-altCost.value)\n",
    "                    path = n_path\n",
    "                    oldCost = altCost\n",
    "                    reversed_dist_path = reverse(oldCost.dist_path)\n",
    "                    reverses += 1\n",
    "\t\t\t\t\timproved = true\n",
    "                    df = DataFrame(Path=path)\n",
    "                    CSV.write(\"tsp_improved.csv\", df);\n",
    "\t\t\t\tend\n",
    "\t\t\tend\n",
    "            println(\"Time for one i: \", time()-t)\n",
    "\t\tend\n",
    "\tend\n",
    "\tprintln(\"Reverses 1: \", reverses)\n",
    "    score = calc_score(cities, path, tenth)\n",
    "\treturn path, score\n",
    "    \n",
    "end"
   ]
  },
  {
   "cell_type": "code",
   "execution_count": 60,
   "metadata": {},
   "outputs": [
    {
     "name": "stdout",
     "output_type": "stream",
     "text": [
      "  0.010878 seconds (40 allocations: 21.127 MiB, 29.77% gc time)\n",
      "Score new: 1.5242107051177872e6\n",
      "Path: Union{Missing, Int64}[1, 47240, 177243, 167367, 38942, 22122, 134857, 182993, 139227, 70520]\n",
      "n: 197770\n",
      "i: 2\n",
      "j: 197000\n",
      "calc in: 2.603383779525757\n",
      "Time for one i: 2.6032729148864746\n",
      "i: 3\n",
      "j: 197000\n",
      "calc in: 2.493565082550049\n",
      "Time for one i: 2.4935669898986816\n",
      "i: 4\n",
      "j: 197000\n",
      "calc in: 2.5750279426574707\n",
      "Time for one i: 2.575024127960205\n",
      "i: 5\n"
     ]
    },
    {
     "ename": "InterruptException",
     "evalue": "InterruptException:",
     "output_type": "error",
     "traceback": [
      "InterruptException:",
      "",
      "Stacktrace:",
      " [1] calc_score_reverse(::Cities, ::Array{Union{Missing, Int64},1}, ::Array{Bool,1}, ::Array{Float64,1}, ::Array{Float64,1}, ::Int64, ::Int64) at ./In[50]:5",
      " [2] two_opt(::Cities, ::Array{Union{Missing, Int64},1}) at ./In[59]:29",
      " [3] macro expansion at ./util.jl:155 [inlined]",
      " [4] main() at ./In[60]:16",
      " [5] top-level scope at In[60]:23"
     ]
    }
   ],
   "source": [
    "function main()\n",
    "    global vcattime, starttime\n",
    "    vcattime = 0.0\n",
    "    starttime = 0.0\n",
    "    cities_csv = CSV.read(\"cities_p.csv\");\n",
    "    subm_df = CSV.read(\"tsp_improved.csv\"); # 53\n",
    "    subm_path = subm_df[:Path];\n",
    "    subm_path .+= 1\n",
    "    xy_cities   = zeros(size(cities_csv)[1],2)\n",
    "    xy_cities[:,1] = cities_csv[:X]\n",
    "    xy_cities[:,2] = cities_csv[:Y]\n",
    "    cities = Cities(xy_cities, cities_csv[:nprimes])\n",
    "    \n",
    "    tenth = [(i % 10) == 0 for i in 1:length(subm_path)-1]\n",
    "#     subm_path = vcat(subm_path[1:200], subm_path[end-200:end])\n",
    "    @time new_score = calc_score(cities, subm_path, tenth)\n",
    "    println(\"Score new: \", new_score.value)\n",
    "    \n",
    "    path, cost = two_opt(cities,subm_path)\n",
    "    println(\"New cost: \", cost.value)\n",
    "    return path\n",
    "end\n",
    "new_path = main();\n",
    "println(\"vcattime: \", vcattime)\n",
    "println(\"starttime: \", starttime)\n",
    "# println(new_path)"
   ]
  }
 ],
 "metadata": {
  "kernelspec": {
   "display_name": "Julia 1.0.2",
   "language": "julia",
   "name": "julia-1.0"
  },
  "language_info": {
   "file_extension": ".jl",
   "mimetype": "application/julia",
   "name": "julia",
   "version": "1.0.2"
  }
 },
 "nbformat": 4,
 "nbformat_minor": 2
}
