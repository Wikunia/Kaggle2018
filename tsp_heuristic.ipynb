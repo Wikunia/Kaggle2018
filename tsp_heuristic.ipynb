{
 "cells": [
  {
   "cell_type": "code",
   "execution_count": 1,
   "metadata": {},
   "outputs": [],
   "source": [
    "using CSV, DataFrames, Distances, DelimitedFiles"
   ]
  },
  {
   "cell_type": "code",
   "execution_count": 2,
   "metadata": {},
   "outputs": [
    {
     "data": {
      "text/plain": [
       "0.0"
      ]
     },
     "execution_count": 2,
     "metadata": {},
     "output_type": "execute_result"
    }
   ],
   "source": [
    "vcattime = 0.0\n",
    "starttime = 0.0\n",
    "sumtime = 0.0"
   ]
  },
  {
   "cell_type": "code",
   "execution_count": 3,
   "metadata": {},
   "outputs": [],
   "source": [
    "mutable struct Score\n",
    "    value :: Float64\n",
    "    dist_path :: Vector{Float64}\n",
    "    scaled_dist_path ::  Vector{Float64}\n",
    "end"
   ]
  },
  {
   "cell_type": "code",
   "execution_count": 37,
   "metadata": {},
   "outputs": [],
   "source": [
    "function Base.copy(a::Score) \n",
    "    return Score(a.value, a.dist_path, a.scaled_dist_path)\n",
    "end"
   ]
  },
  {
   "cell_type": "code",
   "execution_count": 4,
   "metadata": {},
   "outputs": [],
   "source": [
    "mutable struct Cities\n",
    "    xy :: Array{Float64,2}\n",
    "    nprimes :: Vector{Float64}\n",
    "end"
   ]
  },
  {
   "cell_type": "code",
   "execution_count": 5,
   "metadata": {},
   "outputs": [
    {
     "data": {
      "text/plain": [
       "get_score (generic function with 1 method)"
      ]
     },
     "execution_count": 5,
     "metadata": {},
     "output_type": "execute_result"
    }
   ],
   "source": [
    "function get_score(cities, subm_path)\n",
    "    global distdict\n",
    "    all_ids = cities[:CityId]\n",
    "    all_x = cities[:X]\n",
    "    all_y = cities[:Y]\n",
    "\n",
    "    score = 0.0\n",
    "    p1 = Vector{Int}()\n",
    "    p2 = Vector{Int}()\n",
    "    for i in 1:length(subm_path)-1\n",
    "        c_idx = subm_path[i]+1\n",
    "        n_idx = subm_path[i+1]+1\n",
    "        p1 = [all_x[c_idx],all_y[c_idx]]\n",
    "        p2 = [all_x[n_idx],all_y[n_idx]]\n",
    "        stepSize = euclidean(p1,p2)\n",
    "        if i % 10 == 0 && !cities[:primes][subm_path[i]+1]\n",
    "            stepSize *= 1.1\n",
    "        end\n",
    "#         println(stepSize)\n",
    "        score += stepSize\n",
    "    end\n",
    "    return score\n",
    "end"
   ]
  },
  {
   "cell_type": "code",
   "execution_count": 6,
   "metadata": {},
   "outputs": [
    {
     "data": {
      "text/plain": [
       "calc_score (generic function with 1 method)"
      ]
     },
     "execution_count": 6,
     "metadata": {},
     "output_type": "execute_result"
    }
   ],
   "source": [
    "function calc_score(cities, list_path, tenth)\n",
    "    xy_cities = cities.xy\n",
    "    len_path     = length(list_path)\n",
    "    # Calc Distance\n",
    "    xy_path   = xy_cities[list_path,:]\n",
    "    dist_path = sqrt.(sum((xy_path[1:end-1,:] .- xy_path[2:end,:]).^2; dims=2))[:,1]\n",
    "    \n",
    "    # List of Primes 0 to (len_path-1)\n",
    "    # Flag array, is path's from-city number non-prime?\n",
    "    is_path_from_non_prime   = cities.nprimes[list_path][1:end-1]   \n",
    "    # If both flags are true, *1.1, else * 1.0\n",
    "    result = dist_path .* (1.0 .+ 0.1 .* is_path_from_non_prime .* tenth)\n",
    "    return Score(sum(result), dist_path, result)\n",
    "end"
   ]
  },
  {
   "cell_type": "code",
   "execution_count": 40,
   "metadata": {},
   "outputs": [
    {
     "data": {
      "text/plain": [
       "calc_score_reverse! (generic function with 1 method)"
      ]
     },
     "execution_count": 40,
     "metadata": {},
     "output_type": "execute_result"
    }
   ],
   "source": [
    "function calc_score_reverse!(dist_path, result, xy_cities, nprimes, list_path, tenth, normal_dist_path, reversed_dist_path, low, high)\n",
    "    len_path  = length(list_path)\n",
    "    # Calc Distance\n",
    "    xy_path   = xy_cities[list_path,:]\n",
    "    \n",
    "    dist_path[1:low-2] = normal_dist_path[1:low-2]\n",
    "    dist_path[low-1] = euclidean(xy_path[low-1,:],xy_path[low,:])\n",
    "    @views dist_path[low:high-1] = reversed_dist_path[len_path-high+1:len_path-low]\n",
    "    dist_path[high] = euclidean(xy_path[high,:],xy_path[high+1,:])\n",
    "    dist_path[high+1:end] = normal_dist_path[high+1:end]\n",
    "    #=\n",
    "    dist_path = vcat(normal_dist_path[1:low-2], # before switch\n",
    "                     [euclidean(xy_path[low-1,:],xy_path[low,:])], # new edge at the beginning\n",
    "                     normal_dist_path[low:high-1][end:-1:1], # reverse this part\n",
    "                     [euclidean(xy_path[high,:],xy_path[high+1,:])], # new edge in the end\n",
    "                     normal_dist_path[high+1:end],\n",
    "                )[:,1]\n",
    "    =#\n",
    "    \n",
    "    \n",
    "    # List of Primes 0 to (len_path-1)\n",
    "    # Flag array, is path's from-city number non-prime?\n",
    "    @views @inbounds is_path_from_non_prime  = nprimes[list_path[1:end-1]]\n",
    "    # If both flags are true, *1.1, else * 1.0\n",
    "    result[1:end] = dist_path \n",
    "    result .*= (1.0 .+ 0.1 .* is_path_from_non_prime .* tenth)\n",
    "#     new_result = @. dist_path * (1.0 + 0.1 * is_path_from_non_prime * tenth)\n",
    "    sum_result = sum(result)\n",
    "    return Score(sum_result, dist_path, result)\n",
    "end"
   ]
  },
  {
   "cell_type": "code",
   "execution_count": 8,
   "metadata": {},
   "outputs": [
    {
     "data": {
      "text/plain": [
       "two_opt_reasonable! (generic function with 1 method)"
      ]
     },
     "execution_count": 8,
     "metadata": {},
     "output_type": "execute_result"
    }
   ],
   "source": [
    "function two_opt_reasonable!(old, new, xy_path, dist_path, low, high; margin=100)\n",
    "    @inbounds old = dist_path[low-1]+dist_path[high]\n",
    "#     @assert euclidean(xy_path[low-1,:],xy_path[low,:])+euclidean(xy_path[high,:],xy_path[high+1,:]) == old\n",
    "    @inbounds new = euclidean(xy_path[low-1,:],xy_path[high,:])+euclidean(xy_path[low,:],xy_path[high+1,:])\n",
    "    return new-margin < old\n",
    "end"
   ]
  },
  {
   "cell_type": "code",
   "execution_count": 43,
   "metadata": {},
   "outputs": [
    {
     "data": {
      "text/plain": [
       "two_opt (generic function with 1 method)"
      ]
     },
     "execution_count": 43,
     "metadata": {},
     "output_type": "execute_result"
    }
   ],
   "source": [
    "function two_opt(cities,subm_path)\n",
    "    n = length(subm_path)\n",
    "    path = copy(subm_path)\n",
    "    println(\"Path: \", path[1:10])\n",
    "    println(\"n: \", n)\n",
    "    switchLow = 2\n",
    "\tswitchHigh = n - 1\n",
    "\treverses = 0\n",
    "\timproved = true\n",
    "    tenth = [(i % 10) == 0 for i in 1:n-1]\n",
    "    oldCost = calc_score(cities, path, tenth)\n",
    "    reversed_dist_path = reverse(oldCost.dist_path)\n",
    "    time_for_10000 = time()\n",
    "    overwrite_dist_path = zeros(n-1)\n",
    "    overwrite_result = zeros(n-1)\n",
    "    checked_reasonable = 0\n",
    "    oldReasonable, newReasonable = 0.0, 0.0\n",
    "    xy_cities = cities.xy\n",
    "    xy_path   = xy_cities[path,:]\n",
    "    nprimes   = cities.nprimes\n",
    "    \n",
    "    t = time()\n",
    "    print_every = 100\n",
    "\twhile improved\n",
    "\t\timproved = false\n",
    "\t\t# we can't change the first \n",
    "\t\tfor i in switchLow:(switchHigh-1)\n",
    "            if i % print_every == 0\n",
    "                println(\"i: \", i)\n",
    "                println(\"checked_reasonable: \", checked_reasonable)\n",
    "                println(\"Time for one i: \", (time()-t)/print_every)\n",
    "                flush(stdout)\n",
    "                t = time()\n",
    "            end\n",
    "            \n",
    "\t\t\tfor j in switchHigh:-1:(i+1)\n",
    "                reasonable =  two_opt_reasonable!(oldReasonable, newReasonable,\n",
    "                                                      xy_path, oldCost.dist_path, i, j)\n",
    "                if reasonable\n",
    "                    checked_reasonable += 1\n",
    "                    n_path = copy(path)\n",
    "                    reverse!(n_path, i, j)\n",
    "                    altCost = calc_score_reverse!(overwrite_dist_path, overwrite_result,\n",
    "                                                 xy_cities, nprimes, n_path, tenth, oldCost.dist_path, \n",
    "                                                 reversed_dist_path, i, j)\n",
    "\n",
    "                   \n",
    "\n",
    "                    if altCost.value < oldCost.value\n",
    "                        altCost_dif =  calc_score(cities, n_path, tenth)\n",
    "                        println(altCost.value - altCost_dif.value)\n",
    "                        println(\"i: \", i)\n",
    "                        println(\"j: \", j)\n",
    "                        println(\"altCost.value: \", altCost.value)\n",
    "                        println(\"altCost_dif.value: \", altCost_dif.value)\n",
    "                        @assert altCost.value - altCost_dif.value == 0\n",
    "                        \n",
    "                        println(\"Improved by: \", oldCost.value-altCost.value)\n",
    "                        path = n_path\n",
    "                        oldCost = altCost_dif\n",
    "                        reversed_dist_path = reverse(oldCost.dist_path)\n",
    "                        xy_path   = xy_cities[path,:]\n",
    "                        reverses += 1\n",
    "                        improved = true\n",
    "                        df = DataFrame(Path=path.-1)\n",
    "                        CSV.write(\"tsp_improved_new.csv\", df);\n",
    "                    end\n",
    "                end\n",
    "\t\t\tend\n",
    "            \n",
    "\t\tend\n",
    "\tend\n",
    "\tprintln(\"Reverses 1: \", reverses)\n",
    "    score = calc_score(cities, path, tenth)\n",
    "\treturn path, score\n",
    "    \n",
    "end"
   ]
  },
  {
   "cell_type": "code",
   "execution_count": 44,
   "metadata": {},
   "outputs": [
    {
     "name": "stdout",
     "output_type": "stream",
     "text": [
      "  0.008982 seconds (34 allocations: 21.126 MiB, 15.84% gc time)\n",
      "Score new: 1.5242090112150502e6\n",
      "Path: [1, 47240, 177243, 167367, 38942, 22122, 134857, 182993, 139227, 70520]\n",
      "n: 197770\n",
      "0.0\n",
      "i: 4574\n",
      "j: 4616\n",
      "altCost.value: 1.5242085076012618e6\n",
      "altCost_dif.value: 1.5242085076012618e6\n",
      "Improved by: 0.503613788401708\n",
      "i: 4600\n",
      "checked_reasonable: 9072\n",
      "Time for one i: 0.37232156038284303\n"
     ]
    },
    {
     "ename": "InterruptException",
     "evalue": "InterruptException:",
     "output_type": "error",
     "traceback": [
      "InterruptException:",
      "",
      "Stacktrace:",
      " [1] Type at ./In[3]:2 [inlined]",
      " [2] calc_score_reverse!(::Array{Float64,1}, ::Array{Float64,1}, ::Array{Float64,2}, ::Array{Float64,1}, ::Array{Int64,1}, ::Array{Bool,1}, ::Array{Float64,1}, ::Array{Float64,1}, ::Int64, ::Int64) at ./In[40]:29",
      " [3] two_opt(::Cities, ::Array{Int64,1}) at ./In[43]:43",
      " [4] macro expansion at ./util.jl:155 [inlined]",
      " [5] main() at ./In[44]:17",
      " [6] top-level scope at In[44]:24"
     ]
    }
   ],
   "source": [
    "function main()\n",
    "    global vcattime, starttime, sumtime\n",
    "    vcattime = 0.0\n",
    "    starttime = 0.0\n",
    "    sumtime = 0.0\n",
    "    cities_csv = CSV.read(\"cities_p.csv\");\n",
    "    subm_df = CSV.read(\"tsp_improved.csv\"); # 53\n",
    "    subm_path = collect(skipmissing(subm_df[:Path]))\n",
    "    subm_path .+= 1\n",
    "    xy_cities   = zeros(size(cities_csv)[1],2)\n",
    "    xy_cities[:,1] = cities_csv[:X]\n",
    "    xy_cities[:,2] = cities_csv[:Y]\n",
    "    cities = Cities(xy_cities, cities_csv[:nprimes])\n",
    "    \n",
    "    tenth = [(i % 10) == 0 for i in 1:length(subm_path)-1]\n",
    "#     subm_path = vcat(subm_path[1:200], subm_path[end-200:end])\n",
    "    @time new_score = calc_score(cities, subm_path, tenth)\n",
    "    println(\"Score new: \", new_score.value)\n",
    "    \n",
    "    path, cost = two_opt(cities,subm_path)\n",
    "    println(\"New cost: \", cost.value)\n",
    "    return path\n",
    "end\n",
    "new_path = main();\n",
    "println(\"vcattime: \", vcattime)\n",
    "println(\"starttime: \", starttime)\n",
    "println(\"sumtime: \", sumtime)\n",
    "# println(new_path)"
   ]
  }
 ],
 "metadata": {
  "kernelspec": {
   "display_name": "Julia 1.0.2",
   "language": "julia",
   "name": "julia-1.0"
  },
  "language_info": {
   "file_extension": ".jl",
   "mimetype": "application/julia",
   "name": "julia",
   "version": "1.0.2"
  }
 },
 "nbformat": 4,
 "nbformat_minor": 2
}
