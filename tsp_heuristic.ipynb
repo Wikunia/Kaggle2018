{
 "cells": [
  {
   "cell_type": "code",
   "execution_count": 1,
   "metadata": {},
   "outputs": [],
   "source": [
    "using CSV, DataFrames, Distances, DelimitedFiles"
   ]
  },
  {
   "cell_type": "code",
   "execution_count": 2,
   "metadata": {},
   "outputs": [
    {
     "data": {
      "text/plain": [
       "0.0"
      ]
     },
     "execution_count": 2,
     "metadata": {},
     "output_type": "execute_result"
    }
   ],
   "source": [
    "vcattime = 0.0\n",
    "starttime = 0.0\n",
    "sumtime = 0.0"
   ]
  },
  {
   "cell_type": "code",
   "execution_count": 3,
   "metadata": {},
   "outputs": [],
   "source": [
    "mutable struct Score\n",
    "    value :: Float64\n",
    "    dist_path :: Vector{Float64}\n",
    "    scaled_dist_path ::  Vector{Float64}\n",
    "end"
   ]
  },
  {
   "cell_type": "code",
   "execution_count": 4,
   "metadata": {},
   "outputs": [],
   "source": [
    "function Base.copy(a::Score) \n",
    "    return Score(a.value, a.dist_path, a.scaled_dist_path)\n",
    "end"
   ]
  },
  {
   "cell_type": "code",
   "execution_count": 5,
   "metadata": {},
   "outputs": [],
   "source": [
    "mutable struct Cities\n",
    "    xy :: Array{Float64,2}\n",
    "    nprime :: Vector{Float64}\n",
    "end"
   ]
  },
  {
   "cell_type": "code",
   "execution_count": 6,
   "metadata": {},
   "outputs": [
    {
     "data": {
      "text/plain": [
       "get_score (generic function with 1 method)"
      ]
     },
     "execution_count": 6,
     "metadata": {},
     "output_type": "execute_result"
    }
   ],
   "source": [
    "function get_score(cities, subm_path)\n",
    "    global distdict\n",
    "    all_ids = cities[:CityId]\n",
    "    all_x = cities[:X]\n",
    "    all_y = cities[:Y]\n",
    "\n",
    "    score = 0.0\n",
    "    p1 = Vector{Int}()\n",
    "    p2 = Vector{Int}()\n",
    "    for i in 1:length(subm_path)-1\n",
    "        c_idx = subm_path[i]+1\n",
    "        n_idx = subm_path[i+1]+1\n",
    "        p1 = [all_x[c_idx],all_y[c_idx]]\n",
    "        p2 = [all_x[n_idx],all_y[n_idx]]\n",
    "        stepSize = euclidean(p1,p2)\n",
    "        if i % 10 == 0 && !cities[:prime][subm_path[i]+1]\n",
    "            stepSize *= 1.1\n",
    "        end\n",
    "#         println(stepSize)\n",
    "        score += stepSize\n",
    "    end\n",
    "    return score\n",
    "end"
   ]
  },
  {
   "cell_type": "code",
   "execution_count": 7,
   "metadata": {},
   "outputs": [
    {
     "data": {
      "text/plain": [
       "calc_score (generic function with 1 method)"
      ]
     },
     "execution_count": 7,
     "metadata": {},
     "output_type": "execute_result"
    }
   ],
   "source": [
    "function calc_score(cities, list_path, tenth)\n",
    "    xy_cities = cities.xy\n",
    "    len_path     = length(list_path)\n",
    "    # Calc Distance\n",
    "    xy_path   = xy_cities[list_path,:]\n",
    "    dist_path = sqrt.(sum((xy_path[1:end-1,:] .- xy_path[2:end,:]).^2; dims=2))[:,1]\n",
    "    \n",
    "    # List of Primes 0 to (len_path-1)\n",
    "    # Flag array, is path's from-city number non-prime?\n",
    "    is_path_from_non_prime   = cities.nprime[list_path][1:end-1]   \n",
    "    # If both flags are true, *1.1, else * 1.0\n",
    "    result = dist_path .* (1.0 .+ 0.1 .* is_path_from_non_prime .* tenth)\n",
    "    return Score(sum(result), dist_path, result)\n",
    "end"
   ]
  },
  {
   "cell_type": "code",
   "execution_count": 15,
   "metadata": {},
   "outputs": [
    {
     "data": {
      "text/plain": [
       "calc_score_reverse! (generic function with 1 method)"
      ]
     },
     "execution_count": 15,
     "metadata": {},
     "output_type": "execute_result"
    }
   ],
   "source": [
    "function calc_score_reverse!(dist_path, result, xy_cities, nprime, list_path, tenth, normal_dist_path, reversed_dist_path, low, high)\n",
    "    len_path  = length(list_path)\n",
    "    # Calc Distance\n",
    "    @views xy_path   = xy_cities[list_path,:]\n",
    "    \n",
    "    @inbounds @views begin\n",
    "    dist_path[1:low-2] = normal_dist_path[1:low-2]\n",
    "    dist_path[low-1] = euclidean(xy_path[low-1,:],xy_path[low,:])\n",
    "    dist_path[low:high-1] = reversed_dist_path[len_path-high+1:len_path-low]\n",
    "    dist_path[high] = euclidean(xy_path[high,:],xy_path[high+1,:])\n",
    "    dist_path[high+1:end] = normal_dist_path[high+1:end]\n",
    "    end\n",
    "    #=\n",
    "    dist_path = vcat(normal_dist_path[1:low-2], # before switch\n",
    "                     [euclidean(xy_path[low-1,:],xy_path[low,:])], # new edge at the beginning\n",
    "                     normal_dist_path[low:high-1][end:-1:1], # reverse this part\n",
    "                     [euclidean(xy_path[high,:],xy_path[high+1,:])], # new edge in the end\n",
    "                     normal_dist_path[high+1:end],\n",
    "                )[:,1]\n",
    "    =#\n",
    "    \n",
    "    \n",
    "    # List of Primes 0 to (len_path-1)\n",
    "    # Flag array, is path's from-city number non-prime?\n",
    "    @views @inbounds is_path_from_non_prime  = nprime[list_path[1:end-1]]\n",
    "    # If both flags are true, *1.1, else * 1.0\n",
    "    @inbounds begin\n",
    "        result[1:end] = dist_path \n",
    "        result .*= (1.0 .+ is_path_from_non_prime .* tenth)\n",
    "#     new_result = @. dist_path * (1.0 + 0.1 * is_path_from_non_prime * tenth)\n",
    "        sum_result = sum(result)\n",
    "    end\n",
    "    return Score(sum_result, dist_path, result)\n",
    "end"
   ]
  },
  {
   "cell_type": "code",
   "execution_count": 9,
   "metadata": {},
   "outputs": [
    {
     "data": {
      "text/plain": [
       "two_opt_reasonable! (generic function with 1 method)"
      ]
     },
     "execution_count": 9,
     "metadata": {},
     "output_type": "execute_result"
    }
   ],
   "source": [
    "function two_opt_reasonable!(old, new, xy_path, dist_path, low, high; margin=100)\n",
    "    @inbounds old = dist_path[low-1]+dist_path[high]\n",
    "#     @assert euclidean(xy_path[low-1,:],xy_path[low,:])+euclidean(xy_path[high,:],xy_path[high+1,:]) == old\n",
    "    @inbounds new = euclidean(xy_path[low-1,:],xy_path[high,:])+euclidean(xy_path[low,:],xy_path[high+1,:])\n",
    "    return new-margin < old\n",
    "end"
   ]
  },
  {
   "cell_type": "code",
   "execution_count": 18,
   "metadata": {},
   "outputs": [
    {
     "data": {
      "text/plain": [
       "two_opt (generic function with 1 method)"
      ]
     },
     "execution_count": 18,
     "metadata": {},
     "output_type": "execute_result"
    }
   ],
   "source": [
    "function two_opt(cities,subm_path)\n",
    "    n = length(subm_path)\n",
    "    path = copy(subm_path)\n",
    "    println(\"Path: \", path[1:10])\n",
    "    println(\"n: \", n)\n",
    "    switchLow = 2\n",
    "\tswitchHigh = n - 1\n",
    "\treverses = 0\n",
    "\timproved = true\n",
    "    tenth = 0.1 .* [(i % 10) == 0 for i in 1:n-1]\n",
    "    oldCost = calc_score(cities, path, tenth)\n",
    "    reversed_dist_path = reverse(oldCost.dist_path)\n",
    "    time_for_10000 = time()\n",
    "    overwrite_dist_path = zeros(n-1)\n",
    "    overwrite_result = zeros(n-1)\n",
    "    checked_reasonable = 0\n",
    "    oldReasonable, newReasonable = 0.0, 0.0\n",
    "    xy_cities = cities.xy\n",
    "    xy_path   = xy_cities[path,:]\n",
    "    nprime   = cities.nprime\n",
    "    \n",
    "    t = time()\n",
    "    print_every = 100\n",
    "\twhile improved\n",
    "\t\timproved = false\n",
    "\t\t# we can't change the first \n",
    "\t\tfor i in switchLow:(switchHigh-1)\n",
    "            if i % print_every == 0\n",
    "                println(\"i: \", i)\n",
    "                println(\"checked_reasonable: \", checked_reasonable)\n",
    "                println(\"Time for one i: \", (time()-t)/print_every)\n",
    "                flush(stdout)\n",
    "                t = time()\n",
    "            end\n",
    "            \n",
    "\t\t\tfor j in switchHigh:-1:(i+1)\n",
    "                reasonable =  two_opt_reasonable!(oldReasonable, newReasonable,\n",
    "                                                      xy_path, oldCost.dist_path, i, j)\n",
    "                if reasonable\n",
    "                    checked_reasonable += 1\n",
    "                    n_path = copy(path)\n",
    "                    reverse!(n_path, i, j)\n",
    "                    altCost = calc_score_reverse!(overwrite_dist_path, overwrite_result,\n",
    "                                                 xy_cities, nprime, n_path, tenth, oldCost.dist_path, \n",
    "                                                 reversed_dist_path, i, j)\n",
    "#                     println(\"altCost.value: \", altCost.value)\n",
    "\n",
    "                    if altCost.value < oldCost.value\n",
    "                        altCost_dif =  calc_score(cities, n_path, tenth)\n",
    "                        println(altCost.value - altCost_dif.value)\n",
    "                        println(\"i: \", i)\n",
    "                        println(\"j: \", j)\n",
    "                        println(\"altCost.value: \", altCost.value)\n",
    "                        println(\"altCost_dif.value: \", altCost_dif.value)\n",
    "                        @assert altCost.value - altCost_dif.value == 0\n",
    "                        \n",
    "                        println(\"Improved by: \", oldCost.value-altCost.value)\n",
    "                        path = n_path\n",
    "                        oldCost = altCost_dif\n",
    "                        reversed_dist_path = reverse(oldCost.dist_path)\n",
    "                        xy_path   = xy_cities[path,:]\n",
    "                        reverses += 1\n",
    "                        improved = true\n",
    "                        df = DataFrame(Path=path.-1)\n",
    "                        CSV.write(\"submissions/2opt.csv\", df);\n",
    "                    end\n",
    "                end\n",
    "\t\t\tend\n",
    "\t\tend\n",
    "\tend\n",
    "\tprintln(\"Reverses 1: \", reverses)\n",
    "    score = calc_score(cities, path, tenth)\n",
    "\treturn path, score\n",
    "    \n",
    "end"
   ]
  },
  {
   "cell_type": "code",
   "execution_count": 20,
   "metadata": {},
   "outputs": [
    {
     "name": "stdout",
     "output_type": "stream",
     "text": [
      "  0.010043 seconds (40 allocations: 21.126 MiB, 25.30% gc time)\n",
      "Score new: 1.5164620178553928e6\n",
      "Path: [1, 48817, 40231, 75406, 153912, 22122, 38942, 167367, 177243, 47240]\n",
      "n: 197770\n"
     ]
    },
    {
     "ename": "InterruptException",
     "evalue": "InterruptException:",
     "output_type": "error",
     "traceback": [
      "InterruptException:",
      "",
      "Stacktrace:",
      " [1] Type at ./subarray.jl:16 [inlined]",
      " [2] Type at ./subarray.jl:32 [inlined]",
      " [3] Type at ./subarray.jl:22 [inlined]",
      " [4] unsafe_view at ./subarray.jl:153 [inlined]",
      " [5] view at ./subarray.jl:148 [inlined]",
      " [6] maybeview at ./views.jl:124 [inlined]",
      " [7] calc_score_reverse!(::Array{Float64,1}, ::Array{Float64,1}, ::Array{Float64,2}, ::Array{Float64,1}, ::Array{Int64,1}, ::Array{Float64,1}, ::Array{Float64,1}, ::Array{Float64,1}, ::Int64, ::Int64) at ./In[15]:7",
      " [8] two_opt(::Cities, ::Array{Int64,1}) at ./In[18]:43",
      " [9] macro expansion at ./util.jl:155 [inlined]",
      " [10] main() at ./In[20]:17",
      " [11] top-level scope at In[20]:24"
     ]
    },
    {
     "name": "stderr",
     "output_type": "stream",
     "text": [
      "Internal error: encountered unexpected error in runtime:\n",
      "InterruptException()\n",
      "jl_typeinf_end at /usr/bin/../lib/libjulia.so.1 (unknown line)\n",
      "unknown function (ip: 0x7f3e1feb15bf)\n",
      "unknown function (ip: 0x7f3e1feb1f56)\n",
      "unknown function (ip: 0x7f3e1feb2330)\n",
      "jl_apply_generic at /usr/bin/../lib/libjulia.so.1 (unknown line)\n",
      "jl_apply_with_saved_exception_state at /usr/bin/../lib/libjulia.so.1 (unknown line)\n",
      "unknown function (ip: 0x7f3e28991c96)\n",
      "unknown function (ip: 0x7f3e28995e8e)\n",
      "jl_fptr_trampoline at /usr/bin/../lib/libjulia.so.1 (unknown line)\n",
      "jl_apply_generic at /usr/bin/../lib/libjulia.so.1 (unknown line)\n",
      "show_backtrace at ./errorshow.jl:574\n",
      "show_bt at /home/ole/.julia/packages/IJulia/DL02A/src/display.jl:135\n",
      "unknown function (ip: 0x7f3e033b7162)\n",
      "jl_apply_generic at /usr/bin/../lib/libjulia.so.1 (unknown line)\n",
      "jl_f__apply at /usr/bin/../lib/libjulia.so.1 (unknown line)\n",
      "#sprint#325 at ./strings/io.jl:101\n",
      "sprint at ./strings/io.jl:97 [inlined]\n",
      "#error_content#27 at /home/ole/.julia/packages/IJulia/DL02A/src/display.jl:146\n",
      "jl_fptr_trampoline at /usr/bin/../lib/libjulia.so.1 (unknown line)\n",
      "jl_apply_generic at /usr/bin/../lib/libjulia.so.1 (unknown line)\n",
      "error_content at /home/ole/.julia/packages/IJulia/DL02A/src/display.jl:146\n",
      "jl_fptr_trampoline at /usr/bin/../lib/libjulia.so.1 (unknown line)\n",
      "jl_apply_generic at /usr/bin/../lib/libjulia.so.1 (unknown line)\n",
      "execute_request at /home/ole/.julia/packages/IJulia/DL02A/src/execute_request.jl:120\n",
      "jl_apply_generic at /usr/bin/../lib/libjulia.so.1 (unknown line)\n",
      "jl_f__apply at /usr/bin/../lib/libjulia.so.1 (unknown line)\n",
      "jl_f__apply_latest at /usr/bin/../lib/libjulia.so.1 (unknown line)\n",
      "#invokelatest#1 at ./essentials.jl:697 [inlined]\n",
      "invokelatest at ./essentials.jl:696 [inlined]\n",
      "eventloop at /home/ole/.julia/packages/IJulia/DL02A/src/eventloop.jl:8\n",
      "eventloop at /home/ole/.julia/packages/IJulia/DL02A/src/eventloop.jl:28\n",
      "eventloop at /home/ole/.julia/packages/IJulia/DL02A/src/eventloop.jl:28\n",
      "#12 at ./task.jl:259\n",
      "jl_fptr_trampoline at /usr/bin/../lib/libjulia.so.1 (unknown line)\n",
      "jl_apply_generic at /usr/bin/../lib/libjulia.so.1 (unknown line)\n",
      "unknown function (ip: 0x7f3e289aed8d)\n",
      "unknown function (ip: 0xffffffffffffffff)\n"
     ]
    }
   ],
   "source": [
    "function main()\n",
    "    global vcattime, starttime, sumtime\n",
    "    vcattime = 0.0\n",
    "    starttime = 0.0\n",
    "    sumtime = 0.0\n",
    "    cities_csv = CSV.read(\"cities_p.csv\");\n",
    "    subm_df = CSV.read(\"submissions/mip_n272_t400.csv\"); # 53\n",
    "    subm_path = collect(skipmissing(subm_df[:Path]))\n",
    "    subm_path .+= 1\n",
    "    xy_cities   = zeros(size(cities_csv)[1],2)\n",
    "    xy_cities[:,1] = cities_csv[:X]\n",
    "    xy_cities[:,2] = cities_csv[:Y]\n",
    "    cities = Cities(xy_cities, cities_csv[:nprime])\n",
    "    \n",
    "    tenth = [(i % 10) == 0 for i in 1:length(subm_path)-1]\n",
    "#     subm_path = vcat(subm_path[1:200], subm_path[end-200:end])\n",
    "    @time new_score = calc_score(cities, subm_path, tenth)\n",
    "    println(\"Score new: \", new_score.value)\n",
    "    \n",
    "    path, cost = two_opt(cities,subm_path)\n",
    "    println(\"New cost: \", cost.value)\n",
    "    return path\n",
    "end\n",
    "new_path = main();\n",
    "println(\"vcattime: \", vcattime)\n",
    "println(\"starttime: \", starttime)\n",
    "println(\"sumtime: \", sumtime)\n",
    "# println(new_path)"
   ]
  }
 ],
 "metadata": {
  "kernelspec": {
   "display_name": "Julia 1.0.2",
   "language": "julia",
   "name": "julia-1.0"
  },
  "language_info": {
   "file_extension": ".jl",
   "mimetype": "application/julia",
   "name": "julia",
   "version": "1.0.2"
  }
 },
 "nbformat": 4,
 "nbformat_minor": 2
}
