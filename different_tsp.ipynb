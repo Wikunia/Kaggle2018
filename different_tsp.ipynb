{
 "cells": [
  {
   "cell_type": "code",
   "execution_count": 1,
   "metadata": {},
   "outputs": [],
   "source": [
    "using CSV, DataFrames, Distances, DelimitedFiles, JuMP, Cbc"
   ]
  },
  {
   "cell_type": "code",
   "execution_count": 2,
   "metadata": {},
   "outputs": [],
   "source": [
    "mutable struct Cities\n",
    "    xy :: Array{Float64,2}\n",
    "    nprimes :: Vector{Float64}\n",
    "end"
   ]
  },
  {
   "cell_type": "code",
   "execution_count": 3,
   "metadata": {},
   "outputs": [
    {
     "data": {
      "text/plain": [
       "calc_score (generic function with 1 method)"
      ]
     },
     "execution_count": 3,
     "metadata": {},
     "output_type": "execute_result"
    }
   ],
   "source": [
    "function calc_score(cities, list_path, tenth)\n",
    "    @views xy_cities = cities.xy\n",
    "    len_path     = length(list_path)\n",
    "    # Calc Distance\n",
    "    @views xy_path   = xy_cities[list_path,:]\n",
    "    @views @inbounds dist_path = sqrt.(sum((xy_path[1:end-1,:] .- xy_path[2:end,:]).^2; dims=2))[:,1]\n",
    "    \n",
    "    # List of Primes 0 to (len_path-1)\n",
    "    # Flag array, is path's from-city number non-prime?\n",
    "    @views is_path_from_non_prime   = cities.nprimes[list_path][1:end-1]   \n",
    "    # If both flags are true, *1.1, else * 1.0\n",
    "    extra = sum(dist_path .* 0.1 .* is_path_from_non_prime .* tenth)\n",
    "    min_extra = 0\n",
    "    sum_tenth = convert(Int,sum(tenth))\n",
    "    nof_primes = convert(Int,len_path-1-sum(is_path_from_non_prime))\n",
    "    if nof_primes < sum_tenth\n",
    "        k_idx = partialsortperm(dist_path, 1:sum_tenth-nof_primes)\n",
    "        min_extra = sum(0.1 .* dist_path[k_idx])\n",
    "    end\n",
    "    return sum(dist_path)+extra, extra, min_extra\n",
    "end"
   ]
  },
  {
   "cell_type": "code",
   "execution_count": 46,
   "metadata": {},
   "outputs": [
    {
     "data": {
      "text/plain": [
       "get_cycle (generic function with 2 methods)"
      ]
     },
     "execution_count": 46,
     "metadata": {},
     "output_type": "execute_result"
    }
   ],
   "source": [
    "function get_cycle(m, x, x_vals, N, to_vec, cycle_vars; first=true)\n",
    "    cycle_idx = Int[]\n",
    "    \n",
    "    if !first\n",
    "        # get next cycle\n",
    "        for y=1:N\n",
    "            if !haskey(cycle_vars,y)\n",
    "                push!(cycle_idx, y)\n",
    "                to_vec,bcycle = get_vec_and_obj(N,to_vec,x_vals;cycle_det=true,i=y)\n",
    "                break\n",
    "            end\n",
    "        end\n",
    "    else\n",
    "        push!(cycle_idx, 1)\n",
    "    end\n",
    "\n",
    "    first = false\n",
    "    while true\n",
    "        idx = to_vec[cycle_idx[end]]\n",
    "        cycle_vars[idx] = true\n",
    "        push!(cycle_idx, idx)\n",
    "        if idx == cycle_idx[1]\n",
    "            break\n",
    "        end\n",
    "    end\n",
    "    sumx = 0\n",
    "    last = cycle_idx[1]\n",
    "    for i=2:length(cycle_idx)\n",
    "        if last < cycle_idx[i]\n",
    "            sumx += x[last,cycle_idx[i]]\n",
    "        else \n",
    "            sumx += x[cycle_idx[i],last]\n",
    "        end\n",
    "        last = cycle_idx[i]\n",
    "    end\n",
    "    return cycle_idx, sumx\n",
    "end"
   ]
  },
  {
   "cell_type": "code",
   "execution_count": 5,
   "metadata": {},
   "outputs": [
    {
     "data": {
      "text/plain": [
       "solved (generic function with 1 method)"
      ]
     },
     "execution_count": 5,
     "metadata": {},
     "output_type": "execute_result"
    }
   ],
   "source": [
    "function solved(m,x,N)\n",
    "    x_val = getvalue(x)\n",
    "    used = zeros(N)\n",
    "    cycle_idx = get_cycle(x_val, N)\n",
    "    used[cycle_idx] .= 1\n",
    "#     println(\"cycle_idx: \", cycle_idx)\n",
    "#     println(\"Length: \", length(cycle_idx))\n",
    "    if length(cycle_idx) < N\n",
    "        k = 1\n",
    "        v, idx = findmin(used)\n",
    "        while v == 0\n",
    "            k += 1\n",
    "            k_cycle_idx = get_cycle(x_val, N; start=idx)\n",
    "            used[k_cycle_idx] .= 1\n",
    "            @constraint(m, sum(x[k_cycle_idx,k_cycle_idx]) <= length(k_cycle_idx)-1)\n",
    "            v, idx = findmin(used)\n",
    "            \n",
    "        end\n",
    "        println(\"Removed \", k,\" cycles\")\n",
    "        @constraint(m, sum(x[cycle_idx,cycle_idx]) <= length(cycle_idx)-1)\n",
    "        return false\n",
    "    end\n",
    "    return true\n",
    "end "
   ]
  },
  {
   "cell_type": "code",
   "execution_count": 40,
   "metadata": {},
   "outputs": [
    {
     "data": {
      "text/plain": [
       "get_vec_and_obj (generic function with 1 method)"
      ]
     },
     "execution_count": 40,
     "metadata": {},
     "output_type": "execute_result"
    }
   ],
   "source": [
    "function get_vec_and_obj(N,to_vec,x_vals;i=1,used=Dict{Int64,Bool}(),cycle_det=false,bcycle=false)\n",
    "    idx = 0\n",
    "    m_idx = 0\n",
    "    for j = i+1:N\n",
    "        if isapprox(x_vals[i,j]-1, 0, atol=1e-6)\n",
    "            m_idx = 0\n",
    "            if !haskey(used,j)\n",
    "                idx = j\n",
    "                used[j] = true\n",
    "                to_vec[i] = j\n",
    "                x_vals[i,j] = 0\n",
    "                to_vec, bcycle = get_vec_and_obj(N,to_vec,x_vals;i=idx,used=used,cycle_det=cycle_det,bcycle=bcycle)\n",
    "                break\n",
    "            end\n",
    "        end\n",
    "    end\n",
    "    if idx == 0\n",
    "        for j = 1:i-1\n",
    "            if isapprox(x_vals[j,i]-1, 0, atol=1e-6)\n",
    "                m_idx = 0\n",
    "                if !haskey(used,j)\n",
    "                    idx = j\n",
    "                    used[j] = true\n",
    "                    x_vals[i,j] = 0\n",
    "                    to_vec[i] = j\n",
    "                    to_vec, bcycle = get_vec_and_obj(N,to_vec,x_vals;i=idx,used=used,cycle_det=cycle_det,bcycle=bcycle)\n",
    "                    break\n",
    "                end\n",
    "            end\n",
    "        end\n",
    "    end\n",
    "    if idx == 0 && cycle_det\n",
    "        for y=1:N\n",
    "            if to_vec[y] == 0\n",
    "                return to_vec, 1\n",
    "            end\n",
    "        end\n",
    "        return to_vec, bcycle\n",
    "    end\n",
    "\n",
    "    if idx == 0 \n",
    "        for y=1:N\n",
    "            if !isassigned(to_vec,y)\n",
    "                to_vec, bcycle = get_vec_and_obj(N,to_vec,x_vals;i=y,used=used,cycle_det=cycle_det,bcycle=bcycle)\n",
    "                break\n",
    "            end\n",
    "        end\n",
    "    end\n",
    "    return to_vec, bcycle\n",
    "end"
   ]
  },
  {
   "cell_type": "code",
   "execution_count": 7,
   "metadata": {},
   "outputs": [
    {
     "data": {
      "text/plain": [
       "get_x_vals (generic function with 1 method)"
      ]
     },
     "execution_count": 7,
     "metadata": {},
     "output_type": "execute_result"
    }
   ],
   "source": [
    "function get_x_vals(x, N)\n",
    "    x_sparse = getvalue(x)\n",
    "\n",
    "    x_vals = zeros(N,N)\n",
    "    for i=1:N, j=i+1:N\n",
    "        x_vals[i,j] = x_sparse[i,j]\n",
    "    end\n",
    "    return x_vals\n",
    "end"
   ]
  },
  {
   "cell_type": "code",
   "execution_count": 42,
   "metadata": {},
   "outputs": [
    {
     "data": {
      "text/plain": [
       "solved_smart (generic function with 1 method)"
      ]
     },
     "execution_count": 42,
     "metadata": {},
     "output_type": "execute_result"
    }
   ],
   "source": [
    "function solved_smart(m, x, N)\n",
    "    x_vals = get_x_vals(x,N)\n",
    "\n",
    "    # find cycle\n",
    "    to_vec = zeros(Int,N)\n",
    "    used = Dict{Int64,Bool}()\n",
    "    objective = 0\n",
    "    cycle_vars = Dict{Int64,Bool}()\n",
    "    to_vec, bcycle = get_vec_and_obj(N,to_vec,x_vals;cycle_det=true)\n",
    "    if bcycle == 1\n",
    "        first = true\n",
    "        while length(cycle_vars) != N\n",
    "            cycle_idx, sumx = get_cycle(m, x, x_vals, N, to_vec, cycle_vars; first=first)\n",
    "            first = false\n",
    "            if length(cycle_idx)-1 < N\n",
    "                @constraint(m, sumx <= length(cycle_idx)-2)\n",
    "            end\n",
    "        end\n",
    "        return false\n",
    "    end\n",
    "    return true \n",
    "end"
   ]
  },
  {
   "cell_type": "code",
   "execution_count": 49,
   "metadata": {},
   "outputs": [
    {
     "data": {
      "text/plain": [
       "prime_solved (generic function with 1 method)"
      ]
     },
     "execution_count": 49,
     "metadata": {},
     "output_type": "execute_result"
    }
   ],
   "source": [
    "function prime_solved(start, m, x, N, cities, tenth, dists, score, extra, subm_path)\n",
    "    to_vec = zeros(Int,N)\n",
    "    x_vals = get_x_vals(x,N)\n",
    "    cycle_vars = Dict{Int64,Bool}()\n",
    "    to_vec, bcycle = get_vec_and_obj(N,to_vec,x_vals)\n",
    "    cycle_idx, _ = get_cycle(m, x, x_vals, N, to_vec, cycle_vars)\n",
    "    cycle_idx = cycle_idx[1:end-1]\n",
    "#     println(\"New tour: \", cycle_idx)\n",
    "#     println(\"New tour length: \", length(cycle_idx))\n",
    "    new_path = subm_path[start.+cycle_idx]\n",
    "    new_score, new_extra, min_extra = calc_score(cities, new_path, tenth)\n",
    "    println(\"Current New score: \", new_score)\n",
    "    println(\"Current New score without extra: \", new_score-new_extra)\n",
    "    if new_score < score\n",
    "        return true\n",
    "    else\n",
    "        len_cyc = length(cycle_idx)\n",
    "        sumx = 0\n",
    "        for k in 1:len_cyc-1\n",
    "            if cycle_idx[k] < cycle_idx[k+1]\n",
    "                sumx += x[cycle_idx[k],cycle_idx[k+1]]\n",
    "            else\n",
    "                sumx += x[cycle_idx[k+1],cycle_idx[k]]\n",
    "            end\n",
    "        end\n",
    "        @constraint(m, sumx <= len_cyc-2)\n",
    "        return false\n",
    "    end\n",
    "end"
   ]
  },
  {
   "cell_type": "code",
   "execution_count": 56,
   "metadata": {},
   "outputs": [
    {
     "data": {
      "text/plain": [
       "run_mip (generic function with 1 method)"
      ]
     },
     "execution_count": 56,
     "metadata": {},
     "output_type": "execute_result"
    }
   ],
   "source": [
    "function run_mip(start, cities, tenth, subm_path, N)\n",
    "    println(\"Start: \", start)\n",
    "    old_subm_path = copy(subm_path)\n",
    "    score, extra, min_extra = calc_score(cities, subm_path[start+1:start+N], tenth)\n",
    "    println(\"Current distance with extra: \", score)\n",
    "    println(\"Current distance w/o extra: \", score-extra)\n",
    "    println(\"Current extra: \", extra)\n",
    "    println(\"Search form normal dist < \", score-min_extra)\n",
    "    \n",
    "    pre_time = time()\n",
    "    # generate distance matrix for the N cities\n",
    "    c_pos = cities.xy[subm_path[start+1:start+N],:]\n",
    "    dists = zeros(N,N)\n",
    "    for i=1:N\n",
    "        for j=i+1:N\n",
    "            dists[i,j] = euclidean(c_pos[i,:],c_pos[j,:])\n",
    "            dists[j,i] = dists[i,j]\n",
    "        end\n",
    "    end\n",
    "    # it should be circular so N -> 1 has zero costs\n",
    "    dists[1,N] = 0\n",
    "    \n",
    "    solver = CbcSolver()\n",
    "    m = Model(solver=solver)\n",
    "    @variable(m, x[f=1:N,t=f+1:N], Bin)\n",
    "    @objective(m, Min, sum(x[i,j]*dists[i,j] for i=1:N,j=i+1:N))\n",
    "    for i=1:N\n",
    "        @constraint(m, sum(x[j,i] for j=1:i-1)+sum(x[i,j] for j=i+1:N) == 2)\n",
    "    end\n",
    "    #=\n",
    "    @constraint(m, notself[i=1:N], x[i,i] == 0)\n",
    "    @constraint(m, oneout[i=1:N], sum(x[i,1:N]) == 1)\n",
    "    @constraint(m, onein[j=1:N], sum(x[1:N,j]) == 1)\n",
    "    =#\n",
    "    # N has to be connected to 1\n",
    "    @constraint(m, x[1,N] == 1)\n",
    "\n",
    "#     @constraint(m, sum(x[k,k+1] for k in 1:N-1) <= N-2)\n",
    "#     @constraint(m, sum(x[i,j]*dists[i,j] for i=1:N,j=i+1:N) <= score-min_extra)\n",
    "    \n",
    "#     @constraint(m, sum(x[i,j]*dists[i,j] for i=1:N,j=1:N) >= score-extra+0.001)\n",
    "    \n",
    "    \n",
    "    t = time()\n",
    "    status = solve(m)\n",
    "    println(\"Status: \", status)\n",
    "    \n",
    "    if status == :Infeasible\n",
    "        return subm_path, false\n",
    "    end\n",
    "    println(\"MIP Obj: \", getobjectivevalue(m))\n",
    "    \n",
    "    while !solved_smart(m,x,N)\n",
    "        status = solve(m)\n",
    "    end\n",
    "    \n",
    "    to_vec = zeros(Int,N)\n",
    "    x_vals = get_x_vals(x,N)\n",
    "    cycle_vars = Dict{Int64,Bool}()\n",
    "    to_vec, bcycle = get_vec_and_obj(N,to_vec,x_vals)\n",
    "    cycle_idx, _ = get_cycle(m, x, x_vals, N, to_vec, cycle_vars)\n",
    "    c_path = subm_path[start.+cycle_idx][1:end-1]\n",
    "    c_score, c_extra, _ = calc_score(cities, c_path, tenth)\n",
    "    \n",
    "    if status == :Infeasible\n",
    "        return subm_path, false\n",
    "    end\n",
    "        \n",
    "    improved = false\n",
    "    counter = 0\n",
    "    removed_cycles = 0\n",
    "    while !prime_solved(start, m, x, N, cities, tenth, dists, score, extra, subm_path) && counter < 10\n",
    "        status = solve(m)\n",
    "        status == :Infeasible && break\n",
    "        while !solved_smart(m,x,N)\n",
    "            status = solve(m)\n",
    "            status == :Infeasible && break\n",
    "            removed_cycles += 1\n",
    "            if removed_cycles >= 70\n",
    "                status == :Infeasible\n",
    "                break\n",
    "            end\n",
    "        end\n",
    "        status == :Infeasible && break\n",
    "        counter += 1 \n",
    "    end\n",
    "    if counter < 10 && status != :Infeasible\n",
    "        println(\"FOUND BETTER...\") \n",
    "        println(\"Counter: , \", counter)\n",
    "        to_vec = zeros(Int,N)\n",
    "        x_vals = get_x_vals(x,N)\n",
    "        cycle_vars = Dict{Int64,Bool}()\n",
    "        to_vec, bcycle = get_vec_and_obj(N,to_vec,x_vals)\n",
    "        cycle_idx, _ = get_cycle(m, x, x_vals, N, to_vec, cycle_vars)\n",
    "        println(\"New tour: \", cycle_idx)\n",
    "        new_path = subm_path[start.+cycle_idx][1:end-1]\n",
    "        new_score, new_extra, _ = calc_score(cities, new_path, tenth)\n",
    "        @assert score-new_score > 0\n",
    "        println(\"Improved by: \", score-new_score)\n",
    "        global_tenth = [(i % 10) == 0 for i in 1:length(subm_path)-1]\n",
    "        println(\"oldScore: \", calc_score(cities, subm_path, global_tenth))\n",
    "        subm_path[start+1:start+N] = new_path \n",
    "        println(\"newScore: \", calc_score(cities, subm_path, global_tenth))\n",
    "        improved = true\n",
    "    else\n",
    "       @assert subm_path == old_subm_path     \n",
    "    end\n",
    "    println(\"Time for solving: \", time()-t)\n",
    "\n",
    "    if status != :Infeasible\n",
    "        println(\"Obj: \", getobjectivevalue(m))\n",
    "    end\n",
    "\n",
    "    flush(stdout)\n",
    "    return subm_path, improved # subm_path, improved\n",
    "end           "
   ]
  },
  {
   "cell_type": "code",
   "execution_count": 11,
   "metadata": {},
   "outputs": [
    {
     "data": {
      "text/plain": [
       "main (generic function with 1 method)"
      ]
     },
     "execution_count": 11,
     "metadata": {},
     "output_type": "execute_result"
    }
   ],
   "source": [
    "function main(from, to)\n",
    "    cities_csv = CSV.read(\"cities_p.csv\");\n",
    "    subm_df = CSV.read(\"tsp_improved_diff_mip.csv\");\n",
    "    xy_cities   = zeros(size(cities_csv)[1],2)\n",
    "    xy_cities[:,1] = cities_csv[:X]\n",
    "    xy_cities[:,2] = cities_csv[:Y]\n",
    "    cities = Cities(xy_cities, cities_csv[:nprimes])\n",
    "\n",
    "    subm_path = collect(skipmissing(subm_df[:Path]));\n",
    "    subm_path .+= 1\n",
    "    N = 102\n",
    "    for i=from:75:to\n",
    "        tenth = [(s % 10) == 0 for s in i+1:i+N-1]\n",
    "        subm_path, improved = run_mip(i, cities, tenth, subm_path, N);\n",
    "        if improved\n",
    "           df = DataFrame(Path=subm_path.-1)\n",
    "           CSV.write(\"tsp_improved_diff_mip_new.csv\", df);\n",
    "        end\n",
    "    end\n",
    "end"
   ]
  },
  {
   "cell_type": "code",
   "execution_count": 58,
   "metadata": {},
   "outputs": [
    {
     "name": "stdout",
     "output_type": "stream",
     "text": [
      "Start: 700\n",
      "Current distance with extra: 991.3289412369802\n",
      "Current distance w/o extra: 984.0006219137778\n",
      "Current extra: 7.328319323202462\n",
      "Search form normal dist < 991.3289412369802\n",
      "Status: Optimal\n",
      "MIP Obj: 983.5357388266103\n",
      "Current New score: 991.3289412369802\n",
      "Current New score without extra: 984.0006219137778\n",
      "Current New score: 992.3374087948978\n",
      "Current New score without extra: 984.7209647369773\n",
      "Current New score: 992.1043875712323\n",
      "Current New score without extra: 984.7787268986273\n",
      "Current New score: 992.4923752958326\n",
      "Current New score without extra: 985.0141158014727\n",
      "Current New score: 992.9505378298625\n",
      "Current New score without extra: 985.2143326793467\n",
      "Current New score: 992.9799199132374\n",
      "Current New score without extra: 985.4727727157264\n",
      "Current New score: 992.8374025811768\n",
      "Current New score without extra: 985.5305348773762\n",
      "Current New score: 992.2958076446683\n",
      "Current New score without extra: 985.5643781783939\n",
      "Current New score: 993.0286940426776\n",
      "Current New score without extra: 985.6150027913228\n",
      "Current New score: 992.4106130609422\n",
      "Current New score without extra: 985.6221403400439\n",
      "Current New score: 992.6051546642664\n",
      "Current New score without extra: 985.6727649529727\n",
      "Time for solving: 10.958595037460327\n",
      "Obj: 985.6727649529724\n"
     ]
    }
   ],
   "source": [
    "main(700,700)"
   ]
  }
 ],
 "metadata": {
  "kernelspec": {
   "display_name": "Julia 1.0.2",
   "language": "julia",
   "name": "julia-1.0"
  },
  "language_info": {
   "file_extension": ".jl",
   "mimetype": "application/julia",
   "name": "julia",
   "version": "1.0.2"
  }
 },
 "nbformat": 4,
 "nbformat_minor": 2
}
