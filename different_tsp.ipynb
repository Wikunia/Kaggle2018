{
 "cells": [
  {
   "cell_type": "code",
   "execution_count": 1,
   "metadata": {},
   "outputs": [],
   "source": [
    "using CSV, DataFrames, Distances, DelimitedFiles, JuMP, Cbc"
   ]
  },
  {
   "cell_type": "code",
   "execution_count": 2,
   "metadata": {},
   "outputs": [],
   "source": [
    "mutable struct Cities\n",
    "    xy :: Array{Float64,2}\n",
    "    nprimes :: Vector{Float64}\n",
    "end"
   ]
  },
  {
   "cell_type": "code",
   "execution_count": 3,
   "metadata": {},
   "outputs": [
    {
     "data": {
      "text/plain": [
       "calc_score (generic function with 1 method)"
      ]
     },
     "execution_count": 3,
     "metadata": {},
     "output_type": "execute_result"
    }
   ],
   "source": [
    "function calc_score(cities, list_path, tenth)\n",
    "    @views xy_cities = cities.xy\n",
    "    len_path     = length(list_path)\n",
    "    # Calc Distance\n",
    "    @views xy_path   = xy_cities[list_path,:]\n",
    "    @views @inbounds dist_path = sqrt.(sum((xy_path[1:end-1,:] .- xy_path[2:end,:]).^2; dims=2))[:,1]\n",
    "    \n",
    "    # List of Primes 0 to (len_path-1)\n",
    "    # Flag array, is path's from-city number non-prime?\n",
    "    @views is_path_from_non_prime   = cities.nprimes[list_path][1:end-1]   \n",
    "    # If both flags are true, *1.1, else * 1.0\n",
    "    extra = sum(dist_path .* 0.1 .* is_path_from_non_prime .* tenth)\n",
    "    min_extra = 0\n",
    "    sum_tenth = convert(Int,sum(tenth))\n",
    "    nof_primes = convert(Int,len_path-1-sum(is_path_from_non_prime))\n",
    "    if nof_primes < sum_tenth\n",
    "        k_idx = partialsortperm(dist_path, 1:sum_tenth-nof_primes)\n",
    "        min_extra = sum(0.1 .* dist_path[k_idx])\n",
    "    end\n",
    "    return sum(dist_path)+extra, extra, min_extra\n",
    "end"
   ]
  },
  {
   "cell_type": "code",
   "execution_count": 73,
   "metadata": {},
   "outputs": [
    {
     "data": {
      "text/plain": [
       "get_cycle (generic function with 2 methods)"
      ]
     },
     "execution_count": 73,
     "metadata": {},
     "output_type": "execute_result"
    }
   ],
   "source": [
    "function get_cycle(m, x, x_vals, N, to_vec, cycle_vars; first=true)\n",
    "    cycle_idx = Int[]\n",
    "    \n",
    "    if !first\n",
    "        # get next cycle\n",
    "        for y=1:N\n",
    "            if !haskey(cycle_vars,y)\n",
    "                push!(cycle_idx, y)\n",
    "                to_vec,bcycle = get_vec(N,to_vec,x_vals;cycle_det=true,i=y)\n",
    "                break\n",
    "            end\n",
    "        end\n",
    "    else\n",
    "        push!(cycle_idx, 1)\n",
    "    end\n",
    "\n",
    "    first = false\n",
    "    while true\n",
    "        idx = to_vec[cycle_idx[end]]\n",
    "        cycle_vars[idx] = true\n",
    "        push!(cycle_idx, idx)\n",
    "        if idx == cycle_idx[1]\n",
    "            break\n",
    "        end\n",
    "    end\n",
    "    sumx = 0\n",
    "    last = cycle_idx[1]\n",
    "    for i=2:length(cycle_idx)\n",
    "        if last < cycle_idx[i]\n",
    "            sumx += x[last,cycle_idx[i]]\n",
    "        else \n",
    "            sumx += x[cycle_idx[i],last]\n",
    "        end\n",
    "        last = cycle_idx[i]\n",
    "    end\n",
    "    return cycle_idx, sumx\n",
    "end"
   ]
  },
  {
   "cell_type": "code",
   "execution_count": 72,
   "metadata": {},
   "outputs": [
    {
     "data": {
      "text/plain": [
       "get_vec (generic function with 1 method)"
      ]
     },
     "execution_count": 72,
     "metadata": {},
     "output_type": "execute_result"
    }
   ],
   "source": [
    "function get_vec(N,to_vec,x_vals;i=1,used=Dict{Int64,Bool}(),cycle_det=false,bcycle=false)\n",
    "    idx = 0\n",
    "    m_idx = 0\n",
    "    for j = i+1:N\n",
    "        if isapprox(x_vals[i,j]-1, 0, atol=1e-6)\n",
    "            m_idx = 0\n",
    "            if !haskey(used,j)\n",
    "                idx = j\n",
    "                used[j] = true\n",
    "                to_vec[i] = j\n",
    "                x_vals[i,j] = 0\n",
    "                to_vec, bcycle = get_vec(N,to_vec,x_vals;i=idx,used=used,cycle_det=cycle_det,bcycle=bcycle)\n",
    "                break\n",
    "            end\n",
    "        end\n",
    "    end\n",
    "    if idx == 0\n",
    "        for j = 1:i-1\n",
    "            if isapprox(x_vals[j,i]-1, 0, atol=1e-6)\n",
    "                m_idx = 0\n",
    "                if !haskey(used,j)\n",
    "                    idx = j\n",
    "                    used[j] = true\n",
    "                    x_vals[i,j] = 0\n",
    "                    to_vec[i] = j\n",
    "                    to_vec, bcycle = get_vec(N,to_vec,x_vals;i=idx,used=used,cycle_det=cycle_det,bcycle=bcycle)\n",
    "                    break\n",
    "                end\n",
    "            end\n",
    "        end\n",
    "    end\n",
    "    if idx == 0 && cycle_det\n",
    "        for y=1:N\n",
    "            if to_vec[y] == 0\n",
    "                return to_vec, 1\n",
    "            end\n",
    "        end\n",
    "        return to_vec, bcycle\n",
    "    end\n",
    "\n",
    "    if idx == 0 \n",
    "        for y=1:N\n",
    "            if !isassigned(to_vec,y)\n",
    "                to_vec, bcycle = get_vec(N,to_vec,x_vals;i=y,used=used,cycle_det=cycle_det,bcycle=bcycle)\n",
    "                break\n",
    "            end\n",
    "        end\n",
    "    end\n",
    "    return to_vec, bcycle\n",
    "end"
   ]
  },
  {
   "cell_type": "code",
   "execution_count": 7,
   "metadata": {},
   "outputs": [
    {
     "data": {
      "text/plain": [
       "get_x_vals (generic function with 1 method)"
      ]
     },
     "execution_count": 7,
     "metadata": {},
     "output_type": "execute_result"
    }
   ],
   "source": [
    "function get_x_vals(x, N)\n",
    "    x_sparse = getvalue(x)\n",
    "\n",
    "    x_vals = zeros(N,N)\n",
    "    for i=1:N, j=i+1:N\n",
    "        x_vals[i,j] = x_sparse[i,j]\n",
    "    end\n",
    "    return x_vals\n",
    "end"
   ]
  },
  {
   "cell_type": "code",
   "execution_count": 74,
   "metadata": {},
   "outputs": [
    {
     "data": {
      "text/plain": [
       "solved"
      ]
     },
     "execution_count": 74,
     "metadata": {},
     "output_type": "execute_result"
    }
   ],
   "source": [
    "\"\"\"\n",
    "    solved(m, x, N)\n",
    "\n",
    "Checks whether there is a subtour if yes returns false and the subtour will be removed\n",
    "in the next solve\n",
    "\"\"\"\n",
    "function solved(m, x, N)\n",
    "    x_vals = get_x_vals(x,N)\n",
    "\n",
    "    # find cycle\n",
    "    to_vec = zeros(Int,N)\n",
    "    used = Dict{Int64,Bool}()\n",
    "    objective = 0\n",
    "    cycle_vars = Dict{Int64,Bool}()\n",
    "    to_vec, bcycle = get_vec(N,to_vec,x_vals;cycle_det=true)\n",
    "    if bcycle == 1\n",
    "        first = true\n",
    "        while length(cycle_vars) != N\n",
    "            cycle_idx, sumx = get_cycle(m, x, x_vals, N, to_vec, cycle_vars; first=first)\n",
    "            first = false\n",
    "            if length(cycle_idx)-1 < N\n",
    "                @constraint(m, sumx <= length(cycle_idx)-2)\n",
    "            end\n",
    "        end\n",
    "        return false\n",
    "    end\n",
    "    return true \n",
    "end"
   ]
  },
  {
   "cell_type": "code",
   "execution_count": 75,
   "metadata": {},
   "outputs": [
    {
     "data": {
      "text/plain": [
       "prime_solved (generic function with 1 method)"
      ]
     },
     "execution_count": 75,
     "metadata": {},
     "output_type": "execute_result"
    }
   ],
   "source": [
    "function prime_solved(start, m, x, N, cities, tenth, dists, score, extra, subm_path)\n",
    "    to_vec = zeros(Int,N)\n",
    "    x_vals = get_x_vals(x,N)\n",
    "    cycle_vars = Dict{Int64,Bool}()\n",
    "    to_vec, bcycle = get_vec(N,to_vec,x_vals)\n",
    "    cycle_idx, _ = get_cycle(m, x, x_vals, N, to_vec, cycle_vars)\n",
    "    cycle_idx = cycle_idx[1:end-1]\n",
    "#     println(\"New tour: \", cycle_idx)\n",
    "#     println(\"New tour length: \", length(cycle_idx))\n",
    "    new_path = subm_path[start.+cycle_idx]\n",
    "    new_score, new_extra, min_extra = calc_score(cities, new_path, tenth)\n",
    "    println(\"Current New score: \", new_score)\n",
    "    println(\"Current New score without extra: \", new_score-new_extra)\n",
    "    if new_score < score\n",
    "        return true\n",
    "    else\n",
    "        # remove the current path as it's not an improvemeny\n",
    "        len_cyc = length(cycle_idx)\n",
    "        sumx = 0\n",
    "        for k in 1:len_cyc-1\n",
    "            if cycle_idx[k] < cycle_idx[k+1]\n",
    "                sumx += x[cycle_idx[k],cycle_idx[k+1]]\n",
    "            else\n",
    "                sumx += x[cycle_idx[k+1],cycle_idx[k]]\n",
    "            end\n",
    "        end\n",
    "        @constraint(m, sumx <= len_cyc-2)\n",
    "        return false\n",
    "    end\n",
    "end"
   ]
  },
  {
   "cell_type": "code",
   "execution_count": 83,
   "metadata": {},
   "outputs": [
    {
     "data": {
      "text/plain": [
       "run_mip (generic function with 1 method)"
      ]
     },
     "execution_count": 83,
     "metadata": {},
     "output_type": "execute_result"
    }
   ],
   "source": [
    "function run_mip(start, cities, tenth, subm_path, N)\n",
    "    println(\"Start: \", start)\n",
    "    old_subm_path = copy(subm_path)\n",
    "    score, extra, min_extra = calc_score(cities, subm_path[start+1:start+N], tenth)\n",
    "    println(\"Current distance with extra: \", score)\n",
    "    println(\"Current distance w/o extra: \", score-extra)\n",
    "    println(\"Current extra: \", extra)\n",
    "    println(\"Search form normal dist < \", score-min_extra)\n",
    "    \n",
    "    pre_time = time()\n",
    "    # generate distance matrix for the N cities\n",
    "    c_pos = cities.xy[subm_path[start+1:start+N],:]\n",
    "    dists = zeros(N,N)\n",
    "    for i=1:N\n",
    "        for j=i+1:N\n",
    "            dists[i,j] = euclidean(c_pos[i,:],c_pos[j,:])\n",
    "            dists[j,i] = dists[i,j]\n",
    "        end\n",
    "    end\n",
    "    # it should be circular so N -> 1 has zero costs\n",
    "    dists[1,N] = 0\n",
    "    \n",
    "    # Normal MIP approach with N^2/2 edges only 1 -> 2 not 2 -> 1 \n",
    "    solver = CbcSolver()\n",
    "    m = Model(solver=solver)\n",
    "    @variable(m, x[f=1:N,t=f+1:N], Bin)\n",
    "    @objective(m, Min, sum(x[i,j]*dists[i,j] for i=1:N,j=i+1:N))\n",
    "    for i=1:N\n",
    "        @constraint(m, sum(x[j,i] for j=1:i-1)+sum(x[i,j] for j=i+1:N) == 2)\n",
    "    end\n",
    "    \n",
    "    # the prime score is at least min_extra higher so we want something below \n",
    "    @constraint(m, sum(x[i,j]*dists[i,j] for i=1:N,j=i+1:N) <= score-min_extra)\n",
    "    \n",
    "    # N has to be connected to 1\n",
    "    @constraint(m, x[1,N] == 1)\n",
    "\n",
    "    t = time()\n",
    "    status = solve(m)\n",
    "    println(\"Status: \", status)\n",
    "    \n",
    "    # This shouldn't happen but also shouldn't kill the program\n",
    "    if status == :Infeasible\n",
    "        return subm_path, false\n",
    "    end\n",
    "    println(\"MIP Obj: \", getobjectivevalue(m))\n",
    "    \n",
    "    # remove cycles\n",
    "    while !solved(m,x,N)\n",
    "        status = solve(m)\n",
    "    end\n",
    "    \n",
    "    # this only if we later restrict the number of cycles removed for run time maybe\n",
    "    if status == :Infeasible\n",
    "        return subm_path, false\n",
    "    end\n",
    "        \n",
    "    counter = 0\n",
    "    removed_cycles = 0\n",
    "    max_paths = 25\n",
    "    # check if the current is a better prime solution if not remove the path \n",
    "    # and try again\n",
    "    while !prime_solved(start, m, x, N, cities, tenth, dists, score, extra, subm_path) && counter < max_paths\n",
    "        status = solve(m)\n",
    "        status == :Infeasible && break\n",
    "        # again remove cycles\n",
    "        while !solved(m,x,N)\n",
    "            status = solve(m)\n",
    "            status == :Infeasible && break\n",
    "            removed_cycles += 1\n",
    "            if removed_cycles >= 70\n",
    "                status == :Infeasible\n",
    "                break\n",
    "            end\n",
    "        end\n",
    "        status == :Infeasible && break\n",
    "        counter += 1 \n",
    "    end\n",
    "    \n",
    "    improved = false\n",
    "    if counter < max_paths && status != :Infeasible\n",
    "        println(\"FOUND BETTER...\") \n",
    "        println(\"Counter: , \", counter)\n",
    "        to_vec = zeros(Int,N)\n",
    "        x_vals = get_x_vals(x,N)\n",
    "        cycle_vars = Dict{Int64,Bool}()\n",
    "        to_vec, bcycle = get_vec(N,to_vec,x_vals)\n",
    "        cycle_idx, _ = get_cycle(m, x, x_vals, N, to_vec, cycle_vars)\n",
    "        println(\"New tour: \", cycle_idx)\n",
    "        new_path = subm_path[start.+cycle_idx][1:end-1]\n",
    "        new_score, new_extra, _ = calc_score(cities, new_path, tenth)\n",
    "        @assert score-new_score > 0\n",
    "        println(\"Improved by: \", score-new_score)\n",
    "        global_tenth = [(i % 10) == 0 for i in 1:length(subm_path)-1]\n",
    "        println(\"oldScore: \", calc_score(cities, subm_path, global_tenth))\n",
    "        subm_path[start+1:start+N] = new_path \n",
    "        println(\"newScore: \", calc_score(cities, subm_path, global_tenth))\n",
    "        improved = true\n",
    "    else\n",
    "       @assert subm_path == old_subm_path     \n",
    "    end\n",
    "    println(\"Time for solving: \", time()-t)\n",
    "\n",
    "    if status != :Infeasible\n",
    "        println(\"Obj: \", getobjectivevalue(m))\n",
    "    end\n",
    "\n",
    "    flush(stdout)\n",
    "    return subm_path, improved # subm_path, improved\n",
    "end           "
   ]
  },
  {
   "cell_type": "code",
   "execution_count": 95,
   "metadata": {},
   "outputs": [
    {
     "data": {
      "text/plain": [
       "main (generic function with 1 method)"
      ]
     },
     "execution_count": 95,
     "metadata": {},
     "output_type": "execute_result"
    }
   ],
   "source": [
    "function main(from, to)\n",
    "    cities_csv = CSV.read(\"cities_p.csv\");\n",
    "    subm_df = CSV.read(\"tsp_improved_diff_mip_new.csv\");\n",
    "    xy_cities   = zeros(size(cities_csv)[1],2)\n",
    "    xy_cities[:,1] = cities_csv[:X]\n",
    "    xy_cities[:,2] = cities_csv[:Y]\n",
    "    cities = Cities(xy_cities, cities_csv[:nprimes])\n",
    "\n",
    "    subm_path = collect(skipmissing(subm_df[:Path]));\n",
    "    subm_path .+= 1\n",
    "    N = 102\n",
    "    for i=from:75:to\n",
    "        tenth = [(s % 10) == 0 for s in i+1:i+N-1]\n",
    "        subm_path, improved = run_mip(i, cities, tenth, subm_path, N);\n",
    "        if improved\n",
    "           df = DataFrame(Path=subm_path.-1)\n",
    "           CSV.write(\"tsp_improved_diff_mip_new.csv\", df);\n",
    "        end\n",
    "    end\n",
    "end"
   ]
  },
  {
   "cell_type": "code",
   "execution_count": 97,
   "metadata": {},
   "outputs": [
    {
     "name": "stdout",
     "output_type": "stream",
     "text": [
      "Start: 97435\n",
      "Current distance with extra: 764.6531221220823\n",
      "Current distance w/o extra: 760.2002206970694\n",
      "Current extra: 4.452901425012928\n",
      "Search form normal dist < 764.6531221220823\n",
      "Status: Optimal\n",
      "MIP Obj: 759.975914297209\n",
      "Current New score: 764.6531221220823\n",
      "Current New score without extra: 760.2002206970694\n",
      "Current New score: 766.2064530775071\n",
      "Current New score without extra: 760.5370983993104\n",
      "Current New score: 766.4806102865821\n",
      "Current New score without extra: 760.8112556083853\n",
      "Current New score: 766.6204712161687\n",
      "Current New score without extra: 760.8374386987944\n",
      "Current New score: 765.7851172120485\n",
      "Current New score without extra: 760.8570833588208\n",
      "Current New score: 767.6479072146956\n",
      "Current New score without extra: 761.1115959078692\n",
      "Current New score: 767.7116886053678\n",
      "Current New score without extra: 761.1855330453237\n",
      "Current New score: 766.5824584244164\n",
      "Current New score without extra: 761.4863053823626\n",
      "Current New score: 766.4524758099838\n",
      "Current New score without extra: 761.524441956756\n",
      "Current New score: 767.3801548725388\n",
      "Current New score without extra: 761.7246247479487\n",
      "Current New score: 768.082544976322\n",
      "Current New score without extra: 761.7250667894201\n",
      "Current New score: 767.5678534551233\n",
      "Current New score without extra: 761.7926249338514\n",
      "Current New score: 768.2356608054703\n",
      "Current New score without extra: 761.8231830846037\n",
      "Current New score: 768.3473560079079\n",
      "Current New score without extra: 761.82478225624\n",
      "Current New score: 768.0209300765397\n",
      "Current New score without extra: 761.8505451757391\n",
      "Current New score: 768.6076158367691\n",
      "Current New score without extra: 761.8821388852267\n",
      "Current New score: 767.9248982169457\n",
      "Current New score without extra: 761.9223539800486\n",
      "Current New score: 766.467911288022\n",
      "Current New score without extra: 762.0150098630091\n",
      "Current New score: 768.5475387991005\n",
      "Current New score without extra: 762.0249650474326\n",
      "Current New score: 766.5040989146014\n",
      "Current New score without extra: 762.0511974895885\n",
      "Current New score: 768.6155389850032\n",
      "Current New score without extra: 762.0929652333353\n",
      "Current New score: 768.5098180145451\n",
      "Current New score without extra: 762.0973402936785\n",
      "Current New score: 767.7135634680672\n",
      "Current New score without extra: 762.1235233840877\n",
      "Current New score: 767.8523413953124\n",
      "Current New score without extra: 762.143168044114\n",
      "Current New score: 766.6400733962624\n",
      "Current New score without extra: 762.1871719712495\n",
      "Current New score: 770.011764266046\n",
      "Current New score without extra: 762.1874228779801\n",
      "Time for solving: 46.76882290840149\n",
      "Obj: 762.1874228779801\n"
     ]
    }
   ],
   "source": [
    "main(97435,97435)"
   ]
  }
 ],
 "metadata": {
  "kernelspec": {
   "display_name": "Julia 1.0.2",
   "language": "julia",
   "name": "julia-1.0"
  },
  "language_info": {
   "file_extension": ".jl",
   "mimetype": "application/julia",
   "name": "julia",
   "version": "1.0.2"
  }
 },
 "nbformat": 4,
 "nbformat_minor": 2
}
