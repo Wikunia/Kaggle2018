{
 "cells": [
  {
   "cell_type": "code",
   "execution_count": 1,
   "metadata": {},
   "outputs": [],
   "source": [
    "using CSV, DataFrames, Distances, DelimitedFiles, Plots, JuMP, Cbc, Gurobi"
   ]
  },
  {
   "cell_type": "code",
   "execution_count": 2,
   "metadata": {},
   "outputs": [
    {
     "data": {
      "text/plain": [
       "calc_score (generic function with 1 method)"
      ]
     },
     "execution_count": 2,
     "metadata": {},
     "output_type": "execute_result"
    }
   ],
   "source": [
    "function calc_score(cities, list_path, tenth)\n",
    "    @views xy_cities = cities.xy\n",
    "    len_path     = length(list_path)\n",
    "    # Calc Distance\n",
    "    @views xy_path   = xy_cities[list_path,:]\n",
    "    @views @inbounds dist_path = sqrt.(sum((xy_path[1:end-1,:] .- xy_path[2:end,:]).^2; dims=2))[:,1]\n",
    "    \n",
    "    # List of Primes 0 to (len_path-1)\n",
    "    # Flag array, is path's from-city number non-prime?\n",
    "    @views is_path_from_non_prime   = cities.nprimes[list_path][1:end-1]   \n",
    "    # If both flags are true, *1.1, else * 1.0\n",
    "    result = dist_path .* (1.0 .+ 0.1 .* is_path_from_non_prime .* tenth)\n",
    "    return Score(sum(result), dist_path, result)\n",
    "end"
   ]
  },
  {
   "cell_type": "code",
   "execution_count": 48,
   "metadata": {},
   "outputs": [
    {
     "data": {
      "text/plain": [
       "solved (generic function with 2 methods)"
      ]
     },
     "execution_count": 48,
     "metadata": {},
     "output_type": "execute_result"
    }
   ],
   "source": [
    "function solved(m,x,N)\n",
    "    x_val = getvalue(x)\n",
    "    \n",
    "    # find cycle\n",
    "    cycle_idx = Int[]\n",
    "    push!(cycle_idx, 1)\n",
    "    while true\n",
    "        v, idx = findmax(x_val[cycle_idx[end],1:N])\n",
    "        if idx == cycle_idx[1]\n",
    "            break\n",
    "        else\n",
    "            push!(cycle_idx,idx)\n",
    "        end\n",
    "    end\n",
    "#     println(\"cycle_idx: \", cycle_idx)\n",
    "#     println(\"Length: \", length(cycle_idx))\n",
    "    if length(cycle_idx) < N\n",
    "        @constraint(m, sum(x[cycle_idx,cycle_idx]) <= length(cycle_idx)-1)\n",
    "        return false\n",
    "    end\n",
    "    return true\n",
    "end "
   ]
  },
  {
   "cell_type": "code",
   "execution_count": 44,
   "metadata": {},
   "outputs": [
    {
     "data": {
      "text/plain": [
       "run_mip (generic function with 2 methods)"
      ]
     },
     "execution_count": 44,
     "metadata": {},
     "output_type": "execute_result"
    }
   ],
   "source": [
    "function run_mip(start, cities, primes, subm_path, N)\n",
    "    if start % 2000 == 0\n",
    "        println(\"Start: \", start)\n",
    "    end\n",
    "    \n",
    "    pre_time = time()\n",
    "    # generate distance matrix for the N cities\n",
    "    c_pos = [zeros(2) for _ in 1:N]\n",
    "\n",
    "    for i = 1:N\n",
    "        c_pos[i] = [cities[:X][subm_path[start+i]+1],cities[:Y][subm_path[start+i]+1]]\n",
    "    end\n",
    "    dists = zeros(N,N)\n",
    "    for i=1:N\n",
    "        for j=i+1:N\n",
    "            dists[i,j] = euclidean(c_pos[i],c_pos[j])\n",
    "            dists[j,i] = dists[i,j]\n",
    "        end\n",
    "    end\n",
    "    # it should be circular so N -> 1 has zero costs\n",
    "    dists[N,1] = 0\n",
    "  \n",
    "    m = Model(solver=CbcSolver())\n",
    "    @variable(m, x[1:N,1:N], Bin)\n",
    "    @objective(m, Min, sum(x[i,j]*dists[i,j] for i=1:N,j=1:N))\n",
    "    @constraint(m, notself[i=1:N], x[i,i] == 0)\n",
    "    @constraint(m, oneout[i=1:N], sum(x[i,1:N]) == 1)\n",
    "    @constraint(m, onein[j=1:N], sum(x[1:N,j]) == 1)\n",
    "    for f=1:N, t=1:N\n",
    "        @constraint(m, x[f,t]+x[t,f] <= 1)\n",
    "    end\n",
    "    # N has to be connected to 1\n",
    "    @constraint(m, x[N,1] == 1)\n",
    "\n",
    "    t = time()\n",
    "    status = solve(m)\n",
    "\n",
    "    while !solved(m,x,N)\n",
    "        status = solve(m)\n",
    "    end\n",
    "    println(\"Time for solving: \", time()-t)\n",
    "\n",
    "    println(\"Obj: \", getobjectivevalue(m))\n",
    "\n",
    "    #=\n",
    "    for f=1:N, t=1:N\n",
    "        @constraint(m, x[f,t]+x[t,f] <= 1)\n",
    "    end\n",
    "    =#\n",
    "#     println(\"Time before solve: \", time()-pre_time)\n",
    "    \n",
    "    status = solve(m)\n",
    "    println(\"Status: \", status)\n",
    "            \n",
    "#     println(\"Post time: \", time()-post_time)\n",
    "        \n",
    "#     println(\"Obj: \", getobjectivevalue(m))\n",
    "    # println(\"Cus to Fac: \",getvalue(cf))\n",
    "\n",
    "    return [],false # subm_path, improved\n",
    "end           "
   ]
  },
  {
   "cell_type": "code",
   "execution_count": 50,
   "metadata": {},
   "outputs": [
    {
     "data": {
      "text/plain": [
       "main (generic function with 1 method)"
      ]
     },
     "execution_count": 50,
     "metadata": {},
     "output_type": "execute_result"
    }
   ],
   "source": [
    "function main(from, to)\n",
    "    cities = CSV.read(\"cities_p.csv\");\n",
    "    primes = findall(cities[:primes] .== true);\n",
    "    subm_df = CSV.read(\"tsp_improved_mip.csv\");\n",
    "\n",
    "    subm_path = collect(skipmissing(subm_df[:Path]));\n",
    "    for i=from:5:to\n",
    "        subm_path, improved = run_mip(i, cities, primes, subm_path, 42);\n",
    "        break\n",
    "        if improved\n",
    "           df = DataFrame(Path=subm_path)\n",
    "           CSV.write(\"tsp_improved_mip.csv\", df);\n",
    "        end\n",
    "    end\n",
    "end"
   ]
  },
  {
   "cell_type": "code",
   "execution_count": 52,
   "metadata": {},
   "outputs": [
    {
     "name": "stdout",
     "output_type": "stream",
     "text": [
      "Time for solving: 0.0426790714263916\n",
      "Obj: 304.1062908181468\n",
      "Status: Optimal\n",
      "Presolve 0 (-1891) rows, 0 (-1764) columns and 0 (-7057) elements\n",
      "Optimal - objective value 304.10629\n",
      "After Postsolve, objective 304.10629, infeasibilities - dual 0 (0), primal 0 (0)\n",
      "Optimal objective 304.1062908 - 0 iterations time 0.002, Presolve 0.00\n",
      "Cbc0045I Solution with objective value 304.106 saved\n"
     ]
    }
   ],
   "source": [
    "main(3124,100000)"
   ]
  }
 ],
 "metadata": {
  "kernelspec": {
   "display_name": "Julia 1.0.2",
   "language": "julia",
   "name": "julia-1.0"
  },
  "language_info": {
   "file_extension": ".jl",
   "mimetype": "application/julia",
   "name": "julia",
   "version": "1.0.2"
  }
 },
 "nbformat": 4,
 "nbformat_minor": 2
}
