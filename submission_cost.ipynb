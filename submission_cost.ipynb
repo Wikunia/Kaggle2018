{
 "cells": [
  {
   "cell_type": "code",
   "execution_count": 1,
   "metadata": {},
   "outputs": [],
   "source": [
    "using CSV, DataFrames, Distances, Formatting"
   ]
  },
  {
   "cell_type": "code",
   "execution_count": 2,
   "metadata": {},
   "outputs": [],
   "source": [
    "cities = CSV.read(\"cities_p.csv\");"
   ]
  },
  {
   "cell_type": "code",
   "execution_count": 3,
   "metadata": {},
   "outputs": [],
   "source": [
    "mutable struct Score\n",
    "    value :: Float64\n",
    "    dist_path :: Vector{Float64}\n",
    "    scaled_dist_path ::  Vector{Float64}\n",
    "end"
   ]
  },
  {
   "cell_type": "code",
   "execution_count": 4,
   "metadata": {},
   "outputs": [],
   "source": [
    "mutable struct Cities\n",
    "    xy :: Array{Float64,2}\n",
    "    nprimes :: Vector{Float64}\n",
    "end"
   ]
  },
  {
   "cell_type": "code",
   "execution_count": 5,
   "metadata": {},
   "outputs": [
    {
     "data": {
      "text/plain": [
       "get_score (generic function with 1 method)"
      ]
     },
     "execution_count": 5,
     "metadata": {},
     "output_type": "execute_result"
    }
   ],
   "source": [
    "function get_score(cities, subm_path)\n",
    "    all_ids = cities[:CityId]\n",
    "    all_x = cities[:X]\n",
    "    all_y = cities[:Y]\n",
    "\n",
    "    incs = 0\n",
    "    score = 0.0\n",
    "    pimp = 0.0\n",
    "    for i in 1:length(subm_path)-1\n",
    "        c_idx = subm_path[i]+1\n",
    "        n_idx = subm_path[i+1]+1\n",
    "        p1 = [all_x[c_idx],all_y[c_idx]]\n",
    "        p2 = [all_x[n_idx],all_y[n_idx]]\n",
    "        stepSize = euclidean(p1,p2)\n",
    "        if i % 10 == 0 && !cities[:primes][subm_path[i]+1]\n",
    "            pimp += 0.1*stepSize\n",
    "            stepSize *= 1.1\n",
    "            incs += 1\n",
    "        end\n",
    "        # print(stepSize)\n",
    "        score += stepSize\n",
    "    end\n",
    "    return score, incs, pimp\n",
    "end"
   ]
  },
  {
   "cell_type": "code",
   "execution_count": 6,
   "metadata": {},
   "outputs": [
    {
     "data": {
      "text/plain": [
       "calc_score (generic function with 1 method)"
      ]
     },
     "execution_count": 6,
     "metadata": {},
     "output_type": "execute_result"
    }
   ],
   "source": [
    "function calc_score(cities, list_path, tenth)\n",
    "    @views xy_cities = cities.xy\n",
    "    len_path     = length(list_path)\n",
    "    # Calc Distance\n",
    "    @views xy_path   = xy_cities[list_path,:]\n",
    "    @views @inbounds dist_path = sqrt.(sum((xy_path[1:end-1,:] .- xy_path[2:end,:]).^2; dims=2))[:,1]\n",
    "    \n",
    "    # List of Primes 0 to (len_path-1)\n",
    "    # Flag array, is path's from-city number non-prime?\n",
    "    @views is_path_from_non_prime   = cities.nprimes[list_path][1:end-1]   \n",
    "    # If both flags are true, *1.1, else * 1.0\n",
    "    extra = sum(dist_path .* 0.1 .* is_path_from_non_prime .* tenth)\n",
    "    return sum(dist_path)+extra, extra\n",
    "end"
   ]
  },
  {
   "cell_type": "code",
   "execution_count": 18,
   "metadata": {},
   "outputs": [
    {
     "name": "stdout",
     "output_type": "stream",
     "text": [
      "197770\n",
      "Extra: 12,626.65\n",
      "Score: 1,516,435.52\n",
      "Distance to 1: 1035.0499248430133\n",
      "Distance to Gold: 206.51992484298535\n",
      "Distance to current: -3.310075157089159\n"
     ]
    }
   ],
   "source": [
    "subm_df = CSV.read(\"tsp_improved_diff_mip_new.csv\"); \n",
    "subm_path = subm_df[:Path];\n",
    "tenth = [(i % 10) == 0 for i in 1:length(subm_path)-1]\n",
    "cities_csv = CSV.read(\"cities_p.csv\");\n",
    "subm_path = collect(skipmissing(subm_df[:Path]))\n",
    "subm_path .+= 1\n",
    "xy_cities   = zeros(size(cities_csv)[1],2)\n",
    "xy_cities[:,1] = cities_csv[:X]\n",
    "xy_cities[:,2] = cities_csv[:Y]\n",
    "cities = Cities(xy_cities, cities_csv[:nprimes])\n",
    "println(length(subm_path))\n",
    "score, extra = calc_score(cities, subm_path, tenth)\n",
    "println(\"Extra: \", format( extra, commas=true, precision=2))\n",
    "formatted_score = format( score, commas=true, precision=2)\n",
    "println(\"Score: \", formatted_score)\n",
    "println(\"Distance to 1: \", score-1515400.47)\n",
    "println(\"Distance to Gold: \", score-1516229)\n",
    "println(\"Distance to current: \", score-1516438.83)"
   ]
  },
  {
   "cell_type": "code",
   "execution_count": 8,
   "metadata": {},
   "outputs": [
    {
     "data": {
      "text/plain": [
       "1.5334926188288075e6"
      ]
     },
     "execution_count": 8,
     "metadata": {},
     "output_type": "execute_result"
    }
   ],
   "source": [
    "1.5334926188288075e6"
   ]
  }
 ],
 "metadata": {
  "kernelspec": {
   "display_name": "Julia 1.0.2",
   "language": "julia",
   "name": "julia-1.0"
  },
  "language_info": {
   "file_extension": ".jl",
   "mimetype": "application/julia",
   "name": "julia",
   "version": "1.0.2"
  }
 },
 "nbformat": 4,
 "nbformat_minor": 2
}
