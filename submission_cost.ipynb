{
 "cells": [
  {
   "cell_type": "code",
   "execution_count": 1,
   "metadata": {},
   "outputs": [],
   "source": [
    "using CSV, DataFrames, Distances, Formatting, Plots"
   ]
  },
  {
   "cell_type": "code",
   "execution_count": 2,
   "metadata": {},
   "outputs": [],
   "source": [
    "cities = CSV.read(\"cities_p.csv\");"
   ]
  },
  {
   "cell_type": "code",
   "execution_count": 3,
   "metadata": {},
   "outputs": [],
   "source": [
    "mutable struct Score\n",
    "    value :: Float64\n",
    "    dist_path :: Vector{Float64}\n",
    "    scaled_dist_path ::  Vector{Float64}\n",
    "end"
   ]
  },
  {
   "cell_type": "code",
   "execution_count": 4,
   "metadata": {},
   "outputs": [],
   "source": [
    "mutable struct Cities\n",
    "    xy :: Array{Float64,2}\n",
    "    nprimes :: Vector{Float64}\n",
    "end"
   ]
  },
  {
   "cell_type": "code",
   "execution_count": 5,
   "metadata": {},
   "outputs": [
    {
     "data": {
      "text/plain": [
       "get_score (generic function with 1 method)"
      ]
     },
     "execution_count": 5,
     "metadata": {},
     "output_type": "execute_result"
    }
   ],
   "source": [
    "function get_score(cities, subm_path)\n",
    "    all_ids = cities[:CityId]\n",
    "    all_x = cities[:X]\n",
    "    all_y = cities[:Y]\n",
    "\n",
    "    incs = 0\n",
    "    score = 0.0\n",
    "    pimp = 0.0\n",
    "    for i in 1:length(subm_path)-1\n",
    "        c_idx = subm_path[i]+1\n",
    "        n_idx = subm_path[i+1]+1\n",
    "        p1 = [all_x[c_idx],all_y[c_idx]]\n",
    "        p2 = [all_x[n_idx],all_y[n_idx]]\n",
    "        stepSize = euclidean(p1,p2)\n",
    "        if i % 10 == 0 && !cities[:primes][subm_path[i]+1]\n",
    "            pimp += 0.1*stepSize\n",
    "            stepSize *= 1.1\n",
    "            incs += 1\n",
    "        end\n",
    "        # print(stepSize)\n",
    "        score += stepSize\n",
    "    end\n",
    "    return score, incs, pimp\n",
    "end"
   ]
  },
  {
   "cell_type": "code",
   "execution_count": 6,
   "metadata": {},
   "outputs": [
    {
     "data": {
      "text/plain": [
       "calc_score (generic function with 1 method)"
      ]
     },
     "execution_count": 6,
     "metadata": {},
     "output_type": "execute_result"
    }
   ],
   "source": [
    "function calc_score(cities, list_path, tenth)\n",
    "    @views xy_cities = cities.xy\n",
    "    len_path     = length(list_path)\n",
    "    # Calc Distance\n",
    "    @views xy_path   = xy_cities[list_path,:]\n",
    "    @views @inbounds dist_path = sqrt.(sum((xy_path[1:end-1,:] .- xy_path[2:end,:]).^2; dims=2))[:,1]\n",
    "    \n",
    "    # List of Primes 0 to (len_path-1)\n",
    "    # Flag array, is path's from-city number non-prime?\n",
    "    @views is_path_from_non_prime   = cities.nprimes[list_path][1:end-1]   \n",
    "    # If both flags are true, *1.1, else * 1.0\n",
    "    extra = dist_path .* 0.1 .* is_path_from_non_prime .* tenth\n",
    "    return sum(dist_path)+sum(extra), dist_path, extra\n",
    "end"
   ]
  },
  {
   "cell_type": "code",
   "execution_count": 50,
   "metadata": {},
   "outputs": [
    {
     "name": "stdout",
     "output_type": "stream",
     "text": [
      "197770\n",
      "Extra: 12,053.80\n",
      "Max 5 extra costs: [8.15778, 7.14479, 7.00978, 6.99658, 6.67032]\n",
      "at indexes: [78130, 116160, 166880, 116070, 78140]\n",
      "Score: 1,516,063.31\n",
      "Distance to 1: 1329.3903714395128\n",
      "Distance to Gold: 121.06037143943831\n",
      "Distance to current: -35.00962856062688\n"
     ]
    }
   ],
   "source": [
    "dfs = Vector{DataFrame}(undef,6)\n",
    "subm_paths = Vector{Vector{Int}}(undef,6)\n",
    "for i = 1:6\n",
    "    dfs[i] = CSV.read(\"tsp_after_three_mip_partial_\"*string(i)*\".csv\"); \n",
    "    subm_paths[i] = dfs[i][:Path];\n",
    "end\n",
    "subm_path = vcat(subm_paths[1][1:81492],subm_paths[2][81493:104757],subm_paths[3][104758:128022],\n",
    "                 subm_paths[4][128023:151287],subm_paths[5][151288:175552],subm_paths[6][175553:end])\n",
    "tenth = [(i % 10) == 0 for i in 1:length(subm_path)-1]\n",
    "cities_csv = CSV.read(\"cities_p.csv\");\n",
    "subm_path = collect(skipmissing(subm_path))\n",
    "df = DataFrame(Path=subm_path)\n",
    "CSV.write(\"combined.csv\", df);\n",
    "subm_path .+= 1\n",
    "xy_cities   = zeros(size(cities_csv)[1],2)\n",
    "xy_cities[:,1] = cities_csv[:X] \n",
    "xy_cities[:,2] = cities_csv[:Y]\n",
    "cities = Cities(xy_cities, cities_csv[:nprimes])\n",
    "println(length(subm_path))\n",
    "score, normal_dist, extra = calc_score(cities, subm_path, tenth)\n",
    "println(\"Extra: \", format( sum(extra), commas=true, precision=2))\n",
    "max_5_extra = partialsortperm(extra, 1:5; rev=true)\n",
    "println(\"Max 5 extra costs: \", extra[max_5_extra])\n",
    "println(\"at indexes: \", max_5_extra)\n",
    "formatted_score = format( score, commas=true, precision=2)\n",
    "println(\"Score: \", formatted_score)\n",
    "println(\"Distance to 1: \", score-1514733.92)\n",
    "println(\"Distance to Gold: \", score-1515942.25)\n",
    "println(\"Distance to current: \", score-1516098.32)"
   ]
  },
  {
   "cell_type": "code",
   "execution_count": 69,
   "metadata": {},
   "outputs": [],
   "source": [
    "gr()\n",
    "bins = [0.1,0.2,0.3,0.4,0.5,0.6,0.7,0.8,0.9,1.0,1.1,1.2,1.3,1.4,1.5,1.6,1.7,1.8,1.9,2.0,2.1,2.2]\n",
    "histogram(extra, label=\"Weighted histogram\", bins=bins, weights=extra)\n",
    "png(\"histo_weighted\")"
   ]
  },
  {
   "cell_type": "code",
   "execution_count": 28,
   "metadata": {},
   "outputs": [
    {
     "name": "stdout",
     "output_type": "stream",
     "text": [
      "p: 28001\n",
      "k: 4\n",
      "current: 9028.919954181029\n",
      "best: 9023.711819292696\n",
      "p: 69001\n",
      "k: 7\n",
      "current: 6934.714132922448\n",
      "best: 6934.598872750932\n",
      "p: 82001\n",
      "k: 3\n",
      "current: 6804.371002046496\n",
      "best: 6802.961320725436\n",
      "p: 89001\n",
      "k: 4\n",
      "current: 5943.172828864562\n",
      "best: 5940.356091584937\n",
      "p: 121001\n",
      "k: 1\n",
      "current: 5857.162079013128\n",
      "best: 5852.894304875104\n",
      "p: 136001\n",
      "k: 7\n",
      "current: 9068.427486953356\n",
      "best: 9067.238354855033\n",
      "p: 137001\n",
      "k: 3\n",
      "current: 8500.48288583564\n",
      "best: 8498.746461036688\n",
      "p: 164001\n",
      "k: 2\n",
      "current: 6660.569064683388\n",
      "best: 6660.457273294403\n",
      "p: 166001\n",
      "k: 5\n",
      "current: 5993.724931361787\n",
      "best: 5990.272885348433\n",
      "p: 182001\n",
      "k: 7\n",
      "current: 8809.096519815741\n",
      "best: 8807.556209620057\n",
      "p: 187001\n",
      "k: 3\n",
      "current: 6934.675755902758\n",
      "best: 6934.313531379395\n"
     ]
    }
   ],
   "source": [
    "tenth_arr = Vector{Vector{Bool}}(undef, 10)\n",
    "for p = 1:1000:length(subm_path)-1000\n",
    "    best_score = 100000000\n",
    "    current_score = 100000000\n",
    "    best_k = -1\n",
    "    for k = 0:9\n",
    "        tenth_arr[k+1] = [(i % 10) == k for i in 1:length(subm_path)-1][p:p+999]\n",
    "        score, normal_dist, extra = calc_score(cities, subm_path[p:p+1000], tenth_arr[k+1])\n",
    "        if score < best_score\n",
    "            best_score = score\n",
    "            best_k = k\n",
    "        end\n",
    "        if k == 0\n",
    "            current_score = score\n",
    "        end\n",
    "    end\n",
    "    if best_k != 0\n",
    "        println(\"p: \", p)\n",
    "        println(\"k: \", best_k)\n",
    "        println(\"current: \", current_score)\n",
    "        println(\"best: \", best_score)\n",
    "    end\n",
    "end"
   ]
  },
  {
   "cell_type": "code",
   "execution_count": 8,
   "metadata": {},
   "outputs": [],
   "source": [
    "counter = 1\n",
    "ccolor = 1\n",
    "tenth_full = [(i % 10) == 0 for i in 1:length(subm_path)]\n",
    "tenth_and_noprime = cities.nprimes[subm_path] .* tenth_full\n",
    "\n",
    "gr()\n",
    "prime_idx = findall(cities_csv[:primes] .== true);\n",
    "width = 5100\n",
    "height = 3400\n",
    "\n",
    "# plot(cities_csv[:X][subm_path[1:1000]], cities_csv[:Y][subm_path[1:1000]], markersize=1, \n",
    "#      seriestype=:path,size = (width, height), color = :RdYlBu, line_z = 1:100, label=\"\", axis=false)\n",
    "step_length = length(subm_path)\n",
    "for k = 1:step_length:length(subm_path)\n",
    "    plot(cities_csv[:X][prime_idx], cities_csv[:Y][prime_idx], markersize=4, markerstrokewidth=0, seriestype=:scatter,\n",
    "        size = (width, height), label=\"\", color=:orange, axis=false)\n",
    "    red_tenth_x = Plots.Segments()\n",
    "    red_tenth_y = Plots.Segments()             \n",
    "    green_tenth_x = Plots.Segments()\n",
    "    green_tenth_y = Plots.Segments()                \n",
    "    for i=k+9:10:k+step_length\n",
    "        if i+1 > length(subm_path)\n",
    "            break\n",
    "        end\n",
    "        if tenth_and_noprime[i] == 1\n",
    "           push!(red_tenth_x, cities_csv[:X][subm_path[i:i+1]])\n",
    "           push!(red_tenth_y, cities_csv[:Y][subm_path[i:i+1]])\n",
    "        else\n",
    "           push!(green_tenth_x, cities_csv[:X][subm_path[i:i+1]])\n",
    "           push!(green_tenth_y, cities_csv[:Y][subm_path[i:i+1]])               \n",
    "        end                               \n",
    "    end\n",
    "    normal_x = Plots.Segments()\n",
    "    normal_y = Plots.Segments()  \n",
    "    for i=k:10:k+step_length\n",
    "        if i+9 > length(subm_path)\n",
    "            break\n",
    "        end\n",
    "       push!(normal_x, cities_csv[:X][subm_path[i:i+9]])\n",
    "       push!(normal_y, cities_csv[:Y][subm_path[i:i+9]])                           \n",
    "    end\n",
    "    plot!(normal_x.pts, normal_y.pts, linewidth=1, \n",
    "          seriestype=:path,size = (width, height), color = :blue, label=\"\", axis=false, \n",
    "          legend=false, colorbar=false)\n",
    "    plot!(red_tenth_x.pts, red_tenth_y.pts, linewidth=4, \n",
    "          seriestype=:path,size = (width, height), color = :red, label=\"\", axis=false, \n",
    "          legend=false, colorbar=false)\n",
    "    plot!(green_tenth_x.pts, green_tenth_y.pts, linewidth=4, \n",
    "          seriestype=:path,size = (width, height), color = :green, label=\"\", axis=false, \n",
    "          legend=false, colorbar=false)\n",
    "    savefig(\"concorde.svg\")\n",
    "end\n",
    "\n",
    "#=\n",
    "frame(anim)\n",
    "for i=1:each_length:1200 #length(subm_path)\n",
    "    xlims_min = minimum(cities_csv[:X][subm_path[i:i+each_length]])\n",
    "    xlims_max = maximum(cities_csv[:X][subm_path[i:i+each_length]])\n",
    "    ylims_min = minimum(cities_csv[:Y][subm_path[i:i+each_length]])\n",
    "    ylims_max = maximum(cities_csv[:Y][subm_path[i:i+each_length]])\n",
    "    xlims_padding  = (600-(xlims_max-xlims_min))/2\n",
    "    ylims_padding  = (337-(ylims_max-ylims_min))/2\n",
    "    for k=i:i+each_length-1\n",
    "       if k % 10 == 0 && !cities_csv[:primes][subm_path[i]]\n",
    "            plot!(cities_csv[:X][subm_path[k:k+1]], cities_csv[:Y][subm_path[k:k+1]], linewidth=4, \n",
    "                  seriestype=:path,size = (width, height), color = :red, label=\"\", axis=false,\n",
    "                  xlims = (xlims_min-xlims_padding,xlims_max+xlims_padding),\n",
    "                  ylims = (ylims_min-ylims_padding,ylims_max+ylims_padding)\n",
    "                )\n",
    "        elseif k % 10 == 0\n",
    "            plot!(cities_csv[:X][subm_path[k:k+1]], cities_csv[:Y][subm_path[k:k+1]], linewidth=4, \n",
    "                  seriestype=:path, color = :green, label=\"\", axis=false)\n",
    "        else\n",
    "            plot!(cities_csv[:X][subm_path[k:k+1]], cities_csv[:Y][subm_path[k:k+1]], linewidth=1, \n",
    "                  seriestype=:path, color = :blue, label=\"\", axis=false)\n",
    "        end\n",
    "    end\n",
    "    frame(anim)\n",
    "end\n",
    "each_length = 10\n",
    "for i=1201:each_length:2200 #length(subm_path)\n",
    "    xlims_min = minimum(cities_csv[:X][subm_path[i:i+each_length]])\n",
    "    xlims_max = maximum(cities_csv[:X][subm_path[i:i+each_length]])\n",
    "    ylims_min = minimum(cities_csv[:Y][subm_path[i:i+each_length]])\n",
    "    ylims_max = maximum(cities_csv[:Y][subm_path[i:i+each_length]])\n",
    "    xlims_padding  = (600+5*(i-1201)-(xlims_max-xlims_min))/2\n",
    "    ylims_padding  = (337+2.81*(i-1201)-(ylims_max-ylims_min))/2\n",
    "    xlims_min = max(0, xlims_min-xlims_padding)     \n",
    "    xlims_max = min(5100, xlims_max+xlims_padding)  \n",
    "    ylims_min = max(0, ylims_min-ylims_padding)     \n",
    "    ylims_max = min(3400, ylims_max+ylims_padding) \n",
    "    for k=i:i+each_length-1\n",
    "       if k % 10 == 0 && !cities_csv[:primes][subm_path[i]]\n",
    "            plot!(cities_csv[:X][subm_path[k:k+1]], cities_csv[:Y][subm_path[k:k+1]], linewidth=4, \n",
    "                  seriestype=:path,size = (width, height), color = :red, label=\"\", axis=false,\n",
    "                  xlims = (xlims_min,xlims_max),\n",
    "                  ylims = (ylims_min,ylims_max)\n",
    "                )\n",
    "        elseif k % 10 == 0\n",
    "            plot!(cities_csv[:X][subm_path[k:k+1]], cities_csv[:Y][subm_path[k:k+1]], linewidth=4, \n",
    "                  seriestype=:path, color = :green, label=\"\", axis=false)\n",
    "        else\n",
    "            plot!(cities_csv[:X][subm_path[k:k+1]], cities_csv[:Y][subm_path[k:k+1]], linewidth=1, \n",
    "                  seriestype=:path, color = :blue, label=\"\", axis=false)\n",
    "        end\n",
    "    end\n",
    "    frame(anim)\n",
    "    println(\"i: \", i)\n",
    "end\n",
    "each_length = 500             \n",
    "for i=2201:each_length:length(subm_path)-each_length\n",
    "    plot!(cities_csv[:X][subm_path[i:i+each_length]], cities_csv[:Y][subm_path[i:i+each_length]], linewidth=4, \n",
    "                  seriestype=:path,size = (width, height), color = :blue, label=\"\", axis=false,\n",
    "                  xlims = (0,5100),\n",
    "                  ylims = (0,3400)\n",
    "                )\n",
    "    frame(anim)\n",
    "    println(\"i: \", i)\n",
    "end           \n",
    "plot!(cities_csv[:X][subm_path[197701:length(subm_path)]], cities_csv[:Y][subm_path[197701:length(subm_path)]], linewidth=4, \n",
    "  seriestype=:path,size = (width, height), color = :red, label=\"\", axis=false,\n",
    "  xlims = (0,5100),\n",
    "  ylims = (0,3400)\n",
    ")\n",
    "for i = 1:200\n",
    "    frame(anim)\n",
    "end\n",
    "mp4(anim, \"path_prime_20.mp4\", fps = 20)\n",
    "=#\n",
    "\n"
   ]
  },
  {
   "cell_type": "code",
   "execution_count": 44,
   "metadata": {},
   "outputs": [],
   "source": [
    "gr()\n",
    "x = rand(100)\n",
    "y = rand(100)\n",
    "plot(x,y, markersize=5, color=:red, seriestype=:scatter)\n",
    "for i = 1:99\n",
    "    if i % 10 == 0\n",
    "        plot!(x[i:i+1], y[i:i+1], linewidth=4, \n",
    "              seriestype=:path, label=\"\", axis=false, \n",
    "              legend=false, color=:blue, colorbar=false)\n",
    "    else\n",
    "        plot!(x[i:i+1], y[i:i+1], linewidth=1, \n",
    "              seriestype=:path, color=:blue, label=\"\", axis=false, \n",
    "              legend=false, colorbar=false)\n",
    "    end\n",
    "end\n",
    "png(\"mwe\")\n"
   ]
  },
  {
   "cell_type": "code",
   "execution_count": 10,
   "metadata": {},
   "outputs": [
    {
     "ename": "ErrorException",
     "evalue": "failed process: Process(`ffmpeg -v 0 -framerate 7 -loop 0 -i /tmp/tmpbuhS6F/%06d.png -pix_fmt yuv420p -y /home/ole/Kaggle/Santa_2018/path_prime_7.mp4`, ProcessExited(1)) [1]",
     "output_type": "error",
     "traceback": [
      "failed process: Process(`ffmpeg -v 0 -framerate 7 -loop 0 -i /tmp/tmpbuhS6F/%06d.png -pix_fmt yuv420p -y /home/ole/Kaggle/Santa_2018/path_prime_7.mp4`, ProcessExited(1)) [1]",
      "",
      "Stacktrace:",
      " [1] pipeline_error at ./process.jl:705 [inlined]",
      " [2] #run#504(::Bool, ::Function, ::Cmd) at ./process.jl:663",
      " [3] run at ./process.jl:661 [inlined]",
      " [4] #buildanimation#228(::Int64, ::Int64, ::Bool, ::Bool, ::Function, ::String, ::String, ::Bool) at /home/ole/.julia/packages/Plots/rmogG/src/animation.jl:87",
      " [5] #buildanimation at ./none:0 [inlined]",
      " [6] #mp4#227 at /home/ole/.julia/packages/Plots/rmogG/src/animation.jl:65 [inlined]",
      " [7] (::getfield(Plots, Symbol(\"#kw##mp4\")))(::NamedTuple{(:fps,),Tuple{Int64}}, ::typeof(mp4), ::Animation, ::String) at ./none:0",
      " [8] top-level scope at In[10]:1"
     ]
    }
   ],
   "source": [
    "mp4(anim, \"path_prime_7.mp4\", fps = 7)"
   ]
  },
  {
   "cell_type": "code",
   "execution_count": 11,
   "metadata": {},
   "outputs": [
    {
     "data": {
      "text/plain": [
       "5-element Array{Symbol,1}:\n",
       " :Plots      \n",
       " :cmocean    \n",
       " :misc       \n",
       " :colorcet   \n",
       " :colorbrewer"
      ]
     },
     "execution_count": 11,
     "metadata": {},
     "output_type": "execute_result"
    }
   ],
   "source": [
    "clibraries()"
   ]
  }
 ],
 "metadata": {
  "kernelspec": {
   "display_name": "Julia 1.0.2",
   "language": "julia",
   "name": "julia-1.0"
  },
  "language_info": {
   "file_extension": ".jl",
   "mimetype": "application/julia",
   "name": "julia",
   "version": "1.0.2"
  }
 },
 "nbformat": 4,
 "nbformat_minor": 2
}
