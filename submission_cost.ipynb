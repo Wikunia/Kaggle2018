{
 "cells": [
  {
   "cell_type": "code",
   "execution_count": 1,
   "metadata": {},
   "outputs": [],
   "source": [
    "using CSV, DataFrames, Distances"
   ]
  },
  {
   "cell_type": "code",
   "execution_count": 2,
   "metadata": {},
   "outputs": [],
   "source": [
    "cities = CSV.read(\"cities_p.csv\");"
   ]
  },
  {
   "cell_type": "code",
   "execution_count": 3,
   "metadata": {},
   "outputs": [
    {
     "data": {
      "text/plain": [
       "get_score (generic function with 1 method)"
      ]
     },
     "execution_count": 3,
     "metadata": {},
     "output_type": "execute_result"
    }
   ],
   "source": [
    "function get_score(cities, subm_path)\n",
    "    all_ids = cities[:CityId]\n",
    "    all_x = cities[:X]\n",
    "    all_y = cities[:Y]\n",
    "\n",
    "    incs = 0\n",
    "    score = 0.0\n",
    "    pimp = 0.0\n",
    "    println(subm_path[1:25])\n",
    "    for i in 1:length(subm_path)-1\n",
    "        c_idx = subm_path[i]+1\n",
    "        n_idx = subm_path[i+1]+1\n",
    "        p1 = [all_x[c_idx],all_y[c_idx]]\n",
    "        p2 = [all_x[n_idx],all_y[n_idx]]\n",
    "        stepSize = euclidean(p1,p2)\n",
    "        if i % 10 == 0 && !cities[:primes][subm_path[i]+1]\n",
    "            pimp += 0.1*stepSize\n",
    "            stepSize *= 1.1\n",
    "            incs += 1\n",
    "        end\n",
    "        # print(stepSize)\n",
    "        score += stepSize\n",
    "    end\n",
    "    return score, incs, pimp\n",
    "end"
   ]
  },
  {
   "cell_type": "code",
   "execution_count": 7,
   "metadata": {},
   "outputs": [
    {
     "name": "stdout",
     "output_type": "stream",
     "text": [
      "Union{Missing, Int64}[0, 47239, 177242, 167366, 38941, 22121, 134856, 182992, 139226, 70519, 114579, 160100, 13636, 194374, 152420, 85198, 115498, 98096, 48908, 122621, 25787, 170797, 144501, 24028, 118005]\n",
      "Score: 1.52434437866336e6\n",
      "Possible Improvement: 13211.446200424863\n",
      "Distance to 1: 8007.038663359825\n",
      "Distance to 50: -8864.061336640036\n"
     ]
    }
   ],
   "source": [
    "subm_df = CSV.read(\"new_submission_137000.csv\"); # 123\n",
    "subm_path = subm_df[:Path];\n",
    "score, incs, pimp = get_score(cities, subm_path)\n",
    "println(\"Score: \", score)\n",
    "println(\"Possible Improvement: \", pimp)\n",
    "println(\"Distance to 1: \", score-1516337.34)\n",
    "println(\"Distance to 50: \", score-1533208.44)"
   ]
  },
  {
   "cell_type": "code",
   "execution_count": 5,
   "metadata": {},
   "outputs": [
    {
     "data": {
      "text/plain": [
       "1.5334926188288075e6"
      ]
     },
     "execution_count": 5,
     "metadata": {},
     "output_type": "execute_result"
    }
   ],
   "source": [
    "1.5334926188288075e6"
   ]
  }
 ],
 "metadata": {
  "kernelspec": {
   "display_name": "Julia 1.0.2",
   "language": "julia",
   "name": "julia-1.0"
  },
  "language_info": {
   "file_extension": ".jl",
   "mimetype": "application/julia",
   "name": "julia",
   "version": "1.0.2"
  }
 },
 "nbformat": 4,
 "nbformat_minor": 2
}
