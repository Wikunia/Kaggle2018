{
 "cells": [
  {
   "cell_type": "code",
   "execution_count": 1,
   "metadata": {},
   "outputs": [],
   "source": [
    "using CSV, DataFrames, Distances, DelimitedFiles, Plots, JuMP, Cbc, Gurobi"
   ]
  },
  {
   "cell_type": "code",
   "execution_count": 2,
   "metadata": {},
   "outputs": [],
   "source": [
    "cities = CSV.read(\"cities_p.csv\");"
   ]
  },
  {
   "cell_type": "code",
   "execution_count": 3,
   "metadata": {},
   "outputs": [],
   "source": [
    "primes = findall(cities[:prime] .== true);"
   ]
  },
  {
   "cell_type": "code",
   "execution_count": 4,
   "metadata": {},
   "outputs": [
    {
     "data": {
      "text/plain": [
       "get_score (generic function with 1 method)"
      ]
     },
     "execution_count": 4,
     "metadata": {},
     "output_type": "execute_result"
    }
   ],
   "source": [
    "function get_score(cities, subm_path)\n",
    "    all_ids = cities[:CityId]\n",
    "    all_x = cities[:X]\n",
    "    all_y = cities[:Y]\n",
    "\n",
    "    incs = 0\n",
    "    score = 0.0\n",
    "    pimp = 0.0\n",
    "    for i in 1:length(subm_path)-1\n",
    "        c_idx = subm_path[i]+1\n",
    "        n_idx = subm_path[i+1]+1\n",
    "        p1 = [all_x[c_idx],all_y[c_idx]]\n",
    "        p2 = [all_x[n_idx],all_y[n_idx]]\n",
    "        stepSize = euclidean(p1,p2)\n",
    "        if i % 10 == 0 && !cities[:prime][subm_path[i]+1]\n",
    "            pimp += 0.1*stepSize\n",
    "            stepSize *= 1.1\n",
    "            incs += 1\n",
    "        end\n",
    "        # print(stepSize)\n",
    "        score += stepSize\n",
    "    end\n",
    "    return score\n",
    "end"
   ]
  },
  {
   "cell_type": "code",
   "execution_count": 5,
   "metadata": {},
   "outputs": [
    {
     "data": {
      "text/plain": [
       "run_test (generic function with 1 method)"
      ]
     },
     "execution_count": 5,
     "metadata": {},
     "output_type": "execute_result"
    }
   ],
   "source": [
    "function run_test(start, subm_path, N)\n",
    "    if start % 2000 == 0\n",
    "        println(\"Start: \", start)\n",
    "    end\n",
    "    \n",
    "    pre_time = time()\n",
    "    # generate distance matrix for the N cities\n",
    "    c_pos = [zeros(2) for _ in 1:N]\n",
    "\n",
    "    for i = 1:N\n",
    "        c_pos[i] = [cities[:X][subm_path[start+i]+1],cities[:Y][subm_path[start+i]+1]]\n",
    "    end\n",
    "    dists = zeros(N,N)\n",
    "    for i=1:N\n",
    "        for j=i+1:N\n",
    "            dists[i,j] = euclidean(c_pos[i],c_pos[j])\n",
    "            dists[j,i] = dists[i,j]\n",
    "        end\n",
    "    end\n",
    "    # it should be circular so N -> 1 has zero costs\n",
    "    dists[N,1] = 0\n",
    "\n",
    "    # non prime city penatlty every tenth step\n",
    "    extras = ones(N,N)\n",
    "    for i=1:N\n",
    "        if !cities[:prime][subm_path[start+i]+1]\n",
    "            for k = 1:convert(Int,floor(N/10))\n",
    "               extras[i,10*k-(start % 10)] = 1.1 \n",
    "            end\n",
    "        end\n",
    "    end\n",
    "    \n",
    "    #=\n",
    "        Every edge has a binary variable for every step\n",
    "        => N^3 variables\n",
    "    =#\n",
    "    m = Model(solver=CbcSolver())\n",
    "    @variable(m, x[1:N,1:N,1:N], Bin)\n",
    "    @objective(m, Min, sum(x[i,j,s]*dists[i,j]*extras[i,s] for i=1:N,j=1:N,s=1:N));\n",
    "    @constraint(m, notself[i=1:N], sum(x[i,i,1:N]) == 0);\n",
    "    @constraint(m, eachsteponce[s=1:N], sum(x[1:N,1:N,s]) == 1);\n",
    "    @constraint(m, oneout[i=1:N], sum(x[i,1:N,1:N]) == 1);\n",
    "    @constraint(m, onein[j=1:N], sum(x[1:N,j,1:N]) == 1);\n",
    "    \n",
    "    for s=1:N-1\n",
    "        for i=1:N,j=1:N\n",
    "            if i != j\n",
    "                @constraint(m, x[i,j,s] <= sum(x[j,1:N,s+1]));\n",
    "            end\n",
    "        end\n",
    "    end\n",
    "    # start point at 1 and end at N\n",
    "    @constraint(m, sum(x[1,1:N,1]) == 1);\n",
    "    @constraint(m, sum(x[1:N,N,N-1]) == 1);\n",
    "\n",
    "    #=\n",
    "    for f=1:N, t=1:N\n",
    "        @constraint(m, x[f,t]+x[t,f] <= 1)\n",
    "    end\n",
    "    =#\n",
    "#     println(\"Time before solve: \", time()-pre_time)\n",
    "    \n",
    "    status = solve(m)\n",
    "\n",
    "    post_time = time()\n",
    "    if status != :Optimal\n",
    "        println(\"Time limit\")\n",
    "        return subm_path, false\n",
    "    end\n",
    "    x_val = getvalue(x)\n",
    "    \n",
    "    \n",
    "    # find cycle\n",
    "    cycle_idx = []\n",
    "    push!(cycle_idx, 1)\n",
    "    while true\n",
    "        v, idx = findmax(x_val[cycle_idx[end],1:N,1:N])\n",
    "        if idx[1] == cycle_idx[1]\n",
    "            break\n",
    "        else\n",
    "            push!(cycle_idx,idx[1])\n",
    "        end\n",
    "    end\n",
    "\n",
    "    improved = false\n",
    "#     println(\"cycle_idx: \", cycle_idx)\n",
    "    if cycle_idx != collect(1:N)\n",
    "        base_score = get_score(cities, subm_path)\n",
    "        new_subm_path = copy(subm_path)\n",
    "        new_subm_path[start+1:start+N] = new_subm_path[start.+cycle_idx]\n",
    "        new_score = get_score(cities, new_subm_path)\n",
    "        println(\"Old: \", base_score)\n",
    "        println(\"New: \", new_score)\n",
    "        println(\"Improved by: \",base_score-new_score)\n",
    "        if base_score-new_score > 0\n",
    "            subm_path = new_subm_path \n",
    "            improved = true\n",
    "        else\n",
    "            println(\"Not improved at: \", start)\n",
    "            println(\"cycle_idx: \", cycle_idx)       \n",
    "            println(\"cycle_idx added : \", start.+cycle_idx)\n",
    "            println(\"Extras: \",)\n",
    "            for i = 1:N\n",
    "                println(extras[i,:])                        \n",
    "            end\n",
    "        end\n",
    "    end\n",
    "            \n",
    "#     println(\"Post time: \", time()-post_time)\n",
    "        \n",
    "#     println(\"Obj: \", getobjectivevalue(m))\n",
    "    # println(\"Cus to Fac: \",getvalue(cf))\n",
    "\n",
    "    return subm_path, improved\n",
    "end            "
   ]
  },
  {
   "cell_type": "code",
   "execution_count": 6,
   "metadata": {},
   "outputs": [
    {
     "data": {
      "text/plain": [
       "main (generic function with 1 method)"
      ]
     },
     "execution_count": 6,
     "metadata": {},
     "output_type": "execute_result"
    }
   ],
   "source": [
    "function main(from, to)\n",
    "    subm_df = CSV.read(\"submissions/mip_n272_t400.csv\");\n",
    "\n",
    "    subm_path = collect(skipmissing(subm_df[:Path]));\n",
    "    for i=from:5:to\n",
    "        subm_path, improved = run_test(i,subm_path, 12);\n",
    "        if improved\n",
    "           df = DataFrame(Path=subm_path)\n",
    "           CSV.write(\"submissions/temp.csv\", df);\n",
    "        end\n",
    "    end\n",
    "end"
   ]
  },
  {
   "cell_type": "code",
   "execution_count": 9,
   "metadata": {},
   "outputs": [
    {
     "name": "stdout",
     "output_type": "stream",
     "text": [
      "Start: 2000\n",
      "Old: 1.5164649411190108e6\n",
      "New: 1.5164645802025595e6\n",
      "Improved by: 0.3609164513181895\n",
      "Start: 4000\n",
      "Start: 6000\n",
      "Start: 8000\n",
      "Start: 10000\n",
      "Start: 12000\n",
      "Start: 14000\n"
     ]
    }
   ],
   "source": [
    "main(5,15000)"
   ]
  }
 ],
 "metadata": {
  "kernelspec": {
   "display_name": "Julia 1.0.2",
   "language": "julia",
   "name": "julia-1.0"
  },
  "language_info": {
   "file_extension": ".jl",
   "mimetype": "application/julia",
   "name": "julia",
   "version": "1.0.2"
  }
 },
 "nbformat": 4,
 "nbformat_minor": 2
}
