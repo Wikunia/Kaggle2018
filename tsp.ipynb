{
 "cells": [
  {
   "cell_type": "code",
   "execution_count": 1,
   "metadata": {},
   "outputs": [],
   "source": [
    "using CSV, DataFrames, Distances, DelimitedFiles, Plots, JuMP, Cbc"
   ]
  },
  {
   "cell_type": "code",
   "execution_count": 2,
   "metadata": {},
   "outputs": [],
   "source": [
    "cities = CSV.read(\"cities_p.csv\");"
   ]
  },
  {
   "cell_type": "code",
   "execution_count": 3,
   "metadata": {},
   "outputs": [],
   "source": [
    "primes = findall(cities[:prime] .== true);"
   ]
  },
  {
   "cell_type": "code",
   "execution_count": 4,
   "metadata": {},
   "outputs": [
    {
     "data": {
      "text/plain": [
       "get_score (generic function with 1 method)"
      ]
     },
     "execution_count": 4,
     "metadata": {},
     "output_type": "execute_result"
    }
   ],
   "source": [
    "function get_score(cities, subm_path)\n",
    "    all_ids = cities[:CityId]\n",
    "    all_x = cities[:X]\n",
    "    all_y = cities[:Y]\n",
    "\n",
    "    incs = 0\n",
    "    score = 0.0\n",
    "    pimp = 0.0\n",
    "    for i in 1:length(subm_path)-1\n",
    "        c_idx = subm_path[i]+1\n",
    "        n_idx = subm_path[i+1]+1\n",
    "        p1 = [all_x[c_idx],all_y[c_idx]]\n",
    "        p2 = [all_x[n_idx],all_y[n_idx]]\n",
    "        stepSize = euclidean(p1,p2)\n",
    "        if i % 10 == 0 && !cities[:prime][subm_path[i]+1]\n",
    "            pimp += 0.1*stepSize\n",
    "            stepSize *= 1.1\n",
    "            incs += 1\n",
    "        end\n",
    "        # print(stepSize)\n",
    "        score += stepSize\n",
    "    end\n",
    "    return score\n",
    "end"
   ]
  },
  {
   "cell_type": "code",
   "execution_count": 11,
   "metadata": {},
   "outputs": [
    {
     "data": {
      "text/plain": [
       "run_test (generic function with 1 method)"
      ]
     },
     "execution_count": 11,
     "metadata": {},
     "output_type": "execute_result"
    }
   ],
   "source": [
    "function run_test(start, subm_path, N)\n",
    "    if start % 2000 == 0\n",
    "        println(\"Start: \", start)\n",
    "    end\n",
    "    \n",
    "    pre_time = time()\n",
    "    # generate distance matrix for the N cities\n",
    "    c_pos = [zeros(2) for _ in 1:N]\n",
    "\n",
    "    for i = 1:N\n",
    "        c_pos[i] = [cities[:X][subm_path[start+i]+1],cities[:Y][subm_path[start+i]+1]]\n",
    "    end\n",
    "    dists = zeros(N,N)\n",
    "    for i=1:N\n",
    "        for j=i+1:N\n",
    "            dists[i,j] = euclidean(c_pos[i],c_pos[j])\n",
    "            dists[j,i] = dists[i,j]\n",
    "        end\n",
    "    end\n",
    "    # it should be circular so N -> 1 has zero costs\n",
    "    dists[N,1] = 0\n",
    "\n",
    "    # non prime city penatlty every tenth step\n",
    "    extras = ones(N,N)\n",
    "    for i=1:N\n",
    "        if !cities[:prime][subm_path[start+i]+1]\n",
    "            for k = 1:convert(Int,floor(N/10))\n",
    "               extras[i,10*k-(start % 10)] = 1.1 \n",
    "            end\n",
    "        end\n",
    "    end\n",
    "    \n",
    "    #=\n",
    "        Every edge has a binary variable for every step\n",
    "        => N^3 variables\n",
    "    =#\n",
    "    m = Model(solver=CbcSolver())\n",
    "    @variable(m, x[1:N,1:N,1:N], Bin)\n",
    "    @objective(m, Min, sum(x[i,j,s]*dists[i,j]*extras[i,s] for i=1:N,j=1:N,s=1:N));\n",
    "    @constraint(m, notself[i=1:N], sum(x[i,i,1:N]) == 0);\n",
    "    @constraint(m, eachsteponce[s=1:N], sum(x[1:N,1:N,s]) == 1);\n",
    "    @constraint(m, oneout[i=1:N], sum(x[i,1:N,1:N]) == 1);\n",
    "    @constraint(m, onein[j=1:N], sum(x[1:N,j,1:N]) == 1);\n",
    "    \n",
    "    for s=1:N-1\n",
    "        for i=1:N,j=1:N\n",
    "            if i != j\n",
    "                @constraint(m, x[i,j,s] <= sum(x[j,1:N,s+1]));\n",
    "            end\n",
    "        end\n",
    "    end\n",
    "    # start point at 1 and end at N\n",
    "    @constraint(m, sum(x[1,1:N,1]) == 1);\n",
    "    @constraint(m, sum(x[1:N,N,N-1]) == 1);\n",
    "\n",
    "    #=\n",
    "    for f=1:N, t=1:N\n",
    "        @constraint(m, x[f,t]+x[t,f] <= 1)\n",
    "    end\n",
    "    =#\n",
    "#     println(\"Time before solve: \", time()-pre_time)\n",
    "    \n",
    "    status = solve(m)\n",
    "\n",
    "    post_time = time()\n",
    "    if status != :Optimal\n",
    "        println(\"Time limit\")\n",
    "        return subm_path, false\n",
    "    end\n",
    "    x_val = getvalue(x)\n",
    "    \n",
    "    \n",
    "    # find cycle\n",
    "    cycle_idx = []\n",
    "    push!(cycle_idx, 1)\n",
    "    while true\n",
    "        v, idx = findmax(x_val[cycle_idx[end],1:N,1:N])\n",
    "        if idx[1] == cycle_idx[1]\n",
    "            break\n",
    "        else\n",
    "            push!(cycle_idx,idx[1])\n",
    "        end\n",
    "    end\n",
    "\n",
    "    improved = false\n",
    "#     println(\"cycle_idx: \", cycle_idx)\n",
    "    if cycle_idx != collect(1:N)\n",
    "        base_score = get_score(cities, subm_path)\n",
    "        new_subm_path = copy(subm_path)\n",
    "        new_subm_path[start+1:start+N] = new_subm_path[start.+cycle_idx]\n",
    "        new_score = get_score(cities, new_subm_path)\n",
    "        println(\"Old: \", base_score)\n",
    "        println(\"New: \", new_score)\n",
    "        println(\"Improved by: \",base_score-new_score)\n",
    "        if base_score-new_score > 0\n",
    "            subm_path = new_subm_path \n",
    "            improved = true\n",
    "        else\n",
    "            println(\"Not improved at: \", start)\n",
    "            println(\"cycle_idx: \", cycle_idx)       \n",
    "            println(\"cycle_idx added : \", start.+cycle_idx)\n",
    "            println(\"Extras: \",)\n",
    "            for i = 1:N\n",
    "                println(extras[i,:])                        \n",
    "            end\n",
    "        end\n",
    "    end\n",
    "            \n",
    "#     println(\"Post time: \", time()-post_time)\n",
    "        \n",
    "#     println(\"Obj: \", getobjectivevalue(m))\n",
    "    # println(\"Cus to Fac: \",getvalue(cf))\n",
    "\n",
    "    return subm_path, improved\n",
    "end            "
   ]
  },
  {
   "cell_type": "code",
   "execution_count": 9,
   "metadata": {},
   "outputs": [
    {
     "data": {
      "text/plain": [
       "main (generic function with 1 method)"
      ]
     },
     "execution_count": 9,
     "metadata": {},
     "output_type": "execute_result"
    }
   ],
   "source": [
    "function main(from, to)\n",
    "    subm_df = CSV.read(\"submissions/5min_concorde.csv\");\n",
    "\n",
    "    subm_path = collect(skipmissing(subm_df[:Path]));\n",
    "    for i=from:5:to\n",
    "        println(\"i: \", i)\n",
    "        subm_path, improved = run_test(i,subm_path, 20);\n",
    "        if improved\n",
    "           df = DataFrame(Path=subm_path)\n",
    "           CSV.write(\"submissions/temp.csv\", df);\n",
    "        end\n",
    "    end\n",
    "end"
   ]
  },
  {
   "cell_type": "code",
   "execution_count": 12,
   "metadata": {},
   "outputs": [
    {
     "name": "stdout",
     "output_type": "stream",
     "text": [
      "i: 1\n",
      "Academic license - for non-commercial use only\n",
      "Optimize a model with 25352 rows, 27000 columns and 864090 nonzeros\n",
      "Variable types: 0 continuous, 27000 integer (27000 binary)\n",
      "Coefficient statistics:\n",
      "  Matrix range     [1e+00, 1e+00]\n",
      "  Objective range  [6e+00, 1e+02]\n",
      "  Bounds range     [1e+00, 1e+00]\n",
      "  RHS range        [1e+00, 1e+00]\n",
      "Presolve removed 4824 rows and 5747 columns\n",
      "Presolve time: 2.01s\n",
      "Presolved: 20528 rows, 21253 columns, 636023 nonzeros\n",
      "Variable types: 0 continuous, 21253 integer (21253 binary)\n",
      "Found heuristic solution: objective 1999.8313973\n",
      "Found heuristic solution: objective 277.7516970\n",
      "\n",
      "Deterministic concurrent LP optimizer: primal and dual simplex\n",
      "Showing first log only...\n",
      "\n",
      "\n",
      "Root simplex log...\n",
      "\n",
      "Iteration    Objective       Primal Inf.    Dual Inf.      Time\n",
      "    3621    1.1135111e+03   0.000000e+00   1.021880e+07      5s\n",
      "Concurrent spin time: 1.16s\n",
      "\n",
      "Solved with dual simplex\n",
      "\n",
      "Root relaxation: objective 2.775063e+02, 4823 iterations, 6.19 seconds\n",
      "\n",
      "    Nodes    |    Current Node    |     Objective Bounds      |     Work\n",
      " Expl Unexpl |  Obj  Depth IntInf | Incumbent    BestBd   Gap | It/Node Time\n",
      "\n",
      "     0     0     cutoff    0       277.75170  277.75170  0.00%     -    8s\n",
      "\n",
      "Explored 0 nodes (4861 simplex iterations) in 8.68 seconds\n",
      "Thread count was 4 (of 4 available processors)\n",
      "\n",
      "Solution count 2: 277.752 1999.83 \n",
      "\n",
      "Optimal solution found (tolerance 1.00e-04)\n",
      "Best objective 2.777516970450e+02, best bound 2.777516970450e+02, gap 0.0000%\n",
      "  9.795600 seconds (2.07 M allocations: 213.229 MiB, 2.98% gc time)\n"
     ]
    }
   ],
   "source": [
    "@time main(1,2)"
   ]
  }
 ],
 "metadata": {
  "kernelspec": {
   "display_name": "Julia 1.0.2",
   "language": "julia",
   "name": "julia-1.0"
  },
  "language_info": {
   "file_extension": ".jl",
   "mimetype": "application/julia",
   "name": "julia",
   "version": "1.0.3"
  }
 },
 "nbformat": 4,
 "nbformat_minor": 2
}
