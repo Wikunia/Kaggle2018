{
 "cells": [
  {
   "cell_type": "markdown",
   "metadata": {
    "_uuid": "70ad942aee82d06baed7d78ba5db2ef13cca81bf"
   },
   "source": [
    "I'm going to share YET ANOTHER simple but working tsp solutions optimization technique.\n",
    "\n",
    "The idea is straightforward: if you have THREE cities in the path that are 'close' (in distance terms) to each other you can try to split the path by them and try different permutations of resulting chunks hoping that the decrease of the total penalty in this part of the path will be greater than the increase of the length caused by the permutation itself. \n",
    "\n",
    "Also instead of just permutating the chunks of the path you can  try to revert the order of some chunks but I won't do it in this kernel."
   ]
  },
  {
   "cell_type": "markdown",
   "metadata": {
    "_uuid": "25d5d532f036aaefb15b4ef6589e293b63db63b4"
   },
   "source": [
    "1. Import all that we need."
   ]
  },
  {
   "cell_type": "code",
   "execution_count": 5,
   "metadata": {
    "_uuid": "bbba06cfee4ff96430de73303e1869d79e8d2bac"
   },
   "outputs": [],
   "source": [
    "import numpy as np\n",
    "import pandas as pd\n",
    "import numba\n",
    "from sympy import isprime, primerange\n",
    "from math import sqrt\n",
    "from sklearn.neighbors import KDTree\n",
    "from tqdm import tqdm\n",
    "from itertools import combinations, permutations\n",
    "from functools import lru_cache"
   ]
  },
  {
   "cell_type": "markdown",
   "metadata": {
    "_uuid": "4ac46a66ca55ac832eec6371ffb1505c54119449"
   },
   "source": [
    "2. Read input data and define some arrays that we'll need later."
   ]
  },
  {
   "cell_type": "code",
   "execution_count": 6,
   "metadata": {
    "_uuid": "fd59ace8c465442073a63489f95b2d60f5724ace"
   },
   "outputs": [],
   "source": [
    "cities = pd.read_csv('cities.csv', index_col=['CityId'])\n",
    "XY = np.stack((cities.X.astype(np.float32), cities.Y.astype(np.float32)), axis=1)\n",
    "is_not_prime = np.array([0 if isprime(i) else 1 for i in cities.index], dtype=np.int32)"
   ]
  },
  {
   "cell_type": "markdown",
   "metadata": {
    "_uuid": "ef379a05c364c450a07ab8a325756d7a045e46af"
   },
   "source": [
    "3. Define fast scoring functions using numba."
   ]
  },
  {
   "cell_type": "code",
   "execution_count": 7,
   "metadata": {
    "_uuid": "b6fa6a8f23e6a5fed127952734d334d6ef5c454e"
   },
   "outputs": [],
   "source": [
    "@numba.jit('f8(i8, i8, i8)', nopython=True, parallel=False)\n",
    "def cities_distance(offset, id_from, id_to):\n",
    "    xy_from, xy_to = XY[id_from], XY[id_to]\n",
    "    dx, dy = xy_from[0] - xy_to[0], xy_from[1] - xy_to[1]\n",
    "    distance = sqrt(dx * dx + dy * dy)\n",
    "    if offset % 10 == 9 and is_not_prime[id_from]:\n",
    "        return 1.1 * distance\n",
    "    return distance\n",
    "\n",
    "\n",
    "@numba.jit('f8(i4, i8[:])', nopython=True, parallel=False)\n",
    "def score_chunk(offset, chunk):\n",
    "    pure_distance, penalty = 0.0, 0.0\n",
    "    penalty_modulo = 9 - offset % 10\n",
    "    for path_index in numba.prange(chunk.shape[0] - 1):\n",
    "        id_from, id_to = chunk[path_index], chunk[path_index+1]\n",
    "        xy_from, xy_to = XY[id_from], XY[id_to]\n",
    "        dx, dy = xy_from[0] - xy_to[0], xy_from[1] - xy_to[1]\n",
    "        distance = sqrt(dx * dx + dy * dy)\n",
    "        pure_distance += distance\n",
    "        if path_index % 10 == penalty_modulo and is_not_prime[id_from]:\n",
    "            penalty += distance\n",
    "    return pure_distance + 0.1 * penalty\n",
    "\n",
    "\n",
    "@numba.jit('f8(i8[:])', nopython=True, parallel=False)\n",
    "def score_path(path):\n",
    "    return score_chunk(0, path)\n",
    "\n",
    "\n",
    "@numba.jit\n",
    "def chunk_scores(chunk):\n",
    "    scores = np.zeros(10)\n",
    "    pure_distance = 0\n",
    "    for i in numba.prange(chunk.shape[0] - 1):\n",
    "        id_from, id_to = chunk[i], chunk[i+1]\n",
    "        xy_from, xy_to = XY[id_from], XY[id_to]\n",
    "        dx, dy = xy_from[0] - xy_to[0], xy_from[1] - xy_to[1]\n",
    "        distance = sqrt(dx * dx + dy * dy)\n",
    "        pure_distance += distance\n",
    "        if is_not_prime[id_from]:\n",
    "            scores[9-i%10] += distance\n",
    "    scores *= 0.1\n",
    "    scores += pure_distance\n",
    "    return scores\n",
    "\n",
    "def score_compound_chunk(offset, head, chunks, tail, scores, indexes_permutation=None):\n",
    "    if indexes_permutation is None:\n",
    "        indexes_permutation = range(len(chunks))\n",
    "    score = 0.0\n",
    "    last_city_id = head\n",
    "    for index in indexes_permutation:\n",
    "        chunk, chunk_scores = chunks[index], scores[index]\n",
    "        score += cities_distance(offset % 10, last_city_id, chunk[0])\n",
    "        score += chunk_scores[(offset + 1) % 10]\n",
    "        last_city_id = chunk[-1]\n",
    "        offset += len(chunk)\n",
    "    return score + cities_distance(offset % 10, last_city_id, tail)\n"
   ]
  },
  {
   "cell_type": "markdown",
   "metadata": {
    "_uuid": "fafb19e10ad73f82bea0401d71e075ea759a437f"
   },
   "source": [
    "4. Precompute close cities triplets using KDTree."
   ]
  },
  {
   "cell_type": "code",
   "execution_count": 8,
   "metadata": {
    "_uuid": "3a0b10ed2aaa284e2b1e00a0309b4e094839cd49"
   },
   "outputs": [],
   "source": [
    "kdt = KDTree(XY)"
   ]
  },
  {
   "cell_type": "code",
   "execution_count": 9,
   "metadata": {
    "_uuid": "c1f2626373b7f27aeed49b651ada4b971b796b62",
    "scrolled": true
   },
   "outputs": [
    {
     "name": "stderr",
     "output_type": "stream",
     "text": [
      "100%|██████████| 197769/197769 [01:42<00:00, 1930.59it/s]\n"
     ]
    },
    {
     "name": "stdout",
     "output_type": "stream",
     "text": [
      "9355215 cities triplets are selected.\n"
     ]
    },
    {
     "name": "stderr",
     "output_type": "stream",
     "text": [
      "100%|██████████| 9355215/9355215 [00:06<00:00, 1397094.44it/s]\n"
     ]
    }
   ],
   "source": [
    "triplets = set()\n",
    "for city_id in tqdm(cities.index):\n",
    "    dists, neibs = kdt.query([XY[city_id]], 7)\n",
    "    for triplet in combinations(neibs[0], 3):\n",
    "        if all(triplet):\n",
    "            triplets.add(tuple(sorted(triplet)))\n",
    "    neibs = kdt.query_radius([XY[city_id]], 10, count_only=False, return_distance=False)\n",
    "    for triplet in combinations(neibs[0], 3):\n",
    "        if all(triplet):\n",
    "            triplets.add(tuple(sorted(triplet)))\n",
    "\n",
    "print(f'{len(triplets)} cities triplets are selected.')\n",
    "\n",
    "# sort triplets by distance\n",
    "@numba.jit('f8(i8[:])', nopython=True, parallel=False)\n",
    "def sum_distance(ids):\n",
    "    res = 0\n",
    "    for i in numba.prange(len(ids)):\n",
    "        for j in numba.prange(i + 1, len(ids)):\n",
    "            res += cities_distance(0, ids[i], ids[j])\n",
    "    return res\n",
    "\n",
    "triplets = np.array(list(triplets))\n",
    "distances = np.array(list(map(sum_distance, tqdm(triplets))))\n",
    "order = distances.argsort()\n",
    "triplets = triplets[order]"
   ]
  },
  {
   "cell_type": "markdown",
   "metadata": {
    "_uuid": "200bb1960ce3debc70a3a7268c3a1f72e0e1caf1"
   },
   "source": [
    "[](http://)5. Load the initial path to start optimization from. I'll use the one generated by [my previous kernel](https://www.kaggle.com/kostyaatarik/close-ends-chunks-optimization-aka-2-opt)."
   ]
  },
  {
   "cell_type": "code",
   "execution_count": 10,
   "metadata": {
    "_uuid": "0507b94bfb95807563b41e68d51141b85b1c7ce2"
   },
   "outputs": [],
   "source": [
    "path = np.array(pd.read_csv('submissions/mip_LKH_1_42_n250_t1000_s0.csv').Path)"
   ]
  },
  {
   "cell_type": "markdown",
   "metadata": {
    "_uuid": "285773c192725608e81173223aeee232e2f1b3f6"
   },
   "source": [
    "6. Use optimization described above."
   ]
  },
  {
   "cell_type": "code",
   "execution_count": 11,
   "metadata": {
    "_uuid": "c8a1403ea3ed1fa34e3bf79fd86fbea7b98c09de",
    "scrolled": true
   },
   "outputs": [
    {
     "name": "stderr",
     "output_type": "stream",
     "text": [
      "  0%|          | 0/9355215 [00:00<?, ?it/s]"
     ]
    },
    {
     "name": "stdout",
     "output_type": "stream",
     "text": [
      "Total score is 1515471.13.\n"
     ]
    },
    {
     "name": "stderr",
     "output_type": "stream",
     "text": [
      "  0%|          | 506/9355215 [00:00<396:19:39,  6.56it/s]"
     ]
    },
    {
     "name": "stdout",
     "output_type": "stream",
     "text": [
      "New total score is 1515470.99. Permutating path at indexes 29716, 29717, 29727.\n"
     ]
    },
    {
     "name": "stderr",
     "output_type": "stream",
     "text": [
      "  0%|          | 2299/9355215 [00:01<33:42:32, 77.07it/s]"
     ]
    },
    {
     "name": "stdout",
     "output_type": "stream",
     "text": [
      "New total score is 1515470.50. Permutating path at indexes 56064, 56065, 56083.\n"
     ]
    },
    {
     "name": "stderr",
     "output_type": "stream",
     "text": [
      "  0%|          | 3163/9355215 [00:01<12:11:49, 212.98it/s]"
     ]
    },
    {
     "name": "stdout",
     "output_type": "stream",
     "text": [
      "New total score is 1515470.39. Permutating path at indexes 59989, 60009, 60010.\n",
      "New total score is 1515470.22. Permutating path at indexes 27478, 27486, 27487.\n"
     ]
    },
    {
     "name": "stderr",
     "output_type": "stream",
     "text": [
      "  0%|          | 5182/9355215 [00:02<1:59:49, 1300.44it/s]"
     ]
    },
    {
     "name": "stdout",
     "output_type": "stream",
     "text": [
      "New total score is 1515469.79. Permutating path at indexes 6756, 6811, 6812.\n"
     ]
    },
    {
     "name": "stderr",
     "output_type": "stream",
     "text": [
      "  0%|          | 7248/9355215 [00:03<1:04:09, 2428.13it/s]"
     ]
    },
    {
     "name": "stdout",
     "output_type": "stream",
     "text": [
      "New total score is 1515469.40. Permutating path at indexes 6114, 6115, 6268.\n"
     ]
    },
    {
     "name": "stderr",
     "output_type": "stream",
     "text": [
      "  0%|          | 8063/9355215 [00:03<1:01:33, 2530.79it/s]"
     ]
    },
    {
     "name": "stdout",
     "output_type": "stream",
     "text": [
      "New total score is 1515468.92. Permutating path at indexes 68770, 68771, 68827.\n"
     ]
    },
    {
     "name": "stderr",
     "output_type": "stream",
     "text": [
      "  0%|          | 9467/9355215 [00:04<1:04:22, 2419.69it/s]"
     ]
    },
    {
     "name": "stdout",
     "output_type": "stream",
     "text": [
      "New total score is 1515468.29. Permutating path at indexes 34180, 34192, 34391.\n",
      "New total score is 1515468.06. Permutating path at indexes 46030, 46145, 46146.\n"
     ]
    },
    {
     "name": "stderr",
     "output_type": "stream",
     "text": [
      "  0%|          | 10757/9355215 [00:04<1:03:57, 2434.89it/s]"
     ]
    },
    {
     "name": "stdout",
     "output_type": "stream",
     "text": [
      "New total score is 1515466.98. Permutating path at indexes 133516, 133517, 134470.\n"
     ]
    },
    {
     "name": "stderr",
     "output_type": "stream",
     "text": [
      "  0%|          | 13034/9355215 [00:05<1:07:33, 2304.83it/s]"
     ]
    },
    {
     "name": "stdout",
     "output_type": "stream",
     "text": [
      "New total score is 1515466.42. Permutating path at indexes 3022, 3084, 3086.\n"
     ]
    },
    {
     "name": "stderr",
     "output_type": "stream",
     "text": [
      "  0%|          | 14855/9355215 [00:06<1:04:47, 2402.88it/s]"
     ]
    },
    {
     "name": "stdout",
     "output_type": "stream",
     "text": [
      "New total score is 1515466.02. Permutating path at indexes 116509, 116646, 116647.\n"
     ]
    },
    {
     "name": "stderr",
     "output_type": "stream",
     "text": [
      "  0%|          | 16906/9355215 [00:07<1:04:32, 2411.45it/s]"
     ]
    },
    {
     "name": "stdout",
     "output_type": "stream",
     "text": [
      "New total score is 1515465.70. Permutating path at indexes 132313, 132314, 132319.\n"
     ]
    },
    {
     "name": "stderr",
     "output_type": "stream",
     "text": [
      "  0%|          | 17653/9355215 [00:07<1:06:26, 2342.54it/s]"
     ]
    },
    {
     "name": "stdout",
     "output_type": "stream",
     "text": [
      "New total score is 1515465.19. Permutating path at indexes 58964, 58965, 59008.\n"
     ]
    },
    {
     "name": "stderr",
     "output_type": "stream",
     "text": [
      "  0%|          | 18600/9355215 [00:07<1:09:37, 2234.87it/s]"
     ]
    },
    {
     "name": "stdout",
     "output_type": "stream",
     "text": [
      "New total score is 1515465.03. Permutating path at indexes 67213, 67218, 67233.\n"
     ]
    },
    {
     "name": "stderr",
     "output_type": "stream",
     "text": [
      "  0%|          | 19090/9355215 [00:08<1:08:10, 2282.52it/s]"
     ]
    },
    {
     "name": "stdout",
     "output_type": "stream",
     "text": [
      "New total score is 1515464.84. Permutating path at indexes 173226, 173260, 173261.\n",
      "New total score is 1515464.81. Permutating path at indexes 149533, 149534, 149572.\n"
     ]
    },
    {
     "name": "stderr",
     "output_type": "stream",
     "text": [
      "  0%|          | 19791/9355215 [00:08<1:13:08, 2127.39it/s]"
     ]
    },
    {
     "name": "stdout",
     "output_type": "stream",
     "text": [
      "New total score is 1515464.58. Permutating path at indexes 86560, 86727, 86728.\n"
     ]
    },
    {
     "name": "stderr",
     "output_type": "stream",
     "text": [
      "  0%|          | 21710/9355215 [00:09<1:06:39, 2333.91it/s]"
     ]
    },
    {
     "name": "stdout",
     "output_type": "stream",
     "text": [
      "New total score is 1515464.37. Permutating path at indexes 145802, 145819, 145944.\n"
     ]
    },
    {
     "name": "stderr",
     "output_type": "stream",
     "text": [
      "  0%|          | 22432/9355215 [00:09<1:09:37, 2233.92it/s]"
     ]
    },
    {
     "name": "stdout",
     "output_type": "stream",
     "text": [
      "New total score is 1515464.36. Permutating path at indexes 20297, 20298, 20331.\n"
     ]
    },
    {
     "name": "stderr",
     "output_type": "stream",
     "text": [
      "  0%|          | 23913/9355215 [00:10<1:09:08, 2249.57it/s]"
     ]
    },
    {
     "name": "stdout",
     "output_type": "stream",
     "text": [
      "New total score is 1515463.66. Permutating path at indexes 7981, 7982, 8034.\n"
     ]
    },
    {
     "name": "stderr",
     "output_type": "stream",
     "text": [
      "  0%|          | 24375/9355215 [00:10<1:09:47, 2228.18it/s]"
     ]
    },
    {
     "name": "stdout",
     "output_type": "stream",
     "text": [
      "New total score is 1515462.67. Permutating path at indexes 86727, 86728, 86729.\n"
     ]
    },
    {
     "name": "stderr",
     "output_type": "stream",
     "text": [
      "  0%|          | 28872/9355215 [00:12<1:02:40, 2479.86it/s]"
     ]
    },
    {
     "name": "stdout",
     "output_type": "stream",
     "text": [
      "New total score is 1515462.48. Permutating path at indexes 34390, 34391, 34397.\n"
     ]
    },
    {
     "name": "stderr",
     "output_type": "stream",
     "text": [
      "  0%|          | 29819/9355215 [00:12<1:11:04, 2186.55it/s]"
     ]
    },
    {
     "name": "stdout",
     "output_type": "stream",
     "text": [
      "New total score is 1515462.14. Permutating path at indexes 61661, 61662, 61692.\n"
     ]
    },
    {
     "name": "stderr",
     "output_type": "stream",
     "text": [
      "  0%|          | 35356/9355215 [00:15<1:13:04, 2125.70it/s]"
     ]
    },
    {
     "name": "stdout",
     "output_type": "stream",
     "text": [
      "New total score is 1515461.73. Permutating path at indexes 190959, 191054, 191055.\n"
     ]
    },
    {
     "name": "stderr",
     "output_type": "stream",
     "text": [
      "  0%|          | 36070/9355215 [00:15<1:11:29, 2172.68it/s]"
     ]
    },
    {
     "name": "stdout",
     "output_type": "stream",
     "text": [
      "New total score is 1515461.14. Permutating path at indexes 108940, 108941, 108946.\n"
     ]
    },
    {
     "name": "stderr",
     "output_type": "stream",
     "text": [
      "  0%|          | 36723/9355215 [00:15<1:15:28, 2057.79it/s]"
     ]
    },
    {
     "name": "stdout",
     "output_type": "stream",
     "text": [
      "New total score is 1515461.06. Permutating path at indexes 105046, 105047, 105077.\n",
      "New total score is 1515460.30. Permutating path at indexes 64405, 64704, 64705.\n"
     ]
    },
    {
     "name": "stderr",
     "output_type": "stream",
     "text": [
      "  0%|          | 44186/9355215 [00:19<1:15:12, 2063.24it/s]"
     ]
    },
    {
     "name": "stdout",
     "output_type": "stream",
     "text": [
      "New total score is 1515460.05. Permutating path at indexes 108876, 108882, 108883.\n"
     ]
    },
    {
     "name": "stderr",
     "output_type": "stream",
     "text": [
      "  0%|          | 46065/9355215 [00:20<1:30:37, 1712.18it/s]"
     ]
    },
    {
     "name": "stdout",
     "output_type": "stream",
     "text": [
      "New total score is 1515459.78. Permutating path at indexes 131462, 131526, 131527.\n"
     ]
    },
    {
     "name": "stderr",
     "output_type": "stream",
     "text": [
      "  1%|          | 51764/9355215 [00:23<1:21:51, 1894.32it/s]"
     ]
    },
    {
     "name": "stdout",
     "output_type": "stream",
     "text": [
      "New total score is 1515459.38. Permutating path at indexes 133492, 134475, 134634.\n",
      "New total score is 1515459.38. Permutating path at indexes 189343, 189344, 189357.\n"
     ]
    },
    {
     "name": "stderr",
     "output_type": "stream",
     "text": [
      "  1%|          | 53765/9355215 [00:24<1:13:45, 2101.57it/s]"
     ]
    },
    {
     "name": "stdout",
     "output_type": "stream",
     "text": [
      "New total score is 1515459.26. Permutating path at indexes 92014, 92015, 92187.\n"
     ]
    },
    {
     "name": "stderr",
     "output_type": "stream",
     "text": [
      "  1%|          | 60589/9355215 [00:27<1:18:37, 1970.04it/s]"
     ]
    },
    {
     "name": "stdout",
     "output_type": "stream",
     "text": [
      "New total score is 1515458.52. Permutating path at indexes 186710, 186739, 186789.\n"
     ]
    },
    {
     "name": "stderr",
     "output_type": "stream",
     "text": [
      "  1%|          | 62027/9355215 [00:28<1:19:59, 1936.48it/s]"
     ]
    },
    {
     "name": "stdout",
     "output_type": "stream",
     "text": [
      "New total score is 1515458.50. Permutating path at indexes 100168, 100196, 100198.\n"
     ]
    },
    {
     "name": "stderr",
     "output_type": "stream",
     "text": [
      "  1%|          | 63550/9355215 [00:29<1:17:19, 2002.67it/s]"
     ]
    },
    {
     "name": "stdout",
     "output_type": "stream",
     "text": [
      "New total score is 1515457.82. Permutating path at indexes 164126, 164127, 164200.\n"
     ]
    },
    {
     "name": "stderr",
     "output_type": "stream",
     "text": [
      "  1%|          | 64155/9355215 [00:29<1:21:44, 1894.25it/s]"
     ]
    },
    {
     "name": "stdout",
     "output_type": "stream",
     "text": [
      "New total score is 1515457.56. Permutating path at indexes 42202, 42237, 42238.\n"
     ]
    },
    {
     "name": "stderr",
     "output_type": "stream",
     "text": [
      "  1%|          | 66698/9355215 [00:30<1:20:42, 1917.97it/s]"
     ]
    },
    {
     "name": "stdout",
     "output_type": "stream",
     "text": [
      "New total score is 1515457.32. Permutating path at indexes 47337, 47341, 47342.\n"
     ]
    },
    {
     "name": "stderr",
     "output_type": "stream",
     "text": [
      "  1%|          | 69890/9355215 [00:32<1:23:07, 1861.88it/s]"
     ]
    },
    {
     "name": "stdout",
     "output_type": "stream",
     "text": [
      "New total score is 1515456.93. Permutating path at indexes 40296, 40412, 40437.\n"
     ]
    },
    {
     "name": "stderr",
     "output_type": "stream",
     "text": [
      "  1%|          | 73003/9355215 [00:33<1:21:03, 1908.36it/s]"
     ]
    },
    {
     "name": "stdout",
     "output_type": "stream",
     "text": [
      "New total score is 1515456.70. Permutating path at indexes 135156, 135157, 135161.\n"
     ]
    },
    {
     "name": "stderr",
     "output_type": "stream",
     "text": [
      "  1%|          | 78075/9355215 [00:36<1:21:55, 1887.44it/s]"
     ]
    },
    {
     "name": "stdout",
     "output_type": "stream",
     "text": [
      "New total score is 1515456.68. Permutating path at indexes 96676, 96677, 96700.\n"
     ]
    },
    {
     "name": "stderr",
     "output_type": "stream",
     "text": [
      "  1%|          | 79284/9355215 [00:37<1:19:43, 1939.20it/s]"
     ]
    },
    {
     "name": "stdout",
     "output_type": "stream",
     "text": [
      "New total score is 1515456.67. Permutating path at indexes 55344, 55345, 55364.\n"
     ]
    },
    {
     "name": "stderr",
     "output_type": "stream",
     "text": [
      "  1%|          | 92335/9355215 [00:43<1:25:35, 1803.63it/s]"
     ]
    },
    {
     "name": "stdout",
     "output_type": "stream",
     "text": [
      "New total score is 1515456.26. Permutating path at indexes 4194, 4195, 4301.\n"
     ]
    },
    {
     "name": "stderr",
     "output_type": "stream",
     "text": [
      "  1%|          | 98275/9355215 [00:46<1:23:20, 1851.29it/s]"
     ]
    },
    {
     "name": "stdout",
     "output_type": "stream",
     "text": [
      "New total score is 1515456.23. Permutating path at indexes 113652, 113654, 113729.\n"
     ]
    },
    {
     "name": "stderr",
     "output_type": "stream",
     "text": [
      "  1%|          | 100021/9355215 [00:47<1:23:02, 1857.48it/s]"
     ]
    },
    {
     "name": "stdout",
     "output_type": "stream",
     "text": [
      "New total score is 1515456.05. Permutating path at indexes 89089, 89103, 89144.\n"
     ]
    },
    {
     "name": "stderr",
     "output_type": "stream",
     "text": [
      "  1%|          | 103635/9355215 [00:49<1:31:45, 1680.37it/s]"
     ]
    },
    {
     "name": "stdout",
     "output_type": "stream",
     "text": [
      "New total score is 1515455.93. Permutating path at indexes 87611, 87612, 87632.\n"
     ]
    },
    {
     "name": "stderr",
     "output_type": "stream",
     "text": [
      "  1%|          | 107141/9355215 [00:51<1:24:02, 1834.09it/s]"
     ]
    },
    {
     "name": "stdout",
     "output_type": "stream",
     "text": [
      "New total score is 1515455.77. Permutating path at indexes 95994, 96013, 99213.\n",
      "New total score is 1515455.59. Permutating path at indexes 187657, 187658, 187851.\n"
     ]
    },
    {
     "name": "stderr",
     "output_type": "stream",
     "text": [
      "  1%|          | 110210/9355215 [00:53<1:29:13, 1727.06it/s]"
     ]
    },
    {
     "name": "stdout",
     "output_type": "stream",
     "text": [
      "New total score is 1515455.39. Permutating path at indexes 68783, 68784, 68791.\n"
     ]
    },
    {
     "name": "stderr",
     "output_type": "stream",
     "text": [
      "  1%|▏         | 130626/9355215 [01:05<1:32:09, 1668.40it/s]"
     ]
    },
    {
     "name": "stdout",
     "output_type": "stream",
     "text": [
      "New total score is 1515454.99. Permutating path at indexes 7727, 7728, 7799.\n"
     ]
    },
    {
     "name": "stderr",
     "output_type": "stream",
     "text": [
      "  1%|▏         | 132348/9355215 [01:06<1:38:56, 1553.50it/s]"
     ]
    },
    {
     "name": "stdout",
     "output_type": "stream",
     "text": [
      "New total score is 1515454.17. Permutating path at indexes 22337, 22338, 22361.\n"
     ]
    },
    {
     "name": "stderr",
     "output_type": "stream",
     "text": [
      "  1%|▏         | 136230/9355215 [01:08<1:35:38, 1606.56it/s]"
     ]
    },
    {
     "name": "stdout",
     "output_type": "stream",
     "text": [
      "New total score is 1515454.12. Permutating path at indexes 113707, 113708, 113735.\n"
     ]
    },
    {
     "name": "stderr",
     "output_type": "stream",
     "text": [
      "  2%|▏         | 147101/9355215 [01:14<1:32:37, 1656.84it/s]"
     ]
    },
    {
     "name": "stdout",
     "output_type": "stream",
     "text": [
      "New total score is 1515454.05. Permutating path at indexes 113708, 113709, 113718.\n"
     ]
    },
    {
     "name": "stderr",
     "output_type": "stream",
     "text": [
      "  2%|▏         | 149170/9355215 [01:16<1:37:10, 1578.98it/s]"
     ]
    },
    {
     "name": "stdout",
     "output_type": "stream",
     "text": [
      "New total score is 1515453.75. Permutating path at indexes 84835, 85166, 85177.\n"
     ]
    },
    {
     "name": "stderr",
     "output_type": "stream",
     "text": [
      "  2%|▏         | 150363/9355215 [01:16<1:38:57, 1550.18it/s]"
     ]
    },
    {
     "name": "stdout",
     "output_type": "stream",
     "text": [
      "New total score is 1515453.75. Permutating path at indexes 145450, 145451, 145456.\n"
     ]
    },
    {
     "name": "stderr",
     "output_type": "stream",
     "text": [
      "  2%|▏         | 163154/9355215 [01:24<1:39:17, 1542.91it/s]"
     ]
    },
    {
     "name": "stdout",
     "output_type": "stream",
     "text": [
      "New total score is 1515453.48. Permutating path at indexes 62717, 62818, 62819.\n"
     ]
    },
    {
     "name": "stderr",
     "output_type": "stream",
     "text": [
      "  2%|▏         | 164561/9355215 [01:25<1:31:52, 1667.23it/s]"
     ]
    },
    {
     "name": "stdout",
     "output_type": "stream",
     "text": [
      "New total score is 1515453.46. Permutating path at indexes 62807, 62843, 62844.\n"
     ]
    },
    {
     "name": "stderr",
     "output_type": "stream",
     "text": [
      "  2%|▏         | 176622/9355215 [01:32<1:43:56, 1471.65it/s]"
     ]
    },
    {
     "name": "stdout",
     "output_type": "stream",
     "text": [
      "New total score is 1515453.45. Permutating path at indexes 62809, 62810, 62814.\n"
     ]
    },
    {
     "name": "stderr",
     "output_type": "stream",
     "text": [
      "  2%|▏         | 192151/9355215 [01:42<1:49:29, 1394.83it/s]"
     ]
    },
    {
     "name": "stdout",
     "output_type": "stream",
     "text": [
      "New total score is 1515453.15. Permutating path at indexes 49627, 49716, 49726.\n"
     ]
    },
    {
     "name": "stderr",
     "output_type": "stream",
     "text": [
      "  2%|▏         | 197089/9355215 [01:46<1:42:31, 1488.87it/s]"
     ]
    },
    {
     "name": "stdout",
     "output_type": "stream",
     "text": [
      "New total score is 1515452.93. Permutating path at indexes 45974, 46016, 46043.\n",
      "New total score is 1515452.75. Permutating path at indexes 197699, 197700, 197729.\n"
     ]
    },
    {
     "name": "stderr",
     "output_type": "stream",
     "text": [
      "  2%|▏         | 200786/9355215 [01:48<1:38:48, 1544.07it/s]"
     ]
    },
    {
     "name": "stdout",
     "output_type": "stream",
     "text": [
      "New total score is 1515452.62. Permutating path at indexes 12397, 12398, 12467.\n"
     ]
    },
    {
     "name": "stderr",
     "output_type": "stream",
     "text": [
      "  2%|▏         | 207263/9355215 [01:52<1:52:34, 1354.26it/s]"
     ]
    },
    {
     "name": "stdout",
     "output_type": "stream",
     "text": [
      "New total score is 1515452.57. Permutating path at indexes 175572, 175583, 175590.\n"
     ]
    },
    {
     "name": "stderr",
     "output_type": "stream",
     "text": [
      "  2%|▏         | 208437/9355215 [01:53<1:55:41, 1317.66it/s]"
     ]
    },
    {
     "name": "stdout",
     "output_type": "stream",
     "text": [
      "New total score is 1515452.41. Permutating path at indexes 186948, 186949, 187025.\n"
     ]
    },
    {
     "name": "stderr",
     "output_type": "stream",
     "text": [
      "  2%|▏         | 213900/9355215 [01:57<1:50:46, 1375.29it/s]"
     ]
    },
    {
     "name": "stdout",
     "output_type": "stream",
     "text": [
      "New total score is 1515451.84. Permutating path at indexes 53933, 53940, 53982.\n"
     ]
    },
    {
     "name": "stderr",
     "output_type": "stream",
     "text": [
      "  2%|▏         | 226812/9355215 [02:08<2:07:59, 1188.71it/s]"
     ]
    },
    {
     "name": "stdout",
     "output_type": "stream",
     "text": [
      "New total score is 1515451.72. Permutating path at indexes 108392, 108393, 108473.\n"
     ]
    },
    {
     "name": "stderr",
     "output_type": "stream",
     "text": [
      "  3%|▎         | 236964/9355215 [02:16<2:17:15, 1107.15it/s]"
     ]
    },
    {
     "name": "stdout",
     "output_type": "stream",
     "text": [
      "New total score is 1515450.77. Permutating path at indexes 69005, 69006, 69213.\n"
     ]
    },
    {
     "name": "stderr",
     "output_type": "stream",
     "text": [
      "  3%|▎         | 250554/9355215 [02:27<1:53:22, 1338.49it/s]"
     ]
    },
    {
     "name": "stdout",
     "output_type": "stream",
     "text": [
      "New total score is 1515450.25. Permutating path at indexes 16664, 16720, 16721.\n"
     ]
    },
    {
     "name": "stderr",
     "output_type": "stream",
     "text": [
      "  3%|▎         | 272638/9355215 [02:44<1:50:30, 1369.83it/s]"
     ]
    },
    {
     "name": "stdout",
     "output_type": "stream",
     "text": [
      "New total score is 1515449.72. Permutating path at indexes 25702, 25861, 25862.\n"
     ]
    },
    {
     "name": "stderr",
     "output_type": "stream",
     "text": [
      "  3%|▎         | 284759/9355215 [02:52<1:48:23, 1394.64it/s]"
     ]
    },
    {
     "name": "stdout",
     "output_type": "stream",
     "text": [
      "New total score is 1515449.68. Permutating path at indexes 94268, 94400, 94401.\n"
     ]
    },
    {
     "name": "stderr",
     "output_type": "stream",
     "text": [
      "  3%|▎         | 295411/9355215 [03:00<1:57:54, 1280.70it/s]"
     ]
    },
    {
     "name": "stdout",
     "output_type": "stream",
     "text": [
      "New total score is 1515449.26. Permutating path at indexes 66059, 66448, 66449.\n"
     ]
    },
    {
     "name": "stderr",
     "output_type": "stream",
     "text": [
      "  3%|▎         | 322882/9355215 [03:21<2:16:15, 1104.78it/s]"
     ]
    },
    {
     "name": "stdout",
     "output_type": "stream",
     "text": [
      "New total score is 1515448.81. Permutating path at indexes 11776, 11777, 11823.\n"
     ]
    },
    {
     "name": "stderr",
     "output_type": "stream",
     "text": [
      "  4%|▎         | 329837/9355215 [03:26<2:07:58, 1175.35it/s]"
     ]
    },
    {
     "name": "stdout",
     "output_type": "stream",
     "text": [
      "New total score is 1515448.74. Permutating path at indexes 176400, 176401, 176410.\n"
     ]
    },
    {
     "name": "stderr",
     "output_type": "stream",
     "text": [
      "  4%|▎         | 330359/9355215 [03:27<2:02:23, 1228.99it/s]"
     ]
    },
    {
     "name": "stdout",
     "output_type": "stream",
     "text": [
      "New total score is 1515448.74. Permutating path at indexes 3263, 3270, 3273.\n"
     ]
    },
    {
     "name": "stderr",
     "output_type": "stream",
     "text": [
      "  4%|▎         | 333004/9355215 [03:29<2:07:26, 1179.88it/s]"
     ]
    },
    {
     "name": "stdout",
     "output_type": "stream",
     "text": [
      "New total score is 1515448.71. Permutating path at indexes 155258, 155260, 155324.\n"
     ]
    },
    {
     "name": "stderr",
     "output_type": "stream",
     "text": [
      "  4%|▎         | 337133/9355215 [03:32<2:04:51, 1203.78it/s]"
     ]
    },
    {
     "name": "stdout",
     "output_type": "stream",
     "text": [
      "New total score is 1515448.66. Permutating path at indexes 80317, 80318, 80323.\n"
     ]
    },
    {
     "name": "stderr",
     "output_type": "stream",
     "text": [
      "  4%|▎         | 339789/9355215 [03:34<2:03:02, 1221.23it/s]"
     ]
    },
    {
     "name": "stdout",
     "output_type": "stream",
     "text": [
      "New total score is 1515448.41. Permutating path at indexes 155253, 155258, 155261.\n"
     ]
    },
    {
     "name": "stderr",
     "output_type": "stream",
     "text": [
      "  4%|▍         | 366820/9355215 [03:56<2:26:23, 1023.30it/s]"
     ]
    },
    {
     "name": "stdout",
     "output_type": "stream",
     "text": [
      "New total score is 1515448.19. Permutating path at indexes 94289, 94290, 94298.\n"
     ]
    },
    {
     "name": "stderr",
     "output_type": "stream",
     "text": [
      "  4%|▍         | 379361/9355215 [04:06<2:16:30, 1095.89it/s]"
     ]
    },
    {
     "name": "stdout",
     "output_type": "stream",
     "text": [
      "New total score is 1515448.11. Permutating path at indexes 144038, 144039, 144040.\n"
     ]
    },
    {
     "name": "stderr",
     "output_type": "stream",
     "text": [
      "  4%|▍         | 382357/9355215 [04:08<2:28:44, 1005.42it/s]"
     ]
    },
    {
     "name": "stdout",
     "output_type": "stream",
     "text": [
      "New total score is 1515447.53. Permutating path at indexes 72023, 72024, 72044.\n"
     ]
    },
    {
     "name": "stderr",
     "output_type": "stream",
     "text": [
      "  4%|▍         | 384984/9355215 [04:11<2:22:47, 1046.95it/s]"
     ]
    },
    {
     "name": "stdout",
     "output_type": "stream",
     "text": [
      "New total score is 1515447.24. Permutating path at indexes 159540, 159559, 159562.\n"
     ]
    },
    {
     "name": "stderr",
     "output_type": "stream",
     "text": [
      "  4%|▍         | 390512/9355215 [04:16<2:03:42, 1207.76it/s]"
     ]
    },
    {
     "name": "stdout",
     "output_type": "stream",
     "text": [
      "New total score is 1515446.95. Permutating path at indexes 38824, 38841, 38842.\n"
     ]
    },
    {
     "name": "stderr",
     "output_type": "stream",
     "text": [
      "  4%|▍         | 390756/9355215 [04:16<2:12:05, 1131.10it/s]"
     ]
    },
    {
     "name": "stdout",
     "output_type": "stream",
     "text": [
      "New total score is 1515446.49. Permutating path at indexes 111111, 111112, 111164.\n",
      "New total score is 1515446.05. Permutating path at indexes 180159, 180176, 180177.\n"
     ]
    },
    {
     "name": "stderr",
     "output_type": "stream",
     "text": [
      "  4%|▍         | 399844/9355215 [04:23<2:09:21, 1153.86it/s]"
     ]
    },
    {
     "name": "stdout",
     "output_type": "stream",
     "text": [
      "New total score is 1515445.75. Permutating path at indexes 94292, 94312, 94313.\n"
     ]
    },
    {
     "name": "stderr",
     "output_type": "stream",
     "text": [
      "  5%|▍         | 421140/9355215 [04:41<2:13:35, 1114.60it/s]"
     ]
    },
    {
     "name": "stdout",
     "output_type": "stream",
     "text": [
      "New total score is 1515445.71. Permutating path at indexes 92466, 92479, 92608.\n"
     ]
    },
    {
     "name": "stderr",
     "output_type": "stream",
     "text": [
      "  5%|▍         | 427280/9355215 [04:46<2:07:42, 1165.17it/s]"
     ]
    },
    {
     "name": "stdout",
     "output_type": "stream",
     "text": [
      "New total score is 1515445.70. Permutating path at indexes 53580, 53581, 53637.\n"
     ]
    },
    {
     "name": "stderr",
     "output_type": "stream",
     "text": [
      "  5%|▍         | 428829/9355215 [04:47<2:11:46, 1129.04it/s]"
     ]
    },
    {
     "name": "stdout",
     "output_type": "stream",
     "text": [
      "New total score is 1515445.64. Permutating path at indexes 147038, 147072, 147073.\n"
     ]
    },
    {
     "name": "stderr",
     "output_type": "stream",
     "text": [
      "  5%|▍         | 430506/9355215 [04:49<2:05:03, 1189.47it/s]"
     ]
    },
    {
     "name": "stdout",
     "output_type": "stream",
     "text": [
      "New total score is 1515444.54. Permutating path at indexes 77473, 77663, 77668.\n"
     ]
    },
    {
     "name": "stderr",
     "output_type": "stream",
     "text": [
      "  5%|▌         | 468810/9355215 [05:22<2:25:04, 1020.86it/s]"
     ]
    },
    {
     "name": "stdout",
     "output_type": "stream",
     "text": [
      "New total score is 1515444.11. Permutating path at indexes 52918, 52919, 52985.\n"
     ]
    },
    {
     "name": "stderr",
     "output_type": "stream",
     "text": [
      "  5%|▌         | 480912/9355215 [05:32<2:07:15, 1162.28it/s]"
     ]
    },
    {
     "name": "stdout",
     "output_type": "stream",
     "text": [
      "New total score is 1515443.86. Permutating path at indexes 176613, 176640, 176641.\n"
     ]
    },
    {
     "name": "stderr",
     "output_type": "stream",
     "text": [
      "  5%|▌         | 508250/9355215 [05:57<2:18:24, 1065.35it/s]"
     ]
    },
    {
     "name": "stdout",
     "output_type": "stream",
     "text": [
      "New total score is 1515443.83. Permutating path at indexes 184532, 184533, 184539.\n"
     ]
    },
    {
     "name": "stderr",
     "output_type": "stream",
     "text": [
      "  6%|▌         | 530373/9355215 [06:17<2:17:43, 1067.88it/s]"
     ]
    },
    {
     "name": "stdout",
     "output_type": "stream",
     "text": [
      "New total score is 1515443.41. Permutating path at indexes 77665, 77667, 77668.\n"
     ]
    },
    {
     "name": "stderr",
     "output_type": "stream",
     "text": [
      "  6%|▌         | 552658/9355215 [06:38<2:30:35, 974.17it/s]"
     ]
    },
    {
     "name": "stdout",
     "output_type": "stream",
     "text": [
      "New total score is 1515443.19. Permutating path at indexes 162923, 163049, 163194.\n"
     ]
    },
    {
     "name": "stderr",
     "output_type": "stream",
     "text": [
      "  6%|▌         | 555622/9355215 [06:41<2:31:15, 969.63it/s] "
     ]
    },
    {
     "name": "stdout",
     "output_type": "stream",
     "text": [
      "New total score is 1515443.14. Permutating path at indexes 119212, 119348, 119349.\n"
     ]
    },
    {
     "name": "stderr",
     "output_type": "stream",
     "text": [
      "  6%|▌         | 556146/9355215 [06:41<2:35:40, 942.07it/s]"
     ]
    },
    {
     "name": "stdout",
     "output_type": "stream",
     "text": [
      "New total score is 1515442.69. Permutating path at indexes 151007, 151032, 151034.\n"
     ]
    },
    {
     "name": "stderr",
     "output_type": "stream",
     "text": [
      "  6%|▌         | 559212/9355215 [06:44<2:18:46, 1056.36it/s]"
     ]
    },
    {
     "name": "stdout",
     "output_type": "stream",
     "text": [
      "New total score is 1515441.97. Permutating path at indexes 11074, 11075, 11673.\n"
     ]
    },
    {
     "name": "stderr",
     "output_type": "stream",
     "text": [
      "  6%|▌         | 575960/9355215 [07:00<2:21:44, 1032.32it/s]"
     ]
    },
    {
     "name": "stdout",
     "output_type": "stream",
     "text": [
      "New total score is 1515441.65. Permutating path at indexes 92485, 92532, 92533.\n"
     ]
    },
    {
     "name": "stderr",
     "output_type": "stream",
     "text": [
      "  6%|▌         | 584052/9355215 [07:08<2:25:50, 1002.34it/s]"
     ]
    },
    {
     "name": "stdout",
     "output_type": "stream",
     "text": [
      "New total score is 1515440.50. Permutating path at indexes 155882, 155952, 155974.\n"
     ]
    },
    {
     "name": "stderr",
     "output_type": "stream",
     "text": [
      "  6%|▋         | 586168/9355215 [07:10<2:22:48, 1023.45it/s]"
     ]
    },
    {
     "name": "stdout",
     "output_type": "stream",
     "text": [
      "New total score is 1515440.14. Permutating path at indexes 4486, 4522, 4677.\n"
     ]
    },
    {
     "name": "stderr",
     "output_type": "stream",
     "text": [
      "  6%|▋         | 598790/9355215 [07:22<2:44:20, 888.05it/s]"
     ]
    },
    {
     "name": "stdout",
     "output_type": "stream",
     "text": [
      "New total score is 1515439.94. Permutating path at indexes 25015, 25019, 25039.\n"
     ]
    },
    {
     "name": "stderr",
     "output_type": "stream",
     "text": [
      "  6%|▋         | 605935/9355215 [07:30<2:21:12, 1032.64it/s]"
     ]
    },
    {
     "name": "stdout",
     "output_type": "stream",
     "text": [
      "New total score is 1515439.78. Permutating path at indexes 195769, 195770, 195840.\n"
     ]
    },
    {
     "name": "stderr",
     "output_type": "stream",
     "text": [
      "  8%|▊         | 701994/9355215 [09:16<2:35:29, 927.54it/s]"
     ]
    },
    {
     "name": "stdout",
     "output_type": "stream",
     "text": [
      "New total score is 1515439.53. Permutating path at indexes 121928, 121937, 124049.\n"
     ]
    },
    {
     "name": "stderr",
     "output_type": "stream",
     "text": [
      "  8%|▊         | 726159/9355215 [09:40<2:22:45, 1007.40it/s]"
     ]
    },
    {
     "name": "stdout",
     "output_type": "stream",
     "text": [
      "New total score is 1515438.34. Permutating path at indexes 185236, 185260, 185265.\n"
     ]
    },
    {
     "name": "stderr",
     "output_type": "stream",
     "text": [
      "  8%|▊         | 734181/9355215 [09:48<2:28:14, 969.23it/s]"
     ]
    },
    {
     "name": "stdout",
     "output_type": "stream",
     "text": [
      "New total score is 1515438.21. Permutating path at indexes 164123, 164128, 164130.\n"
     ]
    },
    {
     "name": "stderr",
     "output_type": "stream",
     "text": [
      "  8%|▊         | 765833/9355215 [10:20<2:29:45, 955.90it/s]"
     ]
    },
    {
     "name": "stdout",
     "output_type": "stream",
     "text": [
      "New total score is 1515438.05. Permutating path at indexes 118897, 118905, 118963.\n"
     ]
    },
    {
     "name": "stderr",
     "output_type": "stream",
     "text": [
      "  8%|▊         | 767561/9355215 [10:22<2:35:59, 917.52it/s]"
     ]
    },
    {
     "name": "stdout",
     "output_type": "stream",
     "text": [
      "New total score is 1515438.00. Permutating path at indexes 57892, 57908, 58028.\n"
     ]
    },
    {
     "name": "stderr",
     "output_type": "stream",
     "text": [
      "  8%|▊         | 787896/9355215 [10:43<2:29:16, 956.56it/s]"
     ]
    },
    {
     "name": "stdout",
     "output_type": "stream",
     "text": [
      "New total score is 1515437.82. Permutating path at indexes 137982, 137983, 137995.\n"
     ]
    },
    {
     "name": "stderr",
     "output_type": "stream",
     "text": [
      "  9%|▊         | 813769/9355215 [11:10<2:32:23, 934.12it/s]"
     ]
    },
    {
     "name": "stdout",
     "output_type": "stream",
     "text": [
      "New total score is 1515437.57. Permutating path at indexes 116865, 116958, 116959.\n"
     ]
    },
    {
     "name": "stderr",
     "output_type": "stream",
     "text": [
      "  9%|▊         | 815880/9355215 [11:13<2:28:57, 955.40it/s]"
     ]
    },
    {
     "name": "stdout",
     "output_type": "stream",
     "text": [
      "New total score is 1515437.18. Permutating path at indexes 186430, 186440, 186582.\n"
     ]
    },
    {
     "name": "stderr",
     "output_type": "stream",
     "text": [
      "  9%|▉         | 828192/9355215 [11:25<2:26:17, 971.46it/s]"
     ]
    },
    {
     "name": "stdout",
     "output_type": "stream",
     "text": [
      "New total score is 1515436.96. Permutating path at indexes 185687, 185739, 185740.\n"
     ]
    },
    {
     "name": "stderr",
     "output_type": "stream",
     "text": [
      "  9%|▉         | 835537/9355215 [11:33<2:25:03, 978.85it/s]"
     ]
    },
    {
     "name": "stdout",
     "output_type": "stream",
     "text": [
      "New total score is 1515436.50. Permutating path at indexes 122844, 122845, 122850.\n"
     ]
    },
    {
     "name": "stderr",
     "output_type": "stream",
     "text": [
      "  9%|▉         | 840702/9355215 [11:38<2:30:33, 942.60it/s]"
     ]
    },
    {
     "name": "stdout",
     "output_type": "stream",
     "text": [
      "New total score is 1515435.75. Permutating path at indexes 189736, 189901, 189902.\n"
     ]
    },
    {
     "name": "stderr",
     "output_type": "stream",
     "text": [
      " 10%|▉         | 896955/9355215 [12:25<2:14:25, 1048.75it/s]"
     ]
    },
    {
     "name": "stdout",
     "output_type": "stream",
     "text": [
      "New total score is 1515435.53. Permutating path at indexes 114517, 114535, 114536.\n"
     ]
    },
    {
     "name": "stderr",
     "output_type": "stream",
     "text": [
      " 10%|█         | 949472/9355215 [13:09<2:00:40, 1160.95it/s]"
     ]
    },
    {
     "name": "stdout",
     "output_type": "stream",
     "text": [
      "New total score is 1515435.45. Permutating path at indexes 1491, 1512, 1513.\n"
     ]
    },
    {
     "name": "stderr",
     "output_type": "stream",
     "text": [
      " 11%|█         | 993121/9355215 [13:47<2:02:36, 1136.76it/s]"
     ]
    },
    {
     "name": "stdout",
     "output_type": "stream",
     "text": [
      "New total score is 1515435.29. Permutating path at indexes 81566, 81658, 81659.\n"
     ]
    },
    {
     "name": "stderr",
     "output_type": "stream",
     "text": [
      " 11%|█         | 997833/9355215 [13:51<2:01:32, 1146.03it/s]"
     ]
    },
    {
     "name": "stdout",
     "output_type": "stream",
     "text": [
      "New total score is 1515435.20. Permutating path at indexes 185490, 185652, 185721.\n"
     ]
    },
    {
     "name": "stderr",
     "output_type": "stream",
     "text": [
      " 11%|█         | 1012677/9355215 [14:04<1:56:21, 1194.98it/s]"
     ]
    },
    {
     "name": "stdout",
     "output_type": "stream",
     "text": [
      "New total score is 1515435.03. Permutating path at indexes 44551, 44554, 44562.\n"
     ]
    },
    {
     "name": "stderr",
     "output_type": "stream",
     "text": [
      " 11%|█         | 1028364/9355215 [14:18<2:12:59, 1043.59it/s]"
     ]
    },
    {
     "name": "stdout",
     "output_type": "stream",
     "text": [
      "New total score is 1515434.99. Permutating path at indexes 175191, 175232, 175239.\n"
     ]
    },
    {
     "name": "stderr",
     "output_type": "stream",
     "text": [
      " 12%|█▏        | 1102995/9355215 [15:26<2:07:33, 1078.26it/s]"
     ]
    },
    {
     "name": "stdout",
     "output_type": "stream",
     "text": [
      "New total score is 1515434.86. Permutating path at indexes 11379, 11386, 11443.\n"
     ]
    },
    {
     "name": "stderr",
     "output_type": "stream",
     "text": [
      " 13%|█▎        | 1184738/9355215 [16:39<2:09:15, 1053.55it/s]"
     ]
    },
    {
     "name": "stdout",
     "output_type": "stream",
     "text": [
      "New total score is 1515434.62. Permutating path at indexes 99667, 99694, 99695.\n"
     ]
    },
    {
     "name": "stderr",
     "output_type": "stream",
     "text": [
      " 13%|█▎        | 1203172/9355215 [16:56<2:19:50, 971.53it/s]"
     ]
    },
    {
     "name": "stdout",
     "output_type": "stream",
     "text": [
      "New total score is 1515434.35. Permutating path at indexes 27591, 27611, 27616.\n"
     ]
    },
    {
     "name": "stderr",
     "output_type": "stream",
     "text": [
      " 13%|█▎        | 1235355/9355215 [17:26<2:03:28, 1095.96it/s]"
     ]
    },
    {
     "name": "stdout",
     "output_type": "stream",
     "text": [
      "New total score is 1515434.27. Permutating path at indexes 188076, 188271, 188287.\n"
     ]
    },
    {
     "name": "stderr",
     "output_type": "stream",
     "text": [
      " 13%|█▎        | 1257755/9355215 [17:46<2:05:00, 1079.66it/s]"
     ]
    },
    {
     "name": "stdout",
     "output_type": "stream",
     "text": [
      "New total score is 1515434.07. Permutating path at indexes 24635, 24641, 24642.\n"
     ]
    },
    {
     "name": "stderr",
     "output_type": "stream",
     "text": [
      " 15%|█▍        | 1366091/9355215 [19:27<2:03:12, 1080.69it/s]"
     ]
    },
    {
     "name": "stdout",
     "output_type": "stream",
     "text": [
      "New total score is 1515433.67. Permutating path at indexes 72515, 72563, 72564.\n"
     ]
    },
    {
     "name": "stderr",
     "output_type": "stream",
     "text": [
      " 15%|█▌        | 1427567/9355215 [20:26<2:17:28, 961.10it/s]"
     ]
    },
    {
     "name": "stdout",
     "output_type": "stream",
     "text": [
      "New total score is 1515433.53. Permutating path at indexes 196413, 196414, 196420.\n"
     ]
    },
    {
     "name": "stderr",
     "output_type": "stream",
     "text": [
      " 15%|█▌        | 1449518/9355215 [20:47<2:14:35, 979.02it/s] "
     ]
    },
    {
     "name": "stdout",
     "output_type": "stream",
     "text": [
      "New total score is 1515433.51. Permutating path at indexes 73768, 73769, 73775.\n"
     ]
    },
    {
     "name": "stderr",
     "output_type": "stream",
     "text": [
      " 16%|█▋        | 1541790/9355215 [22:16<2:06:23, 1030.37it/s]"
     ]
    },
    {
     "name": "stdout",
     "output_type": "stream",
     "text": [
      "New total score is 1515433.49. Permutating path at indexes 65718, 65721, 65725.\n"
     ]
    },
    {
     "name": "stderr",
     "output_type": "stream",
     "text": [
      " 17%|█▋        | 1546962/9355215 [22:21<2:05:11, 1039.46it/s]"
     ]
    },
    {
     "name": "stdout",
     "output_type": "stream",
     "text": [
      "New total score is 1515433.31. Permutating path at indexes 24124, 24125, 24130.\n"
     ]
    },
    {
     "name": "stderr",
     "output_type": "stream",
     "text": [
      " 17%|█▋        | 1551674/9355215 [22:25<2:09:34, 1003.76it/s]"
     ]
    },
    {
     "name": "stdout",
     "output_type": "stream",
     "text": [
      "New total score is 1515433.09. Permutating path at indexes 136953, 137008, 137009.\n"
     ]
    },
    {
     "name": "stderr",
     "output_type": "stream",
     "text": [
      " 17%|█▋        | 1575296/9355215 [22:48<2:07:38, 1015.90it/s]"
     ]
    },
    {
     "name": "stdout",
     "output_type": "stream",
     "text": [
      "New total score is 1515432.74. Permutating path at indexes 121520, 121559, 121588.\n"
     ]
    },
    {
     "name": "stderr",
     "output_type": "stream",
     "text": [
      " 18%|█▊        | 1729182/9355215 [25:20<2:11:16, 968.15it/s]"
     ]
    },
    {
     "name": "stdout",
     "output_type": "stream",
     "text": [
      "New total score is 1515431.84. Permutating path at indexes 122464, 122465, 122489.\n"
     ]
    },
    {
     "name": "stderr",
     "output_type": "stream",
     "text": [
      " 19%|█▉        | 1822069/9355215 [26:56<2:13:27, 940.78it/s]"
     ]
    },
    {
     "name": "stdout",
     "output_type": "stream",
     "text": [
      "New total score is 1515431.80. Permutating path at indexes 26639, 26650, 26651.\n"
     ]
    },
    {
     "name": "stderr",
     "output_type": "stream",
     "text": [
      " 20%|██        | 1872655/9355215 [27:47<2:11:12, 950.50it/s]"
     ]
    },
    {
     "name": "stdout",
     "output_type": "stream",
     "text": [
      "New total score is 1515431.80. Permutating path at indexes 116296, 116329, 116330.\n"
     ]
    },
    {
     "name": "stderr",
     "output_type": "stream",
     "text": [
      " 22%|██▏       | 2054914/9355215 [30:54<2:07:01, 957.84it/s]"
     ]
    },
    {
     "name": "stdout",
     "output_type": "stream",
     "text": [
      "New total score is 1515431.64. Permutating path at indexes 157097, 157130, 157133.\n"
     ]
    },
    {
     "name": "stderr",
     "output_type": "stream",
     "text": [
      " 22%|██▏       | 2079070/9355215 [31:19<2:06:39, 957.39it/s]"
     ]
    },
    {
     "name": "stdout",
     "output_type": "stream",
     "text": [
      "New total score is 1515431.17. Permutating path at indexes 165633, 165666, 165667.\n"
     ]
    },
    {
     "name": "stderr",
     "output_type": "stream",
     "text": [
      " 23%|██▎       | 2155828/9355215 [32:39<2:06:55, 945.34it/s]"
     ]
    },
    {
     "name": "stdout",
     "output_type": "stream",
     "text": [
      "New total score is 1515430.50. Permutating path at indexes 84907, 85098, 85104.\n"
     ]
    },
    {
     "name": "stderr",
     "output_type": "stream",
     "text": [
      " 25%|██▌       | 2338996/9355215 [35:51<2:09:01, 906.26it/s]"
     ]
    },
    {
     "name": "stdout",
     "output_type": "stream",
     "text": [
      "New total score is 1515430.37. Permutating path at indexes 193557, 193617, 193619.\n"
     ]
    },
    {
     "name": "stderr",
     "output_type": "stream",
     "text": [
      " 27%|██▋       | 2530379/9355215 [39:15<2:06:52, 896.50it/s]"
     ]
    },
    {
     "name": "stdout",
     "output_type": "stream",
     "text": [
      "New total score is 1515430.32. Permutating path at indexes 29124, 29126, 29163.\n"
     ]
    },
    {
     "name": "stderr",
     "output_type": "stream",
     "text": [
      " 27%|██▋       | 2546770/9355215 [39:33<2:06:55, 893.98it/s]"
     ]
    },
    {
     "name": "stdout",
     "output_type": "stream",
     "text": [
      "New total score is 1515430.19. Permutating path at indexes 143064, 143070, 143130.\n"
     ]
    },
    {
     "name": "stderr",
     "output_type": "stream",
     "text": [
      " 28%|██▊       | 2600014/9355215 [40:30<2:06:37, 889.16it/s]"
     ]
    },
    {
     "name": "stdout",
     "output_type": "stream",
     "text": [
      "New total score is 1515430.02. Permutating path at indexes 11217, 11218, 11352.\n"
     ]
    },
    {
     "name": "stderr",
     "output_type": "stream",
     "text": [
      " 29%|██▉       | 2696776/9355215 [42:15<2:04:12, 893.43it/s]"
     ]
    },
    {
     "name": "stdout",
     "output_type": "stream",
     "text": [
      "New total score is 1515429.97. Permutating path at indexes 99668, 99669, 99675.\n"
     ]
    },
    {
     "name": "stderr",
     "output_type": "stream",
     "text": [
      " 30%|██▉       | 2772245/9355215 [43:37<2:08:29, 853.87it/s]"
     ]
    },
    {
     "name": "stdout",
     "output_type": "stream",
     "text": [
      "New total score is 1515429.91. Permutating path at indexes 80111, 80224, 80227.\n"
     ]
    },
    {
     "name": "stderr",
     "output_type": "stream",
     "text": [
      " 31%|███       | 2865931/9355215 [45:27<2:14:35, 803.56it/s]"
     ]
    },
    {
     "name": "stdout",
     "output_type": "stream",
     "text": [
      "New total score is 1515429.58. Permutating path at indexes 85484, 85485, 85676.\n"
     ]
    },
    {
     "name": "stderr",
     "output_type": "stream",
     "text": [
      " 31%|███       | 2906217/9355215 [46:17<2:19:37, 769.80it/s]"
     ]
    },
    {
     "name": "stdout",
     "output_type": "stream",
     "text": [
      "New total score is 1515428.61. Permutating path at indexes 41254, 41424, 41427.\n"
     ]
    },
    {
     "name": "stderr",
     "output_type": "stream",
     "text": [
      " 31%|███▏      | 2925569/9355215 [46:39<2:05:04, 856.73it/s]"
     ]
    },
    {
     "name": "stdout",
     "output_type": "stream",
     "text": [
      "New total score is 1515428.40. Permutating path at indexes 75300, 75319, 75320.\n"
     ]
    },
    {
     "name": "stderr",
     "output_type": "stream",
     "text": [
      " 32%|███▏      | 2970180/9355215 [47:32<2:12:16, 804.49it/s]"
     ]
    },
    {
     "name": "stdout",
     "output_type": "stream",
     "text": [
      "New total score is 1515428.30. Permutating path at indexes 10758, 10760, 11249.\n"
     ]
    },
    {
     "name": "stderr",
     "output_type": "stream",
     "text": [
      " 32%|███▏      | 3005614/9355215 [48:15<2:03:00, 860.27it/s]"
     ]
    },
    {
     "name": "stdout",
     "output_type": "stream",
     "text": [
      "New total score is 1515427.74. Permutating path at indexes 38299, 38300, 38415.\n"
     ]
    },
    {
     "name": "stderr",
     "output_type": "stream",
     "text": [
      " 33%|███▎      | 3041763/9355215 [48:55<1:58:43, 886.24it/s]"
     ]
    },
    {
     "name": "stdout",
     "output_type": "stream",
     "text": [
      "New total score is 1515426.56. Permutating path at indexes 75023, 76484, 76492.\n"
     ]
    },
    {
     "name": "stderr",
     "output_type": "stream",
     "text": [
      " 33%|███▎      | 3098071/9355215 [50:00<2:34:01, 677.07it/s]"
     ]
    },
    {
     "name": "stdout",
     "output_type": "stream",
     "text": [
      "New total score is 1515426.33. Permutating path at indexes 45519, 45520, 45562.\n"
     ]
    },
    {
     "name": "stderr",
     "output_type": "stream",
     "text": [
      " 34%|███▎      | 3136027/9355215 [50:43<2:03:01, 842.50it/s]"
     ]
    },
    {
     "name": "stdout",
     "output_type": "stream",
     "text": [
      "New total score is 1515426.11. Permutating path at indexes 172127, 172128, 172138.\n"
     ]
    },
    {
     "name": "stderr",
     "output_type": "stream",
     "text": [
      " 34%|███▎      | 3154691/9355215 [51:04<2:02:37, 842.71it/s]"
     ]
    },
    {
     "name": "stdout",
     "output_type": "stream",
     "text": [
      "New total score is 1515423.96. Permutating path at indexes 10840, 10906, 10907.\n"
     ]
    },
    {
     "name": "stderr",
     "output_type": "stream",
     "text": [
      " 34%|███▍      | 3205834/9355215 [52:02<1:59:20, 858.83it/s]"
     ]
    },
    {
     "name": "stdout",
     "output_type": "stream",
     "text": [
      "New total score is 1515423.46. Permutating path at indexes 78305, 78403, 78417.\n"
     ]
    },
    {
     "name": "stderr",
     "output_type": "stream",
     "text": [
      " 35%|███▌      | 3292418/9355215 [53:39<1:57:18, 861.34it/s]"
     ]
    },
    {
     "name": "stdout",
     "output_type": "stream",
     "text": [
      "New total score is 1515423.19. Permutating path at indexes 196940, 196950, 197327.\n"
     ]
    },
    {
     "name": "stderr",
     "output_type": "stream",
     "text": [
      " 36%|███▋      | 3405373/9355215 [55:48<1:53:59, 869.89it/s]"
     ]
    },
    {
     "name": "stdout",
     "output_type": "stream",
     "text": [
      "New total score is 1515422.93. Permutating path at indexes 100151, 100157, 100160.\n"
     ]
    },
    {
     "name": "stderr",
     "output_type": "stream",
     "text": [
      " 40%|███▉      | 3725745/9355215 [1:01:58<1:56:51, 802.84it/s]"
     ]
    },
    {
     "name": "stdout",
     "output_type": "stream",
     "text": [
      "New total score is 1515419.25. Permutating path at indexes 155941, 156880, 156889.\n"
     ]
    },
    {
     "name": "stderr",
     "output_type": "stream",
     "text": [
      " 40%|████      | 3751906/9355215 [1:02:28<1:55:19, 809.77it/s]"
     ]
    },
    {
     "name": "stdout",
     "output_type": "stream",
     "text": [
      "New total score is 1515418.85. Permutating path at indexes 37017, 37202, 37204.\n"
     ]
    },
    {
     "name": "stderr",
     "output_type": "stream",
     "text": [
      " 40%|████      | 3764285/9355215 [1:02:42<1:51:09, 838.23it/s]"
     ]
    },
    {
     "name": "stdout",
     "output_type": "stream",
     "text": [
      "New total score is 1515418.74. Permutating path at indexes 11660, 11662, 11663.\n"
     ]
    },
    {
     "name": "stderr",
     "output_type": "stream",
     "text": [
      " 40%|████      | 3773027/9355215 [1:02:52<1:50:47, 839.77it/s]"
     ]
    },
    {
     "name": "stdout",
     "output_type": "stream",
     "text": [
      "New total score is 1515418.28. Permutating path at indexes 156879, 156887, 156889.\n"
     ]
    },
    {
     "name": "stderr",
     "output_type": "stream",
     "text": [
      " 46%|████▌     | 4279781/9355215 [1:13:12<1:51:04, 761.51it/s]"
     ]
    },
    {
     "name": "stdout",
     "output_type": "stream",
     "text": [
      "New total score is 1515417.28. Permutating path at indexes 62727, 62728, 62744.\n"
     ]
    },
    {
     "name": "stderr",
     "output_type": "stream",
     "text": [
      " 48%|████▊     | 4492546/9355215 [1:17:35<1:44:21, 776.62it/s]"
     ]
    },
    {
     "name": "stdout",
     "output_type": "stream",
     "text": [
      "New total score is 1515416.98. Permutating path at indexes 143578, 143579, 143592.\n"
     ]
    },
    {
     "name": "stderr",
     "output_type": "stream",
     "text": [
      " 48%|████▊     | 4506526/9355215 [1:17:53<1:39:46, 809.93it/s]"
     ]
    },
    {
     "name": "stdout",
     "output_type": "stream",
     "text": [
      "New total score is 1515416.62. Permutating path at indexes 81530, 81543, 81762.\n"
     ]
    },
    {
     "name": "stderr",
     "output_type": "stream",
     "text": [
      " 49%|████▉     | 4570813/9355215 [1:19:13<1:46:20, 749.80it/s]"
     ]
    },
    {
     "name": "stdout",
     "output_type": "stream",
     "text": [
      "New total score is 1515416.31. Permutating path at indexes 81552, 81554, 81645.\n"
     ]
    },
    {
     "name": "stderr",
     "output_type": "stream",
     "text": [
      " 50%|█████     | 4709863/9355215 [1:22:16<1:37:43, 792.24it/s]"
     ]
    },
    {
     "name": "stdout",
     "output_type": "stream",
     "text": [
      "New total score is 1515416.31. Permutating path at indexes 139047, 139050, 139054.\n"
     ]
    },
    {
     "name": "stderr",
     "output_type": "stream",
     "text": [
      " 53%|█████▎    | 4938666/9355215 [1:27:16<1:33:05, 790.77it/s]"
     ]
    },
    {
     "name": "stdout",
     "output_type": "stream",
     "text": [
      "New total score is 1515416.12. Permutating path at indexes 54429, 54457, 54458.\n"
     ]
    },
    {
     "name": "stderr",
     "output_type": "stream",
     "text": [
      " 54%|█████▍    | 5077301/9355215 [1:30:06<1:30:19, 789.31it/s]"
     ]
    },
    {
     "name": "stdout",
     "output_type": "stream",
     "text": [
      "New total score is 1515415.82. Permutating path at indexes 164626, 164627, 164700.\n"
     ]
    },
    {
     "name": "stderr",
     "output_type": "stream",
     "text": [
      " 54%|█████▍    | 5097941/9355215 [1:30:31<1:28:58, 797.47it/s]"
     ]
    },
    {
     "name": "stdout",
     "output_type": "stream",
     "text": [
      "New total score is 1515415.69. Permutating path at indexes 162136, 162152, 162153.\n"
     ]
    },
    {
     "name": "stderr",
     "output_type": "stream",
     "text": [
      " 59%|█████▉    | 5550301/9355215 [1:40:23<1:21:02, 782.49it/s]"
     ]
    },
    {
     "name": "stdout",
     "output_type": "stream",
     "text": [
      "New total score is 1515415.61. Permutating path at indexes 83756, 83757, 83767.\n"
     ]
    },
    {
     "name": "stderr",
     "output_type": "stream",
     "text": [
      " 59%|█████▉    | 5551970/9355215 [1:40:25<1:21:26, 778.30it/s]"
     ]
    },
    {
     "name": "stdout",
     "output_type": "stream",
     "text": [
      "New total score is 1515415.57. Permutating path at indexes 194475, 194477, 194555.\n"
     ]
    },
    {
     "name": "stderr",
     "output_type": "stream",
     "text": [
      " 61%|██████    | 5715382/9355215 [1:43:48<1:19:39, 761.57it/s]"
     ]
    },
    {
     "name": "stdout",
     "output_type": "stream",
     "text": [
      "New total score is 1515415.30. Permutating path at indexes 197073, 197080, 197082.\n"
     ]
    },
    {
     "name": "stderr",
     "output_type": "stream",
     "text": [
      " 62%|██████▏   | 5754563/9355215 [1:44:36<1:12:31, 827.54it/s]"
     ]
    },
    {
     "name": "stdout",
     "output_type": "stream",
     "text": [
      "New total score is 1515413.67. Permutating path at indexes 79580, 79581, 81826.\n"
     ]
    },
    {
     "name": "stderr",
     "output_type": "stream",
     "text": [
      " 66%|██████▌   | 6176883/9355215 [1:53:26<1:11:10, 744.27it/s]"
     ]
    },
    {
     "name": "stdout",
     "output_type": "stream",
     "text": [
      "New total score is 1515412.82. Permutating path at indexes 118265, 118266, 118295.\n"
     ]
    },
    {
     "name": "stderr",
     "output_type": "stream",
     "text": [
      " 70%|██████▉   | 6510346/9355215 [2:00:30<1:00:46, 780.15it/s]"
     ]
    },
    {
     "name": "stdout",
     "output_type": "stream",
     "text": [
      "New total score is 1515412.59. Permutating path at indexes 83685, 83686, 83701.\n"
     ]
    },
    {
     "name": "stderr",
     "output_type": "stream",
     "text": [
      " 73%|███████▎  | 6782988/9355215 [2:06:21<57:14, 748.85it/s]"
     ]
    },
    {
     "name": "stdout",
     "output_type": "stream",
     "text": [
      "New total score is 1515412.13. Permutating path at indexes 116208, 116216, 116223.\n"
     ]
    },
    {
     "name": "stderr",
     "output_type": "stream",
     "text": [
      " 75%|███████▍  | 6973726/9355215 [2:10:37<53:16, 745.11it/s]"
     ]
    },
    {
     "name": "stdout",
     "output_type": "stream",
     "text": [
      "New total score is 1515411.98. Permutating path at indexes 160916, 160941, 160957.\n"
     ]
    },
    {
     "name": "stderr",
     "output_type": "stream",
     "text": [
      " 76%|███████▌  | 7114408/9355215 [2:13:50<51:58, 718.63it/s]"
     ]
    },
    {
     "name": "stdout",
     "output_type": "stream",
     "text": [
      "New total score is 1515411.47. Permutating path at indexes 76546, 76550, 76552.\n"
     ]
    },
    {
     "name": "stderr",
     "output_type": "stream",
     "text": [
      " 76%|███████▌  | 7116960/9355215 [2:13:53<49:13, 757.78it/s]"
     ]
    },
    {
     "name": "stdout",
     "output_type": "stream",
     "text": [
      "New total score is 1515411.40. Permutating path at indexes 163079, 163080, 163086.\n"
     ]
    },
    {
     "name": "stderr",
     "output_type": "stream",
     "text": [
      " 81%|████████▏ | 7605405/9355215 [2:26:16<57:41, 505.49it/s]"
     ]
    },
    {
     "name": "stdout",
     "output_type": "stream",
     "text": [
      "New total score is 1515410.88. Permutating path at indexes 43639, 43646, 43651.\n"
     ]
    },
    {
     "name": "stderr",
     "output_type": "stream",
     "text": [
      " 83%|████████▎ | 7758733/9355215 [2:30:57<51:11, 519.74it/s]"
     ]
    },
    {
     "ename": "KeyboardInterrupt",
     "evalue": "",
     "output_type": "error",
     "traceback": [
      "\u001b[0;31m---------------------------------------------------------------------------\u001b[0m",
      "\u001b[0;31mKeyboardInterrupt\u001b[0m                         Traceback (most recent call last)",
      "\u001b[0;32m<ipython-input-11-660df2882722>\u001b[0m in \u001b[0;36m<module>\u001b[0;34m\u001b[0m\n\u001b[1;32m     21\u001b[0m         \u001b[0mbest_score\u001b[0m \u001b[0;34m=\u001b[0m \u001b[0mdefault_score\u001b[0m\u001b[0;34m\u001b[0m\u001b[0;34m\u001b[0m\u001b[0m\n\u001b[1;32m     22\u001b[0m         \u001b[0;32mfor\u001b[0m \u001b[0mindexes_permutation\u001b[0m \u001b[0;32min\u001b[0m \u001b[0mnot_trivial_indexes_permutations\u001b[0m\u001b[0;34m(\u001b[0m\u001b[0mlen\u001b[0m\u001b[0;34m(\u001b[0m\u001b[0mchunks\u001b[0m\u001b[0;34m)\u001b[0m\u001b[0;34m)\u001b[0m\u001b[0;34m:\u001b[0m\u001b[0;34m\u001b[0m\u001b[0;34m\u001b[0m\u001b[0m\n\u001b[0;32m---> 23\u001b[0;31m             \u001b[0mscore\u001b[0m \u001b[0;34m=\u001b[0m \u001b[0mscore_compound_chunk\u001b[0m\u001b[0;34m(\u001b[0m\u001b[0mi\u001b[0m\u001b[0;34m-\u001b[0m\u001b[0;36m1\u001b[0m\u001b[0;34m,\u001b[0m \u001b[0mhead\u001b[0m\u001b[0;34m,\u001b[0m \u001b[0mchunks\u001b[0m\u001b[0;34m,\u001b[0m \u001b[0mtail\u001b[0m\u001b[0;34m,\u001b[0m \u001b[0mscores\u001b[0m\u001b[0;34m,\u001b[0m \u001b[0mindexes_permutation\u001b[0m\u001b[0;34m)\u001b[0m\u001b[0;34m\u001b[0m\u001b[0;34m\u001b[0m\u001b[0m\n\u001b[0m\u001b[1;32m     24\u001b[0m             \u001b[0;32mif\u001b[0m \u001b[0mscore\u001b[0m \u001b[0;34m<\u001b[0m \u001b[0mbest_score\u001b[0m\u001b[0;34m:\u001b[0m\u001b[0;34m\u001b[0m\u001b[0;34m\u001b[0m\u001b[0m\n\u001b[1;32m     25\u001b[0m                 \u001b[0mpermutation\u001b[0m \u001b[0;34m=\u001b[0m \u001b[0;34m[\u001b[0m\u001b[0mchunks\u001b[0m\u001b[0;34m[\u001b[0m\u001b[0mi\u001b[0m\u001b[0;34m]\u001b[0m \u001b[0;32mfor\u001b[0m \u001b[0mi\u001b[0m \u001b[0;32min\u001b[0m \u001b[0mindexes_permutation\u001b[0m\u001b[0;34m]\u001b[0m\u001b[0;34m\u001b[0m\u001b[0;34m\u001b[0m\u001b[0m\n",
      "\u001b[0;32m<ipython-input-7-81bcf0db9735>\u001b[0m in \u001b[0;36mscore_compound_chunk\u001b[0;34m(offset, head, chunks, tail, scores, indexes_permutation)\u001b[0m\n\u001b[1;32m     52\u001b[0m     \u001b[0;32mfor\u001b[0m \u001b[0mindex\u001b[0m \u001b[0;32min\u001b[0m \u001b[0mindexes_permutation\u001b[0m\u001b[0;34m:\u001b[0m\u001b[0;34m\u001b[0m\u001b[0;34m\u001b[0m\u001b[0m\n\u001b[1;32m     53\u001b[0m         \u001b[0mchunk\u001b[0m\u001b[0;34m,\u001b[0m \u001b[0mchunk_scores\u001b[0m \u001b[0;34m=\u001b[0m \u001b[0mchunks\u001b[0m\u001b[0;34m[\u001b[0m\u001b[0mindex\u001b[0m\u001b[0;34m]\u001b[0m\u001b[0;34m,\u001b[0m \u001b[0mscores\u001b[0m\u001b[0;34m[\u001b[0m\u001b[0mindex\u001b[0m\u001b[0;34m]\u001b[0m\u001b[0;34m\u001b[0m\u001b[0;34m\u001b[0m\u001b[0m\n\u001b[0;32m---> 54\u001b[0;31m         \u001b[0mscore\u001b[0m \u001b[0;34m+=\u001b[0m \u001b[0mcities_distance\u001b[0m\u001b[0;34m(\u001b[0m\u001b[0moffset\u001b[0m \u001b[0;34m%\u001b[0m \u001b[0;36m10\u001b[0m\u001b[0;34m,\u001b[0m \u001b[0mlast_city_id\u001b[0m\u001b[0;34m,\u001b[0m \u001b[0mchunk\u001b[0m\u001b[0;34m[\u001b[0m\u001b[0;36m0\u001b[0m\u001b[0;34m]\u001b[0m\u001b[0;34m)\u001b[0m\u001b[0;34m\u001b[0m\u001b[0;34m\u001b[0m\u001b[0m\n\u001b[0m\u001b[1;32m     55\u001b[0m         \u001b[0mscore\u001b[0m \u001b[0;34m+=\u001b[0m \u001b[0mchunk_scores\u001b[0m\u001b[0;34m[\u001b[0m\u001b[0;34m(\u001b[0m\u001b[0moffset\u001b[0m \u001b[0;34m+\u001b[0m \u001b[0;36m1\u001b[0m\u001b[0;34m)\u001b[0m \u001b[0;34m%\u001b[0m \u001b[0;36m10\u001b[0m\u001b[0;34m]\u001b[0m\u001b[0;34m\u001b[0m\u001b[0;34m\u001b[0m\u001b[0m\n\u001b[1;32m     56\u001b[0m         \u001b[0mlast_city_id\u001b[0m \u001b[0;34m=\u001b[0m \u001b[0mchunk\u001b[0m\u001b[0;34m[\u001b[0m\u001b[0;34m-\u001b[0m\u001b[0;36m1\u001b[0m\u001b[0;34m]\u001b[0m\u001b[0;34m\u001b[0m\u001b[0;34m\u001b[0m\u001b[0m\n",
      "\u001b[0;31mKeyboardInterrupt\u001b[0m: "
     ]
    }
   ],
   "source": [
    "def not_trivial_permutations(iterable):\n",
    "    perms = permutations(iterable)\n",
    "    next(perms)\n",
    "    yield from perms\n",
    "\n",
    "\n",
    "@lru_cache(maxsize=None)\n",
    "def not_trivial_indexes_permutations(length):\n",
    "    return np.array([list(p) for p in not_trivial_permutations(range(length))])\n",
    "\n",
    "path_index = np.argsort(path[:-1])\n",
    "print(f'Total score is {score_path(path):.2f}.')\n",
    "for _ in range(3):\n",
    "    for ids in tqdm(triplets):\n",
    "        i, j, k = sorted(path_index[ids])\n",
    "        head, tail = path[i-1], path[k+1]\n",
    "        chunks = [path[i:i+1], path[i+1:j], path[j:j+1], path[j+1:k], path[k:k+1]]\n",
    "        chunks = [chunk for chunk in chunks if len(chunk)]\n",
    "        scores = [chunk_scores(chunk) for chunk in chunks]\n",
    "        default_score = score_compound_chunk(i-1, head, chunks, tail, scores)\n",
    "        best_score = default_score\n",
    "        for indexes_permutation in not_trivial_indexes_permutations(len(chunks)):\n",
    "            score = score_compound_chunk(i-1, head, chunks, tail, scores, indexes_permutation)\n",
    "            if score < best_score:\n",
    "                permutation = [chunks[i] for i in indexes_permutation]\n",
    "                best_chunk = np.concatenate([[head], np.concatenate(permutation), [tail]])\n",
    "                best_score = score\n",
    "        if best_score < default_score:\n",
    "            path[i-1:k+2] = best_chunk\n",
    "            path_index = np.argsort(path[:-1])\n",
    "            print(f'New total score is {score_path(path):.2f}. Permutating path at indexes {i}, {j}, {k}.')\n",
    "    triplets = triplets[:10**6]"
   ]
  },
  {
   "cell_type": "code",
   "execution_count": 12,
   "metadata": {
    "_uuid": "decd165b0e79be20469ad45092f475dca12f9e01"
   },
   "outputs": [
    {
     "name": "stdout",
     "output_type": "stream",
     "text": [
      "Final score is 1515410.88.\n"
     ]
    }
   ],
   "source": [
    "print(f'Final score is {score_path(path):.2f}.')"
   ]
  },
  {
   "cell_type": "markdown",
   "metadata": {
    "_cell_guid": "b1076dfc-b9ad-4769-8c92-a6c4dae69d19",
    "_uuid": "8f2839f25d086af736a60e9eeb907d3b93b6e0e5"
   },
   "source": [
    "7. Save the result path."
   ]
  },
  {
   "cell_type": "code",
   "execution_count": 13,
   "metadata": {
    "_cell_guid": "79c7e3d0-c299-4dcb-8224-4455121ee9b0",
    "_uuid": "d629ff2d2480ee46fbb7e2d37f6b5fab8052498a"
   },
   "outputs": [
    {
     "name": "stderr",
     "output_type": "stream",
     "text": [
      " 83%|████████▎ | 7758733/9355215 [2:31:16<51:11, 519.74it/s]"
     ]
    }
   ],
   "source": [
    "def make_submission(name, path):\n",
    "    pd.DataFrame({'Path': path}).to_csv(f'{name}.csv', index=False)"
   ]
  },
  {
   "cell_type": "code",
   "execution_count": 14,
   "metadata": {
    "_uuid": "7b43eaa325d889c96496f01e018722a885435820"
   },
   "outputs": [],
   "source": [
    "make_submission(\"3.5_after_mip\", path)"
   ]
  }
 ],
 "metadata": {
  "kernelspec": {
   "display_name": "Python 3",
   "language": "python",
   "name": "python3"
  },
  "language_info": {
   "codemirror_mode": {
    "name": "ipython",
    "version": 3
   },
   "file_extension": ".py",
   "mimetype": "text/x-python",
   "name": "python",
   "nbconvert_exporter": "python",
   "pygments_lexer": "ipython3",
   "version": "3.7.1"
  }
 },
 "nbformat": 4,
 "nbformat_minor": 2
}
