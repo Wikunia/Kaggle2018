{
 "cells": [
  {
   "cell_type": "code",
   "execution_count": 16,
   "metadata": {},
   "outputs": [],
   "source": [
    "using Plots, BenchmarkTools"
   ]
  },
  {
   "cell_type": "code",
   "execution_count": 15,
   "metadata": {},
   "outputs": [],
   "source": [
    "gr()\n",
    "x = [1,2,3,4,5,6,6,5,4,3,2,1]\n",
    "y = [2,2,2,2,2,2,1,1,1,1,1,1]\n",
    "plot(x,y, seriestype=:scatter, ylim=(0,3), label=\"\", axis=false)\n",
    "plot!(x,y, seriestype=:path, label=\"Current\")\n",
    "plot!(x,[2,2,2,1,1,1,2,2,2,1,1,1].+0.1, seriestype=:path, label=\"New 1\")\n",
    "plot!([1,2,3,3,4,5,6,6,5,4,2,1],[2,2,2,1,1,1,1,2,2,2,1,1].-0.1, seriestype=:path, label=\"New 2\")\n",
    "plot!([4],[1], seriestype=:scatter, label=\"Point\", color=:red)\n",
    "png(\"kopt\")"
   ]
  },
  {
   "cell_type": "code",
   "execution_count": 88,
   "metadata": {},
   "outputs": [
    {
     "name": "stdout",
     "output_type": "stream",
     "text": [
      "Array{Float64,1}\n",
      "Array{Float64,1}\n",
      "[0.332134, 0.519818, 0.899627, 0.5851, 0.285125, 0.180372, 0.0234346, 0.57465, 0.260464, 0.968684]\n",
      "[4.62941, 4.29728, 3.77746, 2.87783, 2.29273, 2.00761, 1.82723, 1.8038, 1.22915, 0.968684]\n"
     ]
    }
   ],
   "source": [
    "c = rand(10);\n",
    "println(typeof(c))\n",
    "d = rev_cumsum(c);\n",
    "println(typeof(d))\n",
    "println(c[1:10])\n",
    "println(d[1:10])"
   ]
  },
  {
   "cell_type": "code",
   "execution_count": 89,
   "metadata": {},
   "outputs": [
    {
     "name": "stdout",
     "output_type": "stream",
     "text": [
      "2.621803777568031\n",
      "2.8021760692282993\n"
     ]
    }
   ],
   "source": [
    "println(sum(c[1:5]))\n",
    "println(sum(c[1:6]))"
   ]
  },
  {
   "cell_type": "code",
   "execution_count": 90,
   "metadata": {},
   "outputs": [
    {
     "name": "stdout",
     "output_type": "stream",
     "text": [
      "0.0\n",
      "0.0\n"
     ]
    }
   ],
   "source": [
    "println(d[1]-d[6]-sum(c[1:5]))\n",
    "k = sum(c[1:5])\n",
    "println(k-sum(c[1:5]))"
   ]
  },
  {
   "cell_type": "code",
   "execution_count": 86,
   "metadata": {},
   "outputs": [
    {
     "data": {
      "text/plain": [
       "rev_cumsum (generic function with 1 method)"
      ]
     },
     "execution_count": 86,
     "metadata": {},
     "output_type": "execute_result"
    }
   ],
   "source": [
    "function rev_cumsum(l::Vector)\n",
    "    q = copy(l)\n",
    "\t@inbounds for i = length(l)-1:-1:1\n",
    "        if i % 1 == 0\n",
    "            q[i] = sum(l[i:end])\n",
    "            @assert q[i] == sum(l[i:length(l)])\n",
    "        else\n",
    "            println(\"---\")\n",
    "            q[i] += q[i+1]\n",
    "        end\n",
    "\tend\n",
    "\treturn q\n",
    "end"
   ]
  }
 ],
 "metadata": {
  "kernelspec": {
   "display_name": "Julia 1.0.2",
   "language": "julia",
   "name": "julia-1.0"
  },
  "language_info": {
   "file_extension": ".jl",
   "mimetype": "application/julia",
   "name": "julia",
   "version": "1.0.3"
  }
 },
 "nbformat": 4,
 "nbformat_minor": 2
}
