{
 "cells": [
  {
   "cell_type": "code",
   "execution_count": 15,
   "metadata": {},
   "outputs": [],
   "source": [
    "using DelimitedFiles"
   ]
  },
  {
   "cell_type": "code",
   "execution_count": 10,
   "metadata": {},
   "outputs": [
    {
     "data": {
      "text/plain": [
       "get_reasonable_i (generic function with 1 method)"
      ]
     },
     "execution_count": 10,
     "metadata": {},
     "output_type": "execute_result"
    }
   ],
   "source": [
    "function get_reasonable_i(fn)\n",
    "    is = []\n",
    "    last_gain = 0.0\n",
    "    open(\"logs/nohup_\"*fn) do file\n",
    "        for ln in eachline(file)\n",
    "            if ln[1:2] == \"i:\"\n",
    "                splits = split(ln, \",\")\n",
    "                ci = parse(Int, split(splits[1], \" \")[end])\n",
    "                tgain = parse(Float64,split(splits[4], \" \")[end])\n",
    "                if tgain != last_gain\n",
    "                   last_gain = tgain\n",
    "                    push!(is, ci)\n",
    "                end\n",
    "            end\n",
    "        end\n",
    "    end\n",
    "    return is\n",
    "end"
   ]
  },
  {
   "cell_type": "code",
   "execution_count": 16,
   "metadata": {},
   "outputs": [],
   "source": [
    "writedlm(\"reasonable_i\", collect(Set(vcat(get_reasonable_i(\"5opt_n15_mip\"), get_reasonable_i(\"6opt_n10_mip\")))))"
   ]
  }
 ],
 "metadata": {
  "kernelspec": {
   "display_name": "Julia 1.0.2",
   "language": "julia",
   "name": "julia-1.0"
  },
  "language_info": {
   "file_extension": ".jl",
   "mimetype": "application/julia",
   "name": "julia",
   "version": "1.0.2"
  }
 },
 "nbformat": 4,
 "nbformat_minor": 2
}
