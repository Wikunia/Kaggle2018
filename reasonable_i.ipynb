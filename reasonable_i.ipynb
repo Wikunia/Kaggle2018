{
 "cells": [
  {
   "cell_type": "code",
   "execution_count": 2,
   "metadata": {},
   "outputs": [],
   "source": [
    "using DelimitedFiles"
   ]
  },
  {
   "cell_type": "code",
   "execution_count": 3,
   "metadata": {},
   "outputs": [
    {
     "data": {
      "text/plain": [
       "get_reasonable_i (generic function with 1 method)"
      ]
     },
     "execution_count": 3,
     "metadata": {},
     "output_type": "execute_result"
    }
   ],
   "source": [
    "function get_reasonable_i(fn)\n",
    "    is = []\n",
    "    last_gain = 0.0\n",
    "    open(\"logs/nohup_\"*fn) do file\n",
    "        for ln in eachline(file)\n",
    "            if ln[1:2] == \"i:\"\n",
    "                splits = split(ln, \",\")\n",
    "                ci = parse(Int, split(splits[1], \" \")[end])\n",
    "                tgain = parse(Float64,split(splits[4], \" \")[end])\n",
    "                if tgain != last_gain\n",
    "                   last_gain = tgain\n",
    "                    push!(is, ci)\n",
    "                end\n",
    "            end\n",
    "        end\n",
    "    end\n",
    "    return is\n",
    "end"
   ]
  },
  {
   "cell_type": "code",
   "execution_count": 5,
   "metadata": {},
   "outputs": [],
   "source": [
    "writedlm(\"reasonable_i\", collect(Set(get_reasonable_i(\"4opt_n40_cw\"))))"
   ]
  }
 ],
 "metadata": {
  "kernelspec": {
   "display_name": "Julia 1.0.2",
   "language": "julia",
   "name": "julia-1.0"
  },
  "language_info": {
   "file_extension": ".jl",
   "mimetype": "application/julia",
   "name": "julia",
   "version": "1.0.2"
  }
 },
 "nbformat": 4,
 "nbformat_minor": 2
}
