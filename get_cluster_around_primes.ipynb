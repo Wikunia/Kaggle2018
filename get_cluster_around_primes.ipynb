{
 "cells": [
  {
   "cell_type": "code",
   "execution_count": 1,
   "metadata": {},
   "outputs": [],
   "source": [
    "using CSV, DataFrames, Distances, DelimitedFiles, Plots"
   ]
  },
  {
   "cell_type": "code",
   "execution_count": 2,
   "metadata": {},
   "outputs": [],
   "source": [
    "using HDF5, JLD"
   ]
  },
  {
   "cell_type": "code",
   "execution_count": 3,
   "metadata": {},
   "outputs": [],
   "source": [
    "cities = CSV.read(\"cities_p.csv\");"
   ]
  },
  {
   "cell_type": "code",
   "execution_count": 4,
   "metadata": {},
   "outputs": [],
   "source": [
    "primes = findall(cities[:primes] .== true);"
   ]
  },
  {
   "cell_type": "code",
   "execution_count": 12,
   "metadata": {},
   "outputs": [
    {
     "name": "stdout",
     "output_type": "stream",
     "text": [
      "Extras: 19749\n",
      "Pc: 100\n",
      "Extras: 19419\n",
      "Pc: 200\n",
      "Extras: 19309\n",
      "Pc: 300\n",
      "Extras: 19059\n",
      "Pc: 400\n",
      "Extras: 18829\n",
      "Pc: 500\n",
      "Extras: 18819\n",
      "Pc: 600\n",
      "Extras: 18549\n",
      "Pc: 700\n",
      "Extras: 18469\n",
      "Pc: 800\n",
      "Extras: 18319\n",
      "Pc: 900\n",
      "Extras: 18039\n",
      "Pc: 1000\n",
      "Extras: 17899\n",
      "Pc: 2000\n",
      "Extras: 16239\n",
      "Pc: 3000\n",
      "Extras: 15339\n",
      "Pc: 4000\n",
      "Extras: 14259\n",
      "Pc: 5000\n",
      "Extras: 12569\n",
      "Pc: 6000\n",
      "Extras: 10929\n",
      "Pc: 7000\n",
      "Extras: 8669\n",
      "Pc: 8000\n",
      "Extras: 8439\n",
      "Pc: 9000\n",
      "Extras: 7309\n",
      "Pc: 10000\n",
      "Extras: 6879\n",
      "Pc: 11000\n",
      "Extras: 6609\n",
      "Pc: 12000\n",
      "Extras: 5209\n",
      "Pc: 13000\n",
      "Extras: 4219\n",
      "Pc: 14000\n",
      "Extras: 2519\n",
      "Pc: 15000\n",
      "Extras: 1709\n",
      "Pc: 16000\n",
      "Extras: 859\n",
      "Pc: 17000\n",
      "Extras: -1\n"
     ]
    }
   ],
   "source": [
    "function get_clusters(cities)\n",
    "    prime_path = convert.(Int,readdlm(\"prime_path\"));\n",
    "    used = zeros(Bool,size(cities)[1])\n",
    "    used[1] = true\n",
    "    used[prime_path] .= true\n",
    "    pc = 1\n",
    "    cluster = Dict{Int,Vector{Int}}()\n",
    "    needed_extras = size(cities)[1]-10*length(primes)\n",
    "    println(\"Extras: \", needed_extras)\n",
    "    for p in prime_path[1:end-1]\n",
    "        if (pc % 100 == 0 && pc <= 1000) || pc % 1000 == 0\n",
    "            println(\"Pc: \", pc)\n",
    "            println(\"Extras: \", needed_extras)\n",
    "        end\n",
    "        p1 = [cities[:X][p];cities[:Y][p]]\n",
    "        unused = findall(used .== false)\n",
    "        p2s = zeros(2, length(unused))\n",
    "        p2s[1,:] = cities[:X][unused]\n",
    "        p2s[2,:] = cities[:Y][unused]\n",
    "        dist = Distances.colwise(SqEuclidean(), p1,p2s)\n",
    "        if length(dist) >= 29\n",
    "            psorted = partialsortperm(dist, 1:29)\n",
    "        else\n",
    "            psorted = collect(1:length(dist))\n",
    "        end\n",
    "        vals = 9\n",
    "        if pc == 1\n",
    "            vals = min(8,length(dist))\n",
    "        elseif needed_extras > 0 && dist[psorted[1]] < 100\n",
    "            vals = min(29,length(dist))\n",
    "            needed_extras -= 20\n",
    "        elseif needed_extras > 0 && dist[psorted[1]] < 400\n",
    "            vals = min(19,length(dist))\n",
    "            needed_extras -= 10\n",
    "        else\n",
    "            vals = min(9,length(dist))\n",
    "        end \n",
    "        cluster[p] = unused[psorted[1:vals]]    \n",
    "        used[cluster[p]] .= true\n",
    "        pc += 1\n",
    "    end\n",
    "    return cluster, used\n",
    "end\n",
    "cluster, used = get_clusters(cities);"
   ]
  },
  {
   "cell_type": "code",
   "execution_count": 13,
   "metadata": {},
   "outputs": [
    {
     "name": "stdout",
     "output_type": "stream",
     "text": [
      "0\n"
     ]
    }
   ],
   "source": [
    "println(length(used)-sum(used))"
   ]
  },
  {
   "cell_type": "code",
   "execution_count": 14,
   "metadata": {},
   "outputs": [],
   "source": [
    "save(\"clusters.jld\", \"data\", cluster)"
   ]
  },
  {
   "cell_type": "code",
   "execution_count": 8,
   "metadata": {},
   "outputs": [
    {
     "data": {
      "text/plain": [
       "2-element Array{Array{Union{Missing, Float64},1},1}:\n",
       " [316.837, 4377.41, 3454.16, 4688.1, 1010.7] \n",
       " [2202.34, 336.602, 2820.05, 2935.9, 3236.75]"
      ]
     },
     "execution_count": 8,
     "metadata": {},
     "output_type": "execute_result"
    }
   ],
   "source": [
    "[cities[:X][1:5],cities[:Y][1:5]]"
   ]
  },
  {
   "cell_type": "code",
   "execution_count": 9,
   "metadata": {},
   "outputs": [
    {
     "name": "stdout",
     "output_type": "stream",
     "text": [
      "[1 2; 1 2]\n"
     ]
    },
    {
     "data": {
      "text/plain": [
       "2-element Array{Float64,1}:\n",
       " 1.4142135623730951\n",
       " 2.8284271247461903"
      ]
     },
     "execution_count": 9,
     "metadata": {},
     "output_type": "execute_result"
    }
   ],
   "source": [
    "X = [0;0]\n",
    "Y = [1 1; 2 2]'\n",
    "println(Y)\n",
    "Distances.colwise(Euclidean(), X, Y)"
   ]
  },
  {
   "cell_type": "code",
   "execution_count": 10,
   "metadata": {},
   "outputs": [
    {
     "data": {
      "text/plain": [
       "2×2 Array{Int64,2}:\n",
       " 0  0\n",
       " 0  0"
      ]
     },
     "execution_count": 10,
     "metadata": {},
     "output_type": "execute_result"
    }
   ],
   "source": [
    "[0 0; 0 0]"
   ]
  },
  {
   "cell_type": "code",
   "execution_count": 11,
   "metadata": {},
   "outputs": [
    {
     "name": "stdout",
     "output_type": "stream",
     "text": [
      "  0.039714 seconds (64.95 k allocations: 3.283 MiB, 36.76% gc time)\n",
      "  0.017040 seconds (52.94 k allocations: 2.654 MiB)\n"
     ]
    },
    {
     "data": {
      "text/plain": [
       "2"
      ]
     },
     "execution_count": 11,
     "metadata": {},
     "output_type": "execute_result"
    }
   ],
   "source": [
    "@time euclidean([0,0],[1,1])\n",
    "@time sqeuclidean([0,0],[1,1])"
   ]
  }
 ],
 "metadata": {
  "kernelspec": {
   "display_name": "Julia 1.0.2",
   "language": "julia",
   "name": "julia-1.0"
  },
  "language_info": {
   "file_extension": ".jl",
   "mimetype": "application/julia",
   "name": "julia",
   "version": "1.0.2"
  }
 },
 "nbformat": 4,
 "nbformat_minor": 2
}
